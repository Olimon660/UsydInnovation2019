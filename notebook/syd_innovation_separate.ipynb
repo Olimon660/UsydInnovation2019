{
 "cells": [
  {
   "cell_type": "code",
   "execution_count": 1,
   "metadata": {
    "ExecuteTime": {
     "end_time": "2019-07-09T10:54:45.065650Z",
     "start_time": "2019-07-09T10:54:44.807343Z"
    },
    "_cell_guid": "b1076dfc-b9ad-4769-8c92-a6c4dae69d19",
    "_uuid": "8f2839f25d086af736a60e9eeb907d3b93b6e0e5",
    "colab": {},
    "colab_type": "code",
    "id": "gyzXRQFSY7qd"
   },
   "outputs": [],
   "source": [
    "# This Python 3 environment comes with many helpful analytics libraries installed\n",
    "# It is defined by the kaggle/python docker image: https://github.com/kaggle/docker-python\n",
    "# For example, here's several helpful packages to load in\n",
    "\n",
    "import numpy as np  # linear algebra\n",
    "import pandas as pd  # data processing, CSV file I/O (e.g. pd.read_csv)\n",
    "\n",
    "# Input data files are available in the \"../input/\" directory.\n",
    "# For example, running this (by clicking run or pressing Shift+Enter) will list the files in the input directory\n",
    "\n",
    "import os\n",
    "# Any results you write to the current directory are saved as output."
   ]
  },
  {
   "cell_type": "code",
   "execution_count": 2,
   "metadata": {
    "ExecuteTime": {
     "end_time": "2019-07-09T10:54:46.028082Z",
     "start_time": "2019-07-09T10:54:45.066653Z"
    },
    "_cell_guid": "79c7e3d0-c299-4dcb-8224-4455121ee9b0",
    "_uuid": "d629ff2d2480ee46fbb7e2d37f6b5fab8052498a",
    "colab": {},
    "colab_type": "code",
    "id": "W6mUxDRCY7qg"
   },
   "outputs": [],
   "source": [
    "import torch\n",
    "import torchvision\n",
    "from torch.utils.data import Dataset, DataLoader, WeightedRandomSampler\n",
    "import pandas as pd\n",
    "import os\n",
    "import torchvision.transforms as transforms\n",
    "from PIL import Image\n",
    "import matplotlib.pyplot as plt\n",
    "from sklearn.model_selection import train_test_split\n",
    "import torch.nn as nn\n",
    "from tqdm import tqdm, trange\n",
    "import time\n",
    "from PIL import ImageFile\n",
    "ImageFile.LOAD_TRUNCATED_IMAGES = True\n",
    "from sklearn.metrics import classification_report, accuracy_score, confusion_matrix, cohen_kappa_score\n",
    "from efficientnet_pytorch import EfficientNet"
   ]
  },
  {
   "cell_type": "code",
   "execution_count": 3,
   "metadata": {
    "ExecuteTime": {
     "end_time": "2019-07-09T10:54:46.180640Z",
     "start_time": "2019-07-09T10:54:46.029046Z"
    },
    "colab": {
     "base_uri": "https://localhost:8080/",
     "height": 34
    },
    "colab_type": "code",
    "executionInfo": {
     "elapsed": 819,
     "status": "ok",
     "timestamp": 1562386895031,
     "user": {
      "displayName": "Zhaoxiang Cai",
      "photoUrl": "",
      "userId": "16096770806947170717"
     },
     "user_tz": -600
    },
    "id": "BWSRChcqY7qj",
    "outputId": "a57b2615-08ce-41e1-80ff-731f81d0fa3a"
   },
   "outputs": [
    {
     "data": {
      "text/plain": [
       "'Tesla T4'"
      ]
     },
     "execution_count": 3,
     "metadata": {},
     "output_type": "execute_result"
    }
   ],
   "source": [
    "seed = 42\n",
    "torch.cuda.get_device_name()"
   ]
  },
  {
   "cell_type": "code",
   "execution_count": 4,
   "metadata": {
    "ExecuteTime": {
     "end_time": "2019-07-09T10:54:46.198592Z",
     "start_time": "2019-07-09T10:54:46.182667Z"
    },
    "colab": {},
    "colab_type": "code",
    "id": "VkbGeclTY7ql"
   },
   "outputs": [],
   "source": [
    "labels = pd.read_csv(\"../input/training-labels.csv\")"
   ]
  },
  {
   "cell_type": "code",
   "execution_count": 5,
   "metadata": {
    "ExecuteTime": {
     "end_time": "2019-07-09T10:54:46.217542Z",
     "start_time": "2019-07-09T10:54:46.199590Z"
    },
    "colab": {
     "base_uri": "https://localhost:8080/",
     "height": 136
    },
    "colab_type": "code",
    "executionInfo": {
     "elapsed": 1077,
     "status": "ok",
     "timestamp": 1562386908045,
     "user": {
      "displayName": "Zhaoxiang Cai",
      "photoUrl": "",
      "userId": "16096770806947170717"
     },
     "user_tz": -600
    },
    "id": "vGps3t0TY7qn",
    "outputId": "d45d84e1-c685-4dd3-ed34-ae50fc3ad3f6"
   },
   "outputs": [
    {
     "data": {
      "text/plain": [
       "Drscore\n",
       "0    9846\n",
       "1    1027\n",
       "2    2300\n",
       "3     648\n",
       "4     324\n",
       "dtype: int64"
      ]
     },
     "execution_count": 5,
     "metadata": {},
     "output_type": "execute_result"
    }
   ],
   "source": [
    "labels.groupby(['Drscore']).size()"
   ]
  },
  {
   "cell_type": "code",
   "execution_count": 6,
   "metadata": {},
   "outputs": [],
   "source": [
    "tif_labels = labels[labels['Filename'].str.endswith(\"tif\")]\n",
    "jpeg_labels = labels[labels['Filename'].str.endswith(\"jpeg\")]\n",
    "jpg_labels = labels[labels['Filename'].str.endswith(\"jpg\")]"
   ]
  },
  {
   "cell_type": "code",
   "execution_count": 7,
   "metadata": {},
   "outputs": [
    {
     "name": "stdout",
     "output_type": "stream",
     "text": [
      "(1200, 2)\n",
      "(12532, 2)\n",
      "(413, 2)\n"
     ]
    }
   ],
   "source": [
    "print(tif_labels.shape)\n",
    "print(jpeg_labels.shape)\n",
    "print(jpg_labels.shape)"
   ]
  },
  {
   "cell_type": "code",
   "execution_count": 8,
   "metadata": {
    "ExecuteTime": {
     "end_time": "2019-07-09T14:06:29.539231Z",
     "start_time": "2019-07-09T14:06:29.536238Z"
    },
    "colab": {},
    "colab_type": "code",
    "id": "tAlrsNF-Y7qx"
   },
   "outputs": [],
   "source": [
    "BATCH_SIZE = 2**4\n",
    "NUM_WORKERS = 4\n",
    "LEARNING_RATE = 5e-5\n",
    "NUM_EPOCHS = 20\n",
    "LOG_FREQ = 50\n",
    "TIME_LIMIT = 8 * 60 * 60\n",
    "torch.cuda.empty_cache()"
   ]
  },
  {
   "cell_type": "code",
   "execution_count": 9,
   "metadata": {},
   "outputs": [],
   "source": [
    "device = 'cuda' if torch.cuda.is_available() else 'cpu'"
   ]
  },
  {
   "cell_type": "markdown",
   "metadata": {},
   "source": [
    "# classes & functions"
   ]
  },
  {
   "cell_type": "code",
   "execution_count": 27,
   "metadata": {
    "ExecuteTime": {
     "end_time": "2019-07-09T10:54:46.512754Z",
     "start_time": "2019-07-09T10:54:46.504801Z"
    },
    "colab": {},
    "colab_type": "code",
    "id": "RQ1ww41-Y7qr"
   },
   "outputs": [],
   "source": [
    "class ImageDataset(Dataset):\n",
    "    def __init__(self, dataframe, mode):\n",
    "        assert mode in ['train', 'val', 'test']\n",
    "\n",
    "        self.df = dataframe\n",
    "        self.mode = mode\n",
    "\n",
    "        transforms_list = [\n",
    "            transforms.Resize(512),\n",
    "            transforms.CenterCrop(512)\n",
    "        ]\n",
    "\n",
    "        if self.mode == 'train':\n",
    "            transforms_list.extend([\n",
    "                transforms.RandomHorizontalFlip(),\n",
    "                transforms.RandomChoice([\n",
    "                    transforms.ColorJitter(0.2, 0.2, 0.2, 0.2),\n",
    "                    transforms.RandomAffine(degrees=15, translate=(0.2, 0.2),\n",
    "                                            scale=(0.8, 1.2),\n",
    "                                            resample=Image.BILINEAR)\n",
    "                ])\n",
    "            ])\n",
    "\n",
    "        transforms_list.extend([\n",
    "            transforms.ToTensor(),\n",
    "#             transforms.Normalize(mean=[0.485, 0.456, 0.406],\n",
    "#                                   std=[0.229, 0.224, 0.225]),\n",
    "        ])\n",
    "        self.transforms = transforms.Compose(transforms_list)\n",
    "\n",
    "    def __getitem__(self, index):\n",
    "        ''' Returns: tuple (sample, target) '''\n",
    "        filename = self.df['Filename'].values[index]\n",
    "\n",
    "        directory = '../input/Test' if self.mode == 'test' else '../input/output_combined2'\n",
    "        sample = Image.open(f'./{directory}/{filename}')\n",
    "\n",
    "        assert sample.mode == 'RGB'\n",
    "\n",
    "        image = self.transforms(sample)\n",
    "\n",
    "        if self.mode == 'test':\n",
    "            return image\n",
    "        else:\n",
    "            return image, self.df['Drscore'].values[index]\n",
    "\n",
    "    def __len__(self):\n",
    "        return self.df.shape[0]\n"
   ]
  },
  {
   "cell_type": "code",
   "execution_count": 28,
   "metadata": {
    "ExecuteTime": {
     "end_time": "2019-07-09T14:05:04.528235Z",
     "start_time": "2019-07-09T14:05:04.522251Z"
    },
    "colab": {},
    "colab_type": "code",
    "id": "uCEQvEt-Y7qt"
   },
   "outputs": [],
   "source": [
    "def GAP(predicts: torch.Tensor, confs: torch.Tensor, targets: torch.Tensor):\n",
    "    ''' Simplified GAP@1 metric: only one prediction per sample is supported '''\n",
    "    assert len(predicts.shape) == 1\n",
    "    assert len(confs.shape) == 1\n",
    "    assert len(targets.shape) == 1\n",
    "    assert predicts.shape == confs.shape and confs.shape == targets.shape\n",
    "\n",
    "    confs = confs.cpu().numpy()\n",
    "    predicts = predicts.cpu().numpy()\n",
    "    targets = targets.cpu().numpy()\n",
    "\n",
    "    res = accuracy_score(targets, predicts)\n",
    "    return res"
   ]
  },
  {
   "cell_type": "code",
   "execution_count": 29,
   "metadata": {
    "ExecuteTime": {
     "end_time": "2019-07-09T10:54:47.371483Z",
     "start_time": "2019-07-09T10:54:47.367467Z"
    },
    "colab": {},
    "colab_type": "code",
    "id": "MJXokEE1Y7qv"
   },
   "outputs": [],
   "source": [
    "class AverageMeter:\n",
    "    ''' Computes and stores the average and current value '''\n",
    "    def __init__(self):\n",
    "        self.reset()\n",
    "\n",
    "    def reset(self):\n",
    "        self.val = 0.0\n",
    "        self.avg = 0.0\n",
    "        self.sum = 0.0\n",
    "        self.count = 0\n",
    "\n",
    "    def update(self, val, n = 1) :\n",
    "        self.val = val\n",
    "        self.sum += val * n\n",
    "        self.count += n\n",
    "        self.avg = self.sum / self.count\n"
   ]
  },
  {
   "cell_type": "code",
   "execution_count": 30,
   "metadata": {
    "ExecuteTime": {
     "end_time": "2019-07-09T10:54:49.325117Z",
     "start_time": "2019-07-09T10:54:49.318166Z"
    },
    "colab": {},
    "colab_type": "code",
    "id": "ULH-ur5YY7q4"
   },
   "outputs": [],
   "source": [
    "def train(train_loader, model, criterion, optimizer, epoch, logging = True):\n",
    "    batch_time = AverageMeter()\n",
    "    losses = AverageMeter()\n",
    "    avg_score = AverageMeter()\n",
    "\n",
    "    model.train()\n",
    "    num_steps = len(train_loader)\n",
    "\n",
    "    end = time.time()\n",
    "    lr_str = ''\n",
    "\n",
    "    for i, (input_, target) in enumerate(train_loader):\n",
    "        if i >= num_steps:\n",
    "            break\n",
    "\n",
    "        output = model(input_.to(device))\n",
    "        loss = criterion(output, target.to(device))\n",
    "\n",
    "        confs, predicts = torch.max(output.detach(), dim=1)\n",
    "        avg_score.update(GAP(predicts, confs, target))\n",
    "\n",
    "        losses.update(loss.data.item(), input_.size(0))\n",
    "        optimizer.zero_grad()\n",
    "        loss.backward()\n",
    "        optimizer.step()\n",
    "\n",
    "        batch_time.update(time.time() - end)\n",
    "        end = time.time()\n",
    "\n",
    "        if logging and i % LOG_FREQ == 0:\n",
    "            print(f'{epoch} [{i}/{num_steps}]\\t'\n",
    "                        f'time {batch_time.val:.3f} ({batch_time.avg:.3f})\\t'\n",
    "                        f'loss {losses.val:.4f} ({losses.avg:.4f})\\t'\n",
    "                        f'GAP {avg_score.val:.4f} ({avg_score.avg:.4f})'\n",
    "                        + lr_str)\n",
    "        if has_time_run_out():\n",
    "            break\n",
    "\n",
    "    print(f' * average GAP on train {avg_score.avg:.4f}')\n",
    "    return avg_score.avg"
   ]
  },
  {
   "cell_type": "code",
   "execution_count": 31,
   "metadata": {
    "ExecuteTime": {
     "end_time": "2019-07-09T10:54:49.735849Z",
     "start_time": "2019-07-09T10:54:49.729871Z"
    },
    "colab": {},
    "colab_type": "code",
    "id": "qU4-dnFhY7q6"
   },
   "outputs": [],
   "source": [
    "def inference(data_loader, model):\n",
    "    ''' Returns predictions and targets, if any. '''\n",
    "    model.eval()\n",
    "\n",
    "    activation = nn.Softmax(dim=1)\n",
    "    all_predicts, all_confs, all_targets = [], [], []\n",
    "\n",
    "    with torch.no_grad():\n",
    "        for i, data in enumerate(data_loader):\n",
    "            if data_loader.dataset.mode != 'test':\n",
    "                input_, target = data\n",
    "            else:\n",
    "                input_, target = data, None\n",
    "\n",
    "            output = model(input_.to(device))\n",
    "            output = activation(output)\n",
    "\n",
    "            confs, predicts = torch.topk(output, 1)\n",
    "            all_confs.append(confs)\n",
    "            all_predicts.append(predicts)\n",
    "\n",
    "            if target is not None:\n",
    "                all_targets.append(target)\n",
    "\n",
    "    predicts = torch.cat(all_predicts)\n",
    "    confs = torch.cat(all_confs)\n",
    "    targets = torch.cat(all_targets) if len(all_targets) else None\n",
    "\n",
    "    return predicts, confs, targets"
   ]
  },
  {
   "cell_type": "code",
   "execution_count": 32,
   "metadata": {
    "ExecuteTime": {
     "end_time": "2019-07-09T10:54:50.123515Z",
     "start_time": "2019-07-09T10:54:50.119526Z"
    },
    "colab": {},
    "colab_type": "code",
    "id": "Z-b-DfYuWKjQ"
   },
   "outputs": [],
   "source": [
    "def test(test_loader, model):\n",
    "    predicts, confs, targets = inference(test_loader, model)\n",
    "    predicts = predicts.cpu().numpy().flatten()\n",
    "    targets = targets.cpu().numpy().flatten()\n",
    "    return cohen_kappa_score(targets, predicts)"
   ]
  },
  {
   "cell_type": "code",
   "execution_count": 33,
   "metadata": {
    "ExecuteTime": {
     "end_time": "2019-07-09T10:54:50.388768Z",
     "start_time": "2019-07-09T10:54:50.383782Z"
    },
    "colab": {},
    "colab_type": "code",
    "id": "cl9PIY6rVl9-"
   },
   "outputs": [],
   "source": [
    "def train_loop(epochs, train_loader, test_loader, model, criterion, optimizer, \n",
    "               validate=True):\n",
    "    \n",
    "    train_res = []\n",
    "    test_res = []\n",
    "    for epoch in range(1, epochs + 1):\n",
    "        start_time = time.time()\n",
    "        train_acc = train(train_loader, model, criterion, optimizer, epoch, logging=True)\n",
    "        if has_time_run_out():\n",
    "            break\n",
    "        train_res.append(train_acc)\n",
    "\n",
    "        if validate:\n",
    "            test_acc = test(test_loader, model)\n",
    "            test_res.append(test_acc)\n",
    "            print(f\"validation score: {test_acc}\")\n",
    "            \n",
    "    return train_res, test_res"
   ]
  },
  {
   "cell_type": "code",
   "execution_count": 34,
   "metadata": {},
   "outputs": [],
   "source": [
    "def generate_submission(test_loader, model, label_encoder):\n",
    "    sample_sub = pd.read_csv('../SampleSubmission.csv')\n",
    "\n",
    "    predicts_gpu, confs_gpu, _ = inference(test_loader, model)\n",
    "    predicts, confs = predicts_gpu.cpu().numpy(), confs_gpu.cpu().numpy()\n",
    "\n",
    "    labels = [label_encoder.inverse_transform(pred) for pred in predicts]\n",
    "    print('labels')\n",
    "    print(np.array(labels))\n",
    "    print('confs')\n",
    "    print(np.array(confs))\n",
    "\n",
    "    sub = test_loader.dataset.df\n",
    "    def concat(label: np.ndarray, conf: np.ndarray) -> str:\n",
    "        return ' '.join([f'{L} {c}' for L, c in zip(label, conf)])\n",
    "    sub['landmarks'] = [concat(label, conf) for label, conf in zip(labels, confs)]\n",
    "\n",
    "    sample_sub = sample_sub.set_index('id')\n",
    "    sub = sub.set_index('id')\n",
    "    sample_sub.update(sub)\n",
    "\n",
    "    sample_sub.to_csv('submission.csv')"
   ]
  },
  {
   "cell_type": "code",
   "execution_count": 35,
   "metadata": {
    "ExecuteTime": {
     "end_time": "2019-07-09T10:54:50.719409Z",
     "start_time": "2019-07-09T10:54:50.716417Z"
    },
    "colab": {},
    "colab_type": "code",
    "id": "0eef4m_rY7q7"
   },
   "outputs": [],
   "source": [
    "def has_time_run_out() -> bool:\n",
    "    return time.time() - global_start_time > TIME_LIMIT - 1000"
   ]
  },
  {
   "cell_type": "markdown",
   "metadata": {
    "heading_collapsed": true
   },
   "source": [
    "# tif model"
   ]
  },
  {
   "cell_type": "code",
   "execution_count": 18,
   "metadata": {
    "ExecuteTime": {
     "end_time": "2019-07-09T10:54:46.268405Z",
     "start_time": "2019-07-09T10:54:46.253473Z"
    },
    "colab": {},
    "colab_type": "code",
    "hidden": true,
    "id": "BlvC_5MAY7qp"
   },
   "outputs": [],
   "source": [
    "train_df, val_df = train_test_split(tif_labels, test_size=0.2,stratify=tif_labels['Drscore'], random_state = seed)"
   ]
  },
  {
   "cell_type": "code",
   "execution_count": 19,
   "metadata": {
    "ExecuteTime": {
     "end_time": "2019-07-09T10:54:48.622689Z",
     "start_time": "2019-07-09T10:54:48.617702Z"
    },
    "colab": {},
    "colab_type": "code",
    "hidden": true,
    "id": "NbiWHJ2zY7q0"
   },
   "outputs": [],
   "source": [
    "train_dataset = ImageDataset(train_df, mode='train')\n",
    "val_dataset = ImageDataset(val_df, mode='val')\n",
    "train_loader = DataLoader(train_dataset, batch_size=BATCH_SIZE,\n",
    "                          drop_last=True, shuffle=True, num_workers=NUM_WORKERS)\n",
    "\n",
    "val_loader = DataLoader(val_dataset, batch_size=BATCH_SIZE,\n",
    "                        shuffle=False, num_workers=NUM_WORKERS)"
   ]
  },
  {
   "cell_type": "code",
   "execution_count": 20,
   "metadata": {
    "ExecuteTime": {
     "end_time": "2019-07-09T10:54:54.231885Z",
     "start_time": "2019-07-09T10:54:54.014465Z"
    },
    "colab": {
     "base_uri": "https://localhost:8080/",
     "height": 88
    },
    "colab_type": "code",
    "executionInfo": {
     "elapsed": 1921,
     "status": "ok",
     "timestamp": 1562386919818,
     "user": {
      "displayName": "Zhaoxiang Cai",
      "photoUrl": "",
      "userId": "16096770806947170717"
     },
     "user_tz": -600
    },
    "hidden": true,
    "id": "NABg4PqmxNpj",
    "outputId": "f55b2153-6c93-4494-c5b7-defee883f881"
   },
   "outputs": [
    {
     "name": "stdout",
     "output_type": "stream",
     "text": [
      "Loaded pretrained weights for efficientnet-b4\n"
     ]
    }
   ],
   "source": [
    "model = EfficientNet.from_pretrained('efficientnet-b4', num_classes=5)"
   ]
  },
  {
   "cell_type": "code",
   "execution_count": 21,
   "metadata": {
    "ExecuteTime": {
     "end_time": "2019-07-09T08:41:09.261860Z",
     "start_time": "2019-07-09T08:41:09.077354Z"
    },
    "colab": {
     "base_uri": "https://localhost:8080/",
     "height": 34
    },
    "colab_type": "code",
    "executionInfo": {
     "elapsed": 9505,
     "status": "ok",
     "timestamp": 1562386932352,
     "user": {
      "displayName": "Zhaoxiang Cai",
      "photoUrl": "",
      "userId": "16096770806947170717"
     },
     "user_tz": -600
    },
    "hidden": true,
    "id": "1lVOgyixJPdc",
    "outputId": "40ecb123-bd53-45fa-ebe2-c256d2467755"
   },
   "outputs": [],
   "source": [
    "# model.load_state_dict(torch.load(\"./model/efficientnet_os.ptm\"))"
   ]
  },
  {
   "cell_type": "code",
   "execution_count": 22,
   "metadata": {
    "ExecuteTime": {
     "end_time": "2019-07-09T10:55:00.882367Z",
     "start_time": "2019-07-09T10:54:58.559493Z"
    },
    "colab": {},
    "colab_type": "code",
    "hidden": true,
    "id": "VhSNqn3nQPw-"
   },
   "outputs": [],
   "source": [
    "model = model.to(device)\n",
    "model = nn.DataParallel(model)\n",
    "criterion = nn.CrossEntropyLoss()\n",
    "optimizer = torch.optim.Adam(model.parameters(), lr=LEARNING_RATE)"
   ]
  },
  {
   "cell_type": "code",
   "execution_count": 32,
   "metadata": {
    "ExecuteTime": {
     "end_time": "2019-07-09T21:34:26.897322Z",
     "start_time": "2019-07-09T14:07:47.217899Z"
    },
    "colab": {
     "base_uri": "https://localhost:8080/",
     "height": 221
    },
    "colab_type": "code",
    "collapsed": true,
    "hidden": true,
    "id": "rUIk-bqB2LJD",
    "outputId": "13dd95d2-59da-4a31-9bac-b3e9cfccbef5"
   },
   "outputs": [
    {
     "name": "stdout",
     "output_type": "stream",
     "text": [
      "1 [0/60]\ttime 2.112 (2.112)\tloss 0.8055 (0.8055)\tGAP 0.6875 (0.6875)\n",
      "1 [50/60]\ttime 0.771 (0.801)\tloss 0.9740 (0.8530)\tGAP 0.5625 (0.6740)\n",
      " * average GAP on train 0.6677\n",
      "validation score: 0.5912850732551225\n",
      "2 [0/60]\ttime 1.909 (1.909)\tloss 0.9555 (0.9555)\tGAP 0.5000 (0.5000)\n",
      "2 [50/60]\ttime 0.762 (0.790)\tloss 0.4954 (0.8400)\tGAP 0.8750 (0.6569)\n",
      " * average GAP on train 0.6594\n",
      "validation score: 0.5841905793178127\n",
      "3 [0/60]\ttime 1.937 (1.937)\tloss 0.9015 (0.9015)\tGAP 0.5625 (0.5625)\n",
      "3 [50/60]\ttime 0.770 (0.795)\tloss 0.6690 (0.7923)\tGAP 0.7500 (0.6973)\n",
      " * average GAP on train 0.6958\n",
      "validation score: 0.5910418695228823\n",
      "4 [0/60]\ttime 1.884 (1.884)\tloss 0.7542 (0.7542)\tGAP 0.7500 (0.7500)\n",
      "4 [50/60]\ttime 0.764 (0.790)\tloss 0.7098 (0.7662)\tGAP 0.8125 (0.7034)\n",
      " * average GAP on train 0.7010\n",
      "validation score: 0.5590896627364959\n",
      "5 [0/60]\ttime 1.944 (1.944)\tloss 0.6687 (0.6687)\tGAP 0.7500 (0.7500)\n",
      "5 [50/60]\ttime 0.766 (0.794)\tloss 0.9816 (0.7554)\tGAP 0.6250 (0.6949)\n",
      " * average GAP on train 0.6969\n",
      "validation score: 0.6513470681458002\n",
      "6 [0/60]\ttime 1.990 (1.990)\tloss 0.6592 (0.6592)\tGAP 0.7500 (0.7500)\n",
      "6 [50/60]\ttime 0.767 (0.794)\tloss 0.5184 (0.7423)\tGAP 0.8125 (0.7169)\n",
      " * average GAP on train 0.7125\n",
      "validation score: 0.6486090775988287\n",
      "7 [0/60]\ttime 1.896 (1.896)\tloss 0.4762 (0.4762)\tGAP 1.0000 (1.0000)\n",
      "7 [50/60]\ttime 0.768 (0.793)\tloss 0.6054 (0.7158)\tGAP 0.8125 (0.7292)\n",
      " * average GAP on train 0.7281\n",
      "validation score: 0.5503421309872922\n",
      "8 [0/60]\ttime 1.972 (1.972)\tloss 0.5256 (0.5256)\tGAP 0.8125 (0.8125)\n",
      "8 [50/60]\ttime 0.765 (0.796)\tloss 0.6290 (0.6951)\tGAP 0.8125 (0.7414)\n",
      " * average GAP on train 0.7490\n",
      "validation score: 0.6451578836202345\n",
      "9 [0/60]\ttime 1.979 (1.979)\tloss 0.5107 (0.5107)\tGAP 0.7500 (0.7500)\n",
      "9 [50/60]\ttime 0.767 (0.793)\tloss 0.4826 (0.6239)\tGAP 0.8125 (0.7659)\n",
      " * average GAP on train 0.7812\n",
      "validation score: 0.6476140534871526\n",
      "10 [0/60]\ttime 1.891 (1.891)\tloss 0.5162 (0.5162)\tGAP 0.7500 (0.7500)\n",
      "10 [50/60]\ttime 0.761 (0.792)\tloss 0.6904 (0.5954)\tGAP 0.6250 (0.7635)\n",
      " * average GAP on train 0.7688\n",
      "validation score: 0.6246421376312162\n",
      "11 [0/60]\ttime 1.835 (1.835)\tloss 0.6166 (0.6166)\tGAP 0.5625 (0.5625)\n",
      "11 [50/60]\ttime 0.771 (0.792)\tloss 0.5699 (0.5909)\tGAP 0.8125 (0.7806)\n",
      " * average GAP on train 0.7802\n",
      "validation score: 0.6089767172964735\n",
      "12 [0/60]\ttime 1.989 (1.989)\tloss 0.6879 (0.6879)\tGAP 0.8750 (0.8750)\n",
      "12 [50/60]\ttime 0.769 (0.796)\tloss 0.4323 (0.5455)\tGAP 0.8750 (0.8015)\n",
      " * average GAP on train 0.7990\n",
      "validation score: 0.582798459563543\n",
      "13 [0/60]\ttime 1.887 (1.887)\tloss 0.3932 (0.3932)\tGAP 0.8125 (0.8125)\n",
      "13 [50/60]\ttime 0.768 (0.791)\tloss 0.3190 (0.4922)\tGAP 0.8750 (0.8223)\n",
      " * average GAP on train 0.8135\n",
      "validation score: 0.6573030790799107\n",
      "14 [0/60]\ttime 1.928 (1.928)\tloss 0.4602 (0.4602)\tGAP 0.8125 (0.8125)\n",
      "14 [50/60]\ttime 0.768 (0.794)\tloss 0.5702 (0.4791)\tGAP 0.6875 (0.8260)\n",
      " * average GAP on train 0.8135\n",
      "validation score: 0.6429130775254503\n",
      "15 [0/60]\ttime 1.988 (1.988)\tloss 0.2854 (0.2854)\tGAP 0.9375 (0.9375)\n",
      "15 [50/60]\ttime 0.768 (0.795)\tloss 0.1578 (0.4252)\tGAP 0.9375 (0.8431)\n",
      " * average GAP on train 0.8365\n",
      "validation score: 0.5971008313792369\n",
      "16 [0/60]\ttime 1.987 (1.987)\tloss 0.3776 (0.3776)\tGAP 0.8125 (0.8125)\n",
      "16 [50/60]\ttime 0.766 (0.792)\tloss 0.2366 (0.4312)\tGAP 0.9375 (0.8542)\n",
      " * average GAP on train 0.8448\n",
      "validation score: 0.6096172419051491\n",
      "17 [0/60]\ttime 1.954 (1.954)\tloss 0.2573 (0.2573)\tGAP 0.9375 (0.9375)\n",
      "17 [50/60]\ttime 0.768 (0.796)\tloss 0.5421 (0.4453)\tGAP 0.7500 (0.8260)\n",
      " * average GAP on train 0.8302\n",
      "validation score: 0.6441243446486258\n",
      "18 [0/60]\ttime 1.982 (1.982)\tloss 0.2538 (0.2538)\tGAP 0.9375 (0.9375)\n",
      "18 [50/60]\ttime 0.763 (0.795)\tloss 0.7155 (0.4010)\tGAP 0.6250 (0.8505)\n",
      " * average GAP on train 0.8531\n",
      "validation score: 0.6620952182301716\n",
      "19 [0/60]\ttime 2.024 (2.024)\tloss 0.2298 (0.2298)\tGAP 0.9375 (0.9375)\n",
      "19 [50/60]\ttime 0.771 (0.793)\tloss 0.5443 (0.3493)\tGAP 0.8125 (0.8750)\n",
      " * average GAP on train 0.8760\n",
      "validation score: 0.650091122103619\n",
      "20 [0/60]\ttime 1.949 (1.949)\tloss 0.5462 (0.5462)\tGAP 0.8750 (0.8750)\n",
      "20 [50/60]\ttime 0.765 (0.794)\tloss 0.2497 (0.3728)\tGAP 1.0000 (0.8615)\n",
      " * average GAP on train 0.8688\n",
      "validation score: 0.645457423235201\n"
     ]
    }
   ],
   "source": [
    "global_start_time = time.time()\n",
    "train_res, test_res = train_loop(NUM_EPOCHS, train_loader, val_loader, model, criterion, optimizer)"
   ]
  },
  {
   "cell_type": "code",
   "execution_count": 36,
   "metadata": {
    "ExecuteTime": {
     "end_time": "2019-07-09T21:34:27.095829Z",
     "start_time": "2019-07-09T21:34:26.913281Z"
    },
    "colab": {},
    "colab_type": "code",
    "hidden": true,
    "id": "Pt3sseSLY7rJ"
   },
   "outputs": [],
   "source": [
    "torch.save(model.state_dict(), \"../model/efficientnet_tif.ptm\")"
   ]
  },
  {
   "cell_type": "code",
   "execution_count": 41,
   "metadata": {
    "ExecuteTime": {
     "end_time": "2019-07-09T21:34:27.129914Z",
     "start_time": "2019-07-09T21:34:27.096735Z"
    },
    "hidden": true
   },
   "outputs": [],
   "source": [
    "df = pd.DataFrame({'train':train_res, 'val':test_res})"
   ]
  },
  {
   "cell_type": "code",
   "execution_count": 43,
   "metadata": {
    "ExecuteTime": {
     "end_time": "2019-07-09T21:34:27.244530Z",
     "start_time": "2019-07-09T21:34:27.164712Z"
    },
    "colab": {},
    "colab_type": "code",
    "hidden": true,
    "id": "0CSp229_eVx6"
   },
   "outputs": [],
   "source": [
    "df.to_csv(\"../logs/efficientnet_tif_log.csv\", index=False)"
   ]
  },
  {
   "cell_type": "code",
   "execution_count": 33,
   "metadata": {
    "ExecuteTime": {
     "end_time": "2019-07-09T14:02:27.760691Z",
     "start_time": "2019-07-09T13:55:18.940336Z"
    },
    "colab": {},
    "colab_type": "code",
    "hidden": true,
    "id": "qzkBpCP-sxRS"
   },
   "outputs": [],
   "source": [
    "predicts, confs, targets = inference(val_loader, model)"
   ]
  },
  {
   "cell_type": "code",
   "execution_count": 34,
   "metadata": {
    "ExecuteTime": {
     "end_time": "2019-07-09T14:02:27.805571Z",
     "start_time": "2019-07-09T14:02:27.798591Z"
    },
    "hidden": true
   },
   "outputs": [
    {
     "data": {
      "text/plain": [
       "array([[104,   2,   2,   1],\n",
       "       [ 21,   3,   7,   0],\n",
       "       [  8,   3,  34,   4],\n",
       "       [  0,   0,   8,  43]])"
      ]
     },
     "execution_count": 34,
     "metadata": {},
     "output_type": "execute_result"
    }
   ],
   "source": [
    "confusion_matrix(targets.cpu(), predicts.cpu())"
   ]
  },
  {
   "cell_type": "code",
   "execution_count": 35,
   "metadata": {
    "ExecuteTime": {
     "end_time": "2019-07-09T14:02:27.817539Z",
     "start_time": "2019-07-09T14:02:27.807566Z"
    },
    "hidden": true
   },
   "outputs": [
    {
     "data": {
      "text/plain": [
       "0.645457423235201"
      ]
     },
     "execution_count": 35,
     "metadata": {},
     "output_type": "execute_result"
    }
   ],
   "source": [
    "cohen_kappa_score(targets.cpu(), predicts.cpu())"
   ]
  },
  {
   "cell_type": "markdown",
   "metadata": {},
   "source": [
    "# jpg model"
   ]
  },
  {
   "cell_type": "code",
   "execution_count": 36,
   "metadata": {},
   "outputs": [],
   "source": [
    "train_df, val_df = train_test_split(jpg_labels, test_size=0.2,stratify=jpg_labels['Drscore'], random_state = seed)"
   ]
  },
  {
   "cell_type": "code",
   "execution_count": 37,
   "metadata": {
    "ExecuteTime": {
     "end_time": "2019-07-09T10:54:48.622689Z",
     "start_time": "2019-07-09T10:54:48.617702Z"
    },
    "colab": {},
    "colab_type": "code",
    "id": "NbiWHJ2zY7q0"
   },
   "outputs": [],
   "source": [
    "train_dataset = ImageDataset(train_df, mode='train')\n",
    "val_dataset = ImageDataset(val_df, mode='val')\n",
    "train_loader = DataLoader(train_dataset, batch_size=BATCH_SIZE,\n",
    "                          drop_last=True, shuffle=True, num_workers=NUM_WORKERS)\n",
    "\n",
    "val_loader = DataLoader(val_dataset, batch_size=BATCH_SIZE,\n",
    "                        shuffle=False, num_workers=NUM_WORKERS)"
   ]
  },
  {
   "cell_type": "code",
   "execution_count": 40,
   "metadata": {},
   "outputs": [
    {
     "data": {
      "text/plain": [
       "<matplotlib.image.AxesImage at 0x7f2d5ccae898>"
      ]
     },
     "execution_count": 40,
     "metadata": {},
     "output_type": "execute_result"
    },
    {
     "data": {
      "image/png": "[encoded data removed]",
      "text/plain": [
       "<Figure size 432x288 with 1 Axes>"
      ]
     },
     "metadata": {
      "needs_background": "light"
     },
     "output_type": "display_data"
    }
   ],
   "source": [
    "plt.imshow(train_dataset[120][0].permute(1, 2, 0))"
   ]
  },
  {
   "cell_type": "code",
   "execution_count": 46,
   "metadata": {
    "ExecuteTime": {
     "end_time": "2019-07-09T10:54:54.231885Z",
     "start_time": "2019-07-09T10:54:54.014465Z"
    },
    "colab": {
     "base_uri": "https://localhost:8080/",
     "height": 88
    },
    "colab_type": "code",
    "executionInfo": {
     "elapsed": 1921,
     "status": "ok",
     "timestamp": 1562386919818,
     "user": {
      "displayName": "Zhaoxiang Cai",
      "photoUrl": "",
      "userId": "16096770806947170717"
     },
     "user_tz": -600
    },
    "id": "NABg4PqmxNpj",
    "outputId": "f55b2153-6c93-4494-c5b7-defee883f881"
   },
   "outputs": [
    {
     "name": "stdout",
     "output_type": "stream",
     "text": [
      "Loaded pretrained weights for efficientnet-b4\n"
     ]
    }
   ],
   "source": [
    "model = EfficientNet.from_pretrained('efficientnet-b4', num_classes=5)"
   ]
  },
  {
   "cell_type": "code",
   "execution_count": 47,
   "metadata": {
    "ExecuteTime": {
     "end_time": "2019-07-09T08:41:09.261860Z",
     "start_time": "2019-07-09T08:41:09.077354Z"
    },
    "colab": {
     "base_uri": "https://localhost:8080/",
     "height": 34
    },
    "colab_type": "code",
    "executionInfo": {
     "elapsed": 9505,
     "status": "ok",
     "timestamp": 1562386932352,
     "user": {
      "displayName": "Zhaoxiang Cai",
      "photoUrl": "",
      "userId": "16096770806947170717"
     },
     "user_tz": -600
    },
    "id": "1lVOgyixJPdc",
    "outputId": "40ecb123-bd53-45fa-ebe2-c256d2467755"
   },
   "outputs": [],
   "source": [
    "# model.load_state_dict(torch.load(\"./model/efficientnet_os.ptm\"))"
   ]
  },
  {
   "cell_type": "code",
   "execution_count": 48,
   "metadata": {
    "ExecuteTime": {
     "end_time": "2019-07-09T10:55:00.882367Z",
     "start_time": "2019-07-09T10:54:58.559493Z"
    },
    "colab": {},
    "colab_type": "code",
    "id": "VhSNqn3nQPw-"
   },
   "outputs": [],
   "source": [
    "model = model.to(device)\n",
    "model = nn.DataParallel(model)\n",
    "criterion = nn.CrossEntropyLoss()\n",
    "optimizer = torch.optim.Adam(model.parameters(), lr=LEARNING_RATE)"
   ]
  },
  {
   "cell_type": "code",
   "execution_count": 61,
   "metadata": {
    "ExecuteTime": {
     "end_time": "2019-07-09T21:34:26.897322Z",
     "start_time": "2019-07-09T14:07:47.217899Z"
    },
    "colab": {
     "base_uri": "https://localhost:8080/",
     "height": 221
    },
    "colab_type": "code",
    "id": "rUIk-bqB2LJD",
    "outputId": "13dd95d2-59da-4a31-9bac-b3e9cfccbef5"
   },
   "outputs": [
    {
     "name": "stdout",
     "output_type": "stream",
     "text": [
      "1 [0/20]\ttime 4.766 (4.766)\tloss 0.1682 (0.1682)\tGAP 0.9375 (0.9375)\n",
      " * average GAP on train 0.9375\n",
      "validation score: 0.5837512537612839\n",
      "2 [0/20]\ttime 4.503 (4.503)\tloss 0.1436 (0.1436)\tGAP 1.0000 (1.0000)\n",
      " * average GAP on train 0.9313\n",
      "validation score: 0.5829983922829582\n",
      "3 [0/20]\ttime 4.438 (4.438)\tloss 0.1311 (0.1311)\tGAP 1.0000 (1.0000)\n",
      " * average GAP on train 0.9344\n",
      "validation score: 0.5550039714058776\n",
      "4 [0/20]\ttime 4.678 (4.678)\tloss 0.1351 (0.1351)\tGAP 1.0000 (1.0000)\n",
      " * average GAP on train 0.9344\n",
      "validation score: 0.5700338712891014\n",
      "5 [0/20]\ttime 4.990 (4.990)\tloss 0.1279 (0.1279)\tGAP 0.9375 (0.9375)\n",
      " * average GAP on train 0.9437\n",
      "validation score: 0.565269943593876\n",
      "6 [0/20]\ttime 4.545 (4.545)\tloss 0.2107 (0.2107)\tGAP 0.8750 (0.8750)\n",
      " * average GAP on train 0.9187\n",
      "validation score: 0.5658821162743914\n",
      "7 [0/20]\ttime 4.539 (4.539)\tloss 0.1257 (0.1257)\tGAP 1.0000 (1.0000)\n",
      " * average GAP on train 0.9219\n",
      "validation score: 0.601998001998002\n",
      "8 [0/20]\ttime 4.694 (4.694)\tloss 0.1414 (0.1414)\tGAP 1.0000 (1.0000)\n",
      " * average GAP on train 0.9500\n",
      "validation score: 0.5710594315245477\n",
      "9 [0/20]\ttime 4.767 (4.767)\tloss 0.0678 (0.0678)\tGAP 1.0000 (1.0000)\n",
      " * average GAP on train 0.9719\n",
      "validation score: 0.588946117274168\n",
      "10 [0/20]\ttime 4.698 (4.698)\tloss 0.2211 (0.2211)\tGAP 0.8750 (0.8750)\n",
      " * average GAP on train 0.9375\n",
      "validation score: 0.602474555976851\n",
      "11 [0/20]\ttime 4.671 (4.671)\tloss 0.1438 (0.1438)\tGAP 0.9375 (0.9375)\n",
      " * average GAP on train 0.9531\n",
      "validation score: 0.567967967967968\n",
      "12 [0/20]\ttime 4.677 (4.677)\tloss 0.0515 (0.0515)\tGAP 1.0000 (1.0000)\n",
      " * average GAP on train 0.9344\n",
      "validation score: 0.6025538707102953\n",
      "13 [0/20]\ttime 4.567 (4.567)\tloss 0.1258 (0.1258)\tGAP 1.0000 (1.0000)\n",
      " * average GAP on train 0.9437\n",
      "validation score: 0.6209293089753773\n",
      "14 [0/20]\ttime 4.657 (4.657)\tloss 0.0398 (0.0398)\tGAP 1.0000 (1.0000)\n",
      " * average GAP on train 0.9656\n",
      "validation score: 0.5879666401906276\n",
      "15 [0/20]\ttime 4.688 (4.688)\tloss 0.1674 (0.1674)\tGAP 1.0000 (1.0000)\n",
      " * average GAP on train 0.9688\n",
      "validation score: 0.5899209486166008\n",
      "16 [0/20]\ttime 4.667 (4.667)\tloss 0.1418 (0.1418)\tGAP 1.0000 (1.0000)\n",
      " * average GAP on train 0.9625\n",
      "validation score: 0.6061684460260972\n",
      "17 [0/20]\ttime 4.504 (4.504)\tloss 0.1026 (0.1026)\tGAP 1.0000 (1.0000)\n",
      " * average GAP on train 0.9563\n",
      "validation score: 0.6342880032044863\n",
      "18 [0/20]\ttime 4.353 (4.353)\tloss 0.0784 (0.0784)\tGAP 1.0000 (1.0000)\n",
      " * average GAP on train 0.9656\n",
      "validation score: 0.5987107171635777\n",
      "19 [0/20]\ttime 4.554 (4.554)\tloss 0.0310 (0.0310)\tGAP 1.0000 (1.0000)\n",
      " * average GAP on train 0.9594\n",
      "validation score: 0.6046834689422504\n",
      "20 [0/20]\ttime 4.510 (4.510)\tloss 0.1055 (0.1055)\tGAP 1.0000 (1.0000)\n",
      " * average GAP on train 0.9563\n",
      "validation score: 0.6044479745830025\n"
     ]
    }
   ],
   "source": [
    "global_start_time = time.time()\n",
    "train_res, test_res = train_loop(NUM_EPOCHS, train_loader, val_loader, model, criterion, optimizer)"
   ]
  },
  {
   "cell_type": "code",
   "execution_count": 62,
   "metadata": {
    "ExecuteTime": {
     "end_time": "2019-07-09T14:02:27.760691Z",
     "start_time": "2019-07-09T13:55:18.940336Z"
    },
    "colab": {},
    "colab_type": "code",
    "id": "qzkBpCP-sxRS"
   },
   "outputs": [],
   "source": [
    "predicts, confs, targets = inference(val_loader, model)"
   ]
  },
  {
   "cell_type": "code",
   "execution_count": 63,
   "metadata": {
    "ExecuteTime": {
     "end_time": "2019-07-09T14:02:27.805571Z",
     "start_time": "2019-07-09T14:02:27.798591Z"
    }
   },
   "outputs": [
    {
     "data": {
      "text/plain": [
       "array([[27,  0,  0,  0,  0],\n",
       "       [ 4,  0,  0,  0,  0],\n",
       "       [ 6,  0, 13,  8,  0],\n",
       "       [ 0,  0,  2, 12,  1],\n",
       "       [ 2,  0,  0,  1,  7]])"
      ]
     },
     "execution_count": 63,
     "metadata": {},
     "output_type": "execute_result"
    }
   ],
   "source": [
    "confusion_matrix(targets.cpu(), predicts.cpu())"
   ]
  },
  {
   "cell_type": "code",
   "execution_count": 64,
   "metadata": {
    "ExecuteTime": {
     "end_time": "2019-07-09T14:02:27.817539Z",
     "start_time": "2019-07-09T14:02:27.807566Z"
    }
   },
   "outputs": [
    {
     "data": {
      "text/plain": [
       "0.6044479745830025"
      ]
     },
     "execution_count": 64,
     "metadata": {},
     "output_type": "execute_result"
    }
   ],
   "source": [
    "cohen_kappa_score(targets.cpu(), predicts.cpu())"
   ]
  },
  {
   "cell_type": "code",
   "execution_count": 65,
   "metadata": {
    "ExecuteTime": {
     "end_time": "2019-07-09T21:34:27.095829Z",
     "start_time": "2019-07-09T21:34:26.913281Z"
    },
    "colab": {},
    "colab_type": "code",
    "id": "Pt3sseSLY7rJ"
   },
   "outputs": [],
   "source": [
    "torch.save(model.state_dict(), \"../model/efficientnet_jpg.ptm\")"
   ]
  },
  {
   "cell_type": "markdown",
   "metadata": {},
   "source": [
    "# jpeg model"
   ]
  },
  {
   "cell_type": "code",
   "execution_count": 68,
   "metadata": {},
   "outputs": [],
   "source": [
    "train_df, val_df = train_test_split(jpeg_labels, test_size=0.2,stratify=jpeg_labels['Drscore'], random_state = seed)"
   ]
  },
  {
   "cell_type": "code",
   "execution_count": 69,
   "metadata": {
    "ExecuteTime": {
     "end_time": "2019-07-09T10:54:48.622689Z",
     "start_time": "2019-07-09T10:54:48.617702Z"
    },
    "colab": {},
    "colab_type": "code",
    "id": "NbiWHJ2zY7q0"
   },
   "outputs": [],
   "source": [
    "train_dataset = ImageDataset(train_df, mode='train')\n",
    "val_dataset = ImageDataset(val_df, mode='val')\n",
    "train_loader = DataLoader(train_dataset, batch_size=BATCH_SIZE,\n",
    "                          drop_last=True, shuffle=True, num_workers=NUM_WORKERS)\n",
    "\n",
    "val_loader = DataLoader(val_dataset, batch_size=BATCH_SIZE,\n",
    "                        shuffle=False, num_workers=NUM_WORKERS)"
   ]
  },
  {
   "cell_type": "code",
   "execution_count": 70,
   "metadata": {
    "ExecuteTime": {
     "end_time": "2019-07-09T10:54:54.231885Z",
     "start_time": "2019-07-09T10:54:54.014465Z"
    },
    "colab": {
     "base_uri": "https://localhost:8080/",
     "height": 88
    },
    "colab_type": "code",
    "executionInfo": {
     "elapsed": 1921,
     "status": "ok",
     "timestamp": 1562386919818,
     "user": {
      "displayName": "Zhaoxiang Cai",
      "photoUrl": "",
      "userId": "16096770806947170717"
     },
     "user_tz": -600
    },
    "id": "NABg4PqmxNpj",
    "outputId": "f55b2153-6c93-4494-c5b7-defee883f881"
   },
   "outputs": [
    {
     "name": "stdout",
     "output_type": "stream",
     "text": [
      "Loaded pretrained weights for efficientnet-b4\n"
     ]
    }
   ],
   "source": [
    "model = EfficientNet.from_pretrained('efficientnet-b4', num_classes=5)"
   ]
  },
  {
   "cell_type": "code",
   "execution_count": 71,
   "metadata": {
    "ExecuteTime": {
     "end_time": "2019-07-09T08:41:09.261860Z",
     "start_time": "2019-07-09T08:41:09.077354Z"
    },
    "colab": {
     "base_uri": "https://localhost:8080/",
     "height": 34
    },
    "colab_type": "code",
    "executionInfo": {
     "elapsed": 9505,
     "status": "ok",
     "timestamp": 1562386932352,
     "user": {
      "displayName": "Zhaoxiang Cai",
      "photoUrl": "",
      "userId": "16096770806947170717"
     },
     "user_tz": -600
    },
    "id": "1lVOgyixJPdc",
    "outputId": "40ecb123-bd53-45fa-ebe2-c256d2467755"
   },
   "outputs": [],
   "source": [
    "# model.load_state_dict(torch.load(\"./model/efficientnet_os.ptm\"))"
   ]
  },
  {
   "cell_type": "code",
   "execution_count": 72,
   "metadata": {
    "ExecuteTime": {
     "end_time": "2019-07-09T10:55:00.882367Z",
     "start_time": "2019-07-09T10:54:58.559493Z"
    },
    "colab": {},
    "colab_type": "code",
    "id": "VhSNqn3nQPw-"
   },
   "outputs": [],
   "source": [
    "model = model.to(device)\n",
    "model = nn.DataParallel(model)\n",
    "criterion = nn.CrossEntropyLoss()\n",
    "optimizer = torch.optim.Adam(model.parameters(), lr=LEARNING_RATE)"
   ]
  },
  {
   "cell_type": "code",
   "execution_count": 73,
   "metadata": {
    "ExecuteTime": {
     "end_time": "2019-07-09T21:34:26.897322Z",
     "start_time": "2019-07-09T14:07:47.217899Z"
    },
    "colab": {
     "base_uri": "https://localhost:8080/",
     "height": 221
    },
    "colab_type": "code",
    "id": "rUIk-bqB2LJD",
    "outputId": "13dd95d2-59da-4a31-9bac-b3e9cfccbef5"
   },
   "outputs": [
    {
     "name": "stdout",
     "output_type": "stream",
     "text": [
      "1 [0/626]\ttime 4.208 (4.208)\tloss 1.6387 (1.6387)\tGAP 0.1875 (0.1875)\n",
      "1 [50/626]\ttime 0.783 (0.845)\tloss 1.0934 (1.4068)\tGAP 0.8750 (0.6091)\n",
      "1 [100/626]\ttime 0.775 (0.811)\tloss 0.8102 (1.2302)\tGAP 0.8125 (0.6757)\n",
      "1 [150/626]\ttime 0.764 (0.798)\tloss 1.0747 (1.1049)\tGAP 0.5625 (0.7003)\n",
      "1 [200/626]\ttime 0.770 (0.792)\tloss 0.6935 (1.0459)\tGAP 0.7500 (0.7077)\n",
      "1 [250/626]\ttime 0.766 (0.789)\tloss 0.7518 (0.9968)\tGAP 0.8125 (0.7151)\n",
      "1 [300/626]\ttime 0.772 (0.787)\tloss 0.5714 (0.9710)\tGAP 0.8125 (0.7178)\n",
      "1 [350/626]\ttime 0.777 (0.786)\tloss 0.7124 (0.9484)\tGAP 0.7500 (0.7172)\n",
      "1 [400/626]\ttime 0.768 (0.784)\tloss 0.8899 (0.9318)\tGAP 0.6875 (0.7179)\n",
      "1 [450/626]\ttime 0.774 (0.783)\tloss 0.8852 (0.9113)\tGAP 0.7500 (0.7201)\n",
      "1 [500/626]\ttime 0.765 (0.783)\tloss 0.7237 (0.8958)\tGAP 0.7500 (0.7219)\n",
      "1 [550/626]\ttime 0.776 (0.782)\tloss 0.5898 (0.8801)\tGAP 0.7500 (0.7257)\n",
      "1 [600/626]\ttime 0.767 (0.782)\tloss 0.9109 (0.8698)\tGAP 0.6875 (0.7270)\n",
      " * average GAP on train 0.7272\n",
      "validation score: 0.38634828017629363\n",
      "2 [0/626]\ttime 4.357 (4.357)\tloss 0.9867 (0.9867)\tGAP 0.6250 (0.6250)\n",
      "2 [50/626]\ttime 0.771 (0.849)\tloss 0.9086 (0.7060)\tGAP 0.6250 (0.7733)\n",
      "2 [100/626]\ttime 0.768 (0.814)\tloss 0.6354 (0.6942)\tGAP 0.8125 (0.7723)\n",
      "2 [150/626]\ttime 0.771 (0.801)\tloss 1.3384 (0.7022)\tGAP 0.5000 (0.7649)\n",
      "2 [200/626]\ttime 0.780 (0.795)\tloss 0.7286 (0.7123)\tGAP 0.8125 (0.7662)\n",
      "2 [250/626]\ttime 0.774 (0.792)\tloss 0.5418 (0.7167)\tGAP 0.7500 (0.7639)\n",
      "2 [300/626]\ttime 0.830 (0.790)\tloss 0.4918 (0.7081)\tGAP 0.8750 (0.7658)\n",
      "2 [350/626]\ttime 0.781 (0.788)\tloss 0.5297 (0.7077)\tGAP 0.8125 (0.7648)\n",
      "2 [400/626]\ttime 0.864 (0.787)\tloss 0.7678 (0.6983)\tGAP 0.8125 (0.7684)\n",
      "2 [450/626]\ttime 0.776 (0.786)\tloss 1.2427 (0.6978)\tGAP 0.5000 (0.7694)\n",
      "2 [500/626]\ttime 0.768 (0.785)\tloss 0.5090 (0.6943)\tGAP 0.8750 (0.7711)\n",
      "2 [550/626]\ttime 0.774 (0.784)\tloss 0.7299 (0.6930)\tGAP 0.7500 (0.7701)\n",
      "2 [600/626]\ttime 0.775 (0.783)\tloss 1.0125 (0.6916)\tGAP 0.6250 (0.7710)\n",
      " * average GAP on train 0.7708\n",
      "validation score: 0.46841933827729054\n",
      "3 [0/626]\ttime 4.249 (4.249)\tloss 0.4294 (0.4294)\tGAP 0.8125 (0.8125)\n",
      "3 [50/626]\ttime 0.772 (0.854)\tloss 0.4332 (0.6168)\tGAP 0.8750 (0.8002)\n",
      "3 [100/626]\ttime 0.767 (0.814)\tloss 0.7019 (0.6106)\tGAP 0.8125 (0.8032)\n",
      "3 [150/626]\ttime 0.772 (0.803)\tloss 0.9650 (0.6380)\tGAP 0.6250 (0.7918)\n",
      "3 [200/626]\ttime 0.770 (0.796)\tloss 0.6231 (0.6398)\tGAP 0.8125 (0.7895)\n",
      "3 [250/626]\ttime 0.777 (0.792)\tloss 0.5912 (0.6449)\tGAP 0.7500 (0.7849)\n",
      "3 [300/626]\ttime 0.766 (0.790)\tloss 0.7726 (0.6456)\tGAP 0.8125 (0.7841)\n",
      "3 [350/626]\ttime 0.774 (0.788)\tloss 0.4522 (0.6457)\tGAP 0.8125 (0.7847)\n",
      "3 [400/626]\ttime 0.772 (0.787)\tloss 0.3870 (0.6482)\tGAP 0.7500 (0.7832)\n",
      "3 [450/626]\ttime 0.774 (0.786)\tloss 0.7320 (0.6397)\tGAP 0.8125 (0.7869)\n",
      "3 [500/626]\ttime 0.768 (0.785)\tloss 0.8344 (0.6414)\tGAP 0.8125 (0.7858)\n",
      "3 [550/626]\ttime 0.770 (0.784)\tloss 0.5156 (0.6339)\tGAP 0.8125 (0.7886)\n",
      "3 [600/626]\ttime 0.769 (0.783)\tloss 0.9037 (0.6295)\tGAP 0.6250 (0.7906)\n",
      " * average GAP on train 0.7886\n",
      "validation score: 0.5543071588072146\n",
      "4 [0/626]\ttime 3.947 (3.947)\tloss 0.6498 (0.6498)\tGAP 0.6875 (0.6875)\n",
      "4 [50/626]\ttime 0.767 (0.845)\tloss 0.4509 (0.5957)\tGAP 0.8750 (0.8064)\n",
      "4 [100/626]\ttime 0.777 (0.810)\tloss 0.2966 (0.5621)\tGAP 0.9375 (0.8156)\n",
      "4 [150/626]\ttime 0.780 (0.801)\tloss 0.6475 (0.5568)\tGAP 0.8125 (0.8175)\n",
      "4 [200/626]\ttime 0.773 (0.795)\tloss 0.8953 (0.5690)\tGAP 0.6250 (0.8119)\n",
      "4 [250/626]\ttime 0.773 (0.792)\tloss 0.5729 (0.5847)\tGAP 0.7500 (0.8060)\n",
      "4 [300/626]\ttime 0.775 (0.789)\tloss 0.6188 (0.5818)\tGAP 0.8125 (0.8071)\n",
      "4 [350/626]\ttime 0.772 (0.788)\tloss 0.3249 (0.5771)\tGAP 0.8125 (0.8100)\n",
      "4 [400/626]\ttime 0.775 (0.786)\tloss 0.9179 (0.5826)\tGAP 0.5625 (0.8081)\n",
      "4 [450/626]\ttime 0.770 (0.785)\tloss 0.7618 (0.5873)\tGAP 0.6250 (0.8063)\n",
      "4 [500/626]\ttime 0.775 (0.784)\tloss 0.4682 (0.5821)\tGAP 0.8125 (0.8083)\n",
      "4 [550/626]\ttime 0.772 (0.783)\tloss 0.7643 (0.5796)\tGAP 0.7500 (0.8093)\n",
      "4 [600/626]\ttime 0.779 (0.783)\tloss 0.4239 (0.5860)\tGAP 0.9375 (0.8071)\n",
      " * average GAP on train 0.8068\n",
      "validation score: 0.5596885557494834\n",
      "5 [0/626]\ttime 4.042 (4.042)\tloss 0.6528 (0.6528)\tGAP 0.6875 (0.6875)\n",
      "5 [50/626]\ttime 0.781 (0.849)\tloss 0.5657 (0.6125)\tGAP 0.8125 (0.7904)\n",
      "5 [100/626]\ttime 0.775 (0.812)\tloss 0.8723 (0.5885)\tGAP 0.6250 (0.7958)\n",
      "5 [150/626]\ttime 0.782 (0.802)\tloss 1.1855 (0.5765)\tGAP 0.6250 (0.7972)\n",
      "5 [200/626]\ttime 0.771 (0.795)\tloss 0.9124 (0.5735)\tGAP 0.6875 (0.7973)\n",
      "5 [250/626]\ttime 0.769 (0.792)\tloss 0.4380 (0.5806)\tGAP 0.9375 (0.7981)\n",
      "5 [300/626]\ttime 0.769 (0.789)\tloss 0.5707 (0.5735)\tGAP 0.7500 (0.7996)\n",
      "5 [350/626]\ttime 0.769 (0.788)\tloss 0.9493 (0.5682)\tGAP 0.7500 (0.8029)\n",
      "5 [400/626]\ttime 0.771 (0.786)\tloss 0.5364 (0.5633)\tGAP 0.7500 (0.8052)\n",
      "5 [450/626]\ttime 0.769 (0.785)\tloss 0.1954 (0.5563)\tGAP 1.0000 (0.8076)\n",
      "5 [500/626]\ttime 0.772 (0.784)\tloss 0.4693 (0.5577)\tGAP 0.8750 (0.8076)\n",
      "5 [550/626]\ttime 0.766 (0.783)\tloss 0.4365 (0.5532)\tGAP 0.8750 (0.8096)\n",
      "5 [600/626]\ttime 0.769 (0.783)\tloss 0.6996 (0.5519)\tGAP 0.6875 (0.8105)\n",
      " * average GAP on train 0.8115\n",
      "validation score: 0.5833556314774784\n",
      "6 [0/626]\ttime 4.341 (4.341)\tloss 0.3280 (0.3280)\tGAP 0.8750 (0.8750)\n",
      "6 [50/626]\ttime 0.777 (0.853)\tloss 1.0770 (0.5129)\tGAP 0.6875 (0.8468)\n",
      "6 [100/626]\ttime 0.775 (0.815)\tloss 0.5346 (0.5231)\tGAP 0.8125 (0.8329)\n",
      "6 [150/626]\ttime 0.771 (0.802)\tloss 0.4423 (0.5401)\tGAP 0.8750 (0.8224)\n",
      "6 [200/626]\ttime 0.771 (0.796)\tloss 0.4698 (0.5205)\tGAP 0.8750 (0.8296)\n",
      "6 [250/626]\ttime 0.777 (0.791)\tloss 0.3805 (0.5201)\tGAP 0.8750 (0.8307)\n",
      "6 [300/626]\ttime 0.780 (0.789)\tloss 0.4977 (0.5206)\tGAP 0.8750 (0.8289)\n",
      "6 [350/626]\ttime 0.776 (0.787)\tloss 0.5396 (0.5280)\tGAP 0.8125 (0.8253)\n",
      "6 [400/626]\ttime 0.771 (0.786)\tloss 0.2738 (0.5272)\tGAP 1.0000 (0.8259)\n",
      "6 [450/626]\ttime 0.778 (0.785)\tloss 0.7514 (0.5266)\tGAP 0.6875 (0.8261)\n",
      "6 [500/626]\ttime 0.774 (0.784)\tloss 0.3826 (0.5320)\tGAP 0.8125 (0.8251)\n",
      "6 [550/626]\ttime 0.773 (0.784)\tloss 0.5668 (0.5245)\tGAP 0.7500 (0.8259)\n",
      "6 [600/626]\ttime 0.767 (0.783)\tloss 0.4347 (0.5208)\tGAP 0.8125 (0.8262)\n",
      " * average GAP on train 0.8264\n",
      "validation score: 0.6004691266500296\n",
      "7 [0/626]\ttime 3.653 (3.653)\tloss 0.3102 (0.3102)\tGAP 0.8750 (0.8750)\n",
      "7 [50/626]\ttime 0.848 (0.842)\tloss 0.2821 (0.4993)\tGAP 0.9375 (0.8297)\n",
      "7 [100/626]\ttime 0.779 (0.808)\tloss 0.4656 (0.5032)\tGAP 0.8125 (0.8249)\n",
      "7 [150/626]\ttime 0.778 (0.799)\tloss 0.6095 (0.5136)\tGAP 0.8750 (0.8241)\n",
      "7 [200/626]\ttime 0.770 (0.793)\tloss 0.6586 (0.5163)\tGAP 0.8125 (0.8237)\n",
      "7 [250/626]\ttime 0.768 (0.790)\tloss 1.1504 (0.5091)\tGAP 0.7500 (0.8254)\n",
      "7 [300/626]\ttime 0.772 (0.788)\tloss 0.4815 (0.5041)\tGAP 0.8125 (0.8285)\n",
      "7 [350/626]\ttime 0.772 (0.786)\tloss 0.2759 (0.5013)\tGAP 0.9375 (0.8301)\n",
      "7 [400/626]\ttime 0.777 (0.785)\tloss 0.2446 (0.5018)\tGAP 0.8750 (0.8296)\n",
      "7 [450/626]\ttime 0.773 (0.784)\tloss 0.4567 (0.5019)\tGAP 0.8750 (0.8286)\n",
      "7 [500/626]\ttime 0.776 (0.783)\tloss 0.4230 (0.4980)\tGAP 0.8125 (0.8290)\n",
      "7 [550/626]\ttime 0.775 (0.783)\tloss 0.3437 (0.4971)\tGAP 0.8750 (0.8300)\n",
      "7 [600/626]\ttime 0.866 (0.782)\tloss 0.8318 (0.4986)\tGAP 0.8125 (0.8298)\n",
      " * average GAP on train 0.8308\n",
      "validation score: 0.5765648022171525\n",
      "8 [0/626]\ttime 4.050 (4.050)\tloss 0.1530 (0.1530)\tGAP 0.9375 (0.9375)\n",
      "8 [50/626]\ttime 0.771 (0.847)\tloss 0.6040 (0.4374)\tGAP 0.8125 (0.8395)\n",
      "8 [100/626]\ttime 0.767 (0.812)\tloss 0.9907 (0.4658)\tGAP 0.6250 (0.8348)\n",
      "8 [150/626]\ttime 0.776 (0.800)\tloss 0.4361 (0.4691)\tGAP 0.8125 (0.8394)\n",
      "8 [200/626]\ttime 0.767 (0.795)\tloss 0.2587 (0.4634)\tGAP 0.9375 (0.8442)\n",
      "8 [250/626]\ttime 0.769 (0.790)\tloss 0.2786 (0.4629)\tGAP 0.9375 (0.8444)\n",
      "8 [300/626]\ttime 0.775 (0.788)\tloss 0.1497 (0.4565)\tGAP 0.9375 (0.8478)\n",
      "8 [350/626]\ttime 0.768 (0.786)\tloss 0.3011 (0.4615)\tGAP 0.8750 (0.8456)\n",
      "8 [400/626]\ttime 0.776 (0.785)\tloss 0.6599 (0.4582)\tGAP 0.8125 (0.8448)\n",
      "8 [450/626]\ttime 0.775 (0.784)\tloss 0.4147 (0.4602)\tGAP 0.8750 (0.8431)\n",
      "8 [500/626]\ttime 0.773 (0.783)\tloss 0.1125 (0.4639)\tGAP 1.0000 (0.8419)\n",
      "8 [550/626]\ttime 0.776 (0.783)\tloss 0.6228 (0.4650)\tGAP 0.8125 (0.8414)\n",
      "8 [600/626]\ttime 0.771 (0.782)\tloss 0.5872 (0.4604)\tGAP 0.7500 (0.8435)\n",
      " * average GAP on train 0.8424\n",
      "validation score: 0.6105651133783906\n",
      "9 [0/626]\ttime 4.140 (4.140)\tloss 0.4799 (0.4799)\tGAP 0.8125 (0.8125)\n",
      "9 [50/626]\ttime 0.776 (0.859)\tloss 0.5127 (0.4765)\tGAP 0.6875 (0.8223)\n",
      "9 [100/626]\ttime 0.766 (0.817)\tloss 0.4222 (0.4564)\tGAP 0.8750 (0.8366)\n"
     ]
    },
    {
     "name": "stdout",
     "output_type": "stream",
     "text": [
      "9 [150/626]\ttime 0.774 (0.804)\tloss 0.6294 (0.4353)\tGAP 0.8125 (0.8444)\n",
      "9 [200/626]\ttime 0.770 (0.798)\tloss 0.6121 (0.4356)\tGAP 0.8125 (0.8436)\n",
      "9 [250/626]\ttime 0.770 (0.793)\tloss 0.4524 (0.4311)\tGAP 0.8125 (0.8471)\n",
      "9 [300/626]\ttime 0.769 (0.790)\tloss 0.3499 (0.4307)\tGAP 0.8750 (0.8478)\n",
      "9 [350/626]\ttime 0.769 (0.789)\tloss 0.7968 (0.4308)\tGAP 0.6875 (0.8486)\n",
      "9 [400/626]\ttime 0.771 (0.787)\tloss 0.6206 (0.4279)\tGAP 0.7500 (0.8498)\n",
      "9 [450/626]\ttime 0.776 (0.786)\tloss 0.3590 (0.4300)\tGAP 0.9375 (0.8502)\n",
      "9 [500/626]\ttime 0.772 (0.785)\tloss 0.3856 (0.4320)\tGAP 0.8125 (0.8497)\n",
      "9 [550/626]\ttime 0.771 (0.785)\tloss 0.2580 (0.4332)\tGAP 0.8750 (0.8498)\n",
      "9 [600/626]\ttime 0.772 (0.784)\tloss 0.6375 (0.4343)\tGAP 0.8125 (0.8490)\n",
      " * average GAP on train 0.8491\n",
      "validation score: 0.5974256714829229\n",
      "10 [0/626]\ttime 4.169 (4.169)\tloss 0.2208 (0.2208)\tGAP 1.0000 (1.0000)\n",
      "10 [50/626]\ttime 0.779 (0.849)\tloss 0.5097 (0.4749)\tGAP 0.9375 (0.8346)\n",
      "10 [100/626]\ttime 0.775 (0.814)\tloss 0.6177 (0.4256)\tGAP 0.7500 (0.8515)\n",
      "10 [150/626]\ttime 0.776 (0.801)\tloss 0.3284 (0.4063)\tGAP 0.8125 (0.8560)\n",
      "10 [200/626]\ttime 0.769 (0.795)\tloss 0.4191 (0.4139)\tGAP 0.8750 (0.8523)\n",
      "10 [250/626]\ttime 0.770 (0.792)\tloss 0.4117 (0.4160)\tGAP 0.8125 (0.8501)\n",
      "10 [300/626]\ttime 0.773 (0.789)\tloss 0.2592 (0.4246)\tGAP 0.8750 (0.8468)\n",
      "10 [350/626]\ttime 0.772 (0.787)\tloss 0.2127 (0.4186)\tGAP 0.9375 (0.8488)\n",
      "10 [400/626]\ttime 0.833 (0.786)\tloss 0.1906 (0.4125)\tGAP 1.0000 (0.8521)\n",
      "10 [450/626]\ttime 0.774 (0.785)\tloss 0.2258 (0.4089)\tGAP 0.9375 (0.8538)\n",
      "10 [500/626]\ttime 0.776 (0.784)\tloss 1.3729 (0.4126)\tGAP 0.7500 (0.8535)\n",
      "10 [550/626]\ttime 0.768 (0.784)\tloss 0.2420 (0.4103)\tGAP 0.9375 (0.8547)\n",
      "10 [600/626]\ttime 0.774 (0.783)\tloss 0.5168 (0.4083)\tGAP 0.8750 (0.8554)\n",
      " * average GAP on train 0.8557\n",
      "validation score: 0.5843099493133264\n",
      "11 [0/626]\ttime 4.094 (4.094)\tloss 0.4659 (0.4659)\tGAP 0.8125 (0.8125)\n",
      "11 [50/626]\ttime 0.784 (0.848)\tloss 0.4041 (0.3604)\tGAP 0.8125 (0.8750)\n",
      "11 [100/626]\ttime 0.769 (0.813)\tloss 0.1137 (0.3495)\tGAP 1.0000 (0.8806)\n",
      "11 [150/626]\ttime 0.771 (0.801)\tloss 0.2235 (0.3497)\tGAP 0.9375 (0.8791)\n",
      "11 [200/626]\ttime 0.769 (0.795)\tloss 0.1731 (0.3448)\tGAP 1.0000 (0.8818)\n",
      "11 [250/626]\ttime 0.778 (0.791)\tloss 0.2533 (0.3437)\tGAP 0.8750 (0.8787)\n",
      "11 [300/626]\ttime 0.767 (0.789)\tloss 0.3431 (0.3410)\tGAP 0.9375 (0.8787)\n",
      "11 [350/626]\ttime 0.776 (0.787)\tloss 0.3298 (0.3463)\tGAP 0.8750 (0.8762)\n",
      "11 [400/626]\ttime 0.777 (0.786)\tloss 0.4609 (0.3524)\tGAP 0.6875 (0.8730)\n",
      "11 [450/626]\ttime 0.777 (0.785)\tloss 0.7675 (0.3587)\tGAP 0.7500 (0.8713)\n",
      "11 [500/626]\ttime 0.769 (0.784)\tloss 0.5135 (0.3635)\tGAP 0.8125 (0.8698)\n",
      "11 [550/626]\ttime 0.775 (0.783)\tloss 0.6348 (0.3632)\tGAP 0.8125 (0.8714)\n",
      "11 [600/626]\ttime 0.766 (0.783)\tloss 0.4386 (0.3657)\tGAP 0.7500 (0.8703)\n",
      " * average GAP on train 0.8701\n",
      "validation score: 0.5983593489346577\n",
      "12 [0/626]\ttime 4.109 (4.109)\tloss 0.2028 (0.2028)\tGAP 0.9375 (0.9375)\n",
      "12 [50/626]\ttime 0.776 (0.848)\tloss 0.3969 (0.3739)\tGAP 0.8125 (0.8811)\n",
      "12 [100/626]\ttime 0.773 (0.811)\tloss 0.1878 (0.3458)\tGAP 0.9375 (0.8911)\n",
      "12 [150/626]\ttime 0.773 (0.800)\tloss 0.5850 (0.3431)\tGAP 0.8750 (0.8891)\n",
      "12 [200/626]\ttime 0.775 (0.794)\tloss 0.1971 (0.3403)\tGAP 0.9375 (0.8877)\n",
      "12 [250/626]\ttime 0.769 (0.791)\tloss 0.2329 (0.3410)\tGAP 0.9375 (0.8865)\n",
      "12 [300/626]\ttime 0.773 (0.788)\tloss 0.2684 (0.3489)\tGAP 0.8750 (0.8843)\n",
      "12 [350/626]\ttime 0.774 (0.787)\tloss 0.2106 (0.3521)\tGAP 0.9375 (0.8821)\n",
      "12 [400/626]\ttime 0.782 (0.786)\tloss 0.2330 (0.3542)\tGAP 0.9375 (0.8814)\n",
      "12 [450/626]\ttime 0.769 (0.785)\tloss 0.2392 (0.3493)\tGAP 0.9375 (0.8819)\n",
      "12 [500/626]\ttime 0.774 (0.784)\tloss 0.4127 (0.3487)\tGAP 0.9375 (0.8822)\n",
      "12 [550/626]\ttime 0.770 (0.783)\tloss 0.1823 (0.3484)\tGAP 0.9375 (0.8809)\n",
      "12 [600/626]\ttime 0.782 (0.782)\tloss 0.1362 (0.3459)\tGAP 0.9375 (0.8817)\n",
      " * average GAP on train 0.8820\n",
      "validation score: 0.5864905305035948\n",
      "13 [0/626]\ttime 4.254 (4.254)\tloss 0.6729 (0.6729)\tGAP 0.8125 (0.8125)\n",
      "13 [50/626]\ttime 0.779 (0.849)\tloss 0.2774 (0.3072)\tGAP 0.8750 (0.8971)\n",
      "13 [100/626]\ttime 0.775 (0.812)\tloss 0.2374 (0.2873)\tGAP 0.8750 (0.9072)\n",
      "13 [150/626]\ttime 0.779 (0.801)\tloss 0.1576 (0.3082)\tGAP 0.8750 (0.8982)\n",
      "13 [200/626]\ttime 0.773 (0.795)\tloss 0.2272 (0.3102)\tGAP 0.9375 (0.8952)\n",
      "13 [250/626]\ttime 0.872 (0.791)\tloss 0.4872 (0.3092)\tGAP 0.8125 (0.8947)\n",
      "13 [300/626]\ttime 0.775 (0.789)\tloss 0.5148 (0.3082)\tGAP 0.8125 (0.8939)\n",
      "13 [350/626]\ttime 0.774 (0.787)\tloss 0.3135 (0.3078)\tGAP 0.9375 (0.8949)\n",
      "13 [400/626]\ttime 0.771 (0.786)\tloss 0.2691 (0.3112)\tGAP 0.9375 (0.8934)\n",
      "13 [450/626]\ttime 0.772 (0.785)\tloss 0.8089 (0.3177)\tGAP 0.6875 (0.8909)\n",
      "13 [500/626]\ttime 0.768 (0.784)\tloss 0.3516 (0.3166)\tGAP 0.8125 (0.8913)\n",
      "13 [550/626]\ttime 0.783 (0.783)\tloss 0.2384 (0.3192)\tGAP 0.9375 (0.8907)\n",
      "13 [600/626]\ttime 0.770 (0.783)\tloss 0.4005 (0.3200)\tGAP 0.8750 (0.8896)\n",
      " * average GAP on train 0.8900\n",
      "validation score: 0.5865917036530693\n",
      "14 [0/626]\ttime 3.885 (3.885)\tloss 0.2053 (0.2053)\tGAP 0.9375 (0.9375)\n",
      "14 [50/626]\ttime 0.768 (0.841)\tloss 0.2015 (0.2613)\tGAP 0.8750 (0.9081)\n",
      "14 [100/626]\ttime 0.772 (0.808)\tloss 0.5468 (0.2736)\tGAP 0.7500 (0.9041)\n",
      "14 [150/626]\ttime 0.771 (0.798)\tloss 0.3143 (0.2766)\tGAP 0.8750 (0.9007)\n",
      "14 [200/626]\ttime 0.777 (0.793)\tloss 0.2293 (0.2780)\tGAP 0.9375 (0.9021)\n",
      "14 [250/626]\ttime 0.772 (0.790)\tloss 0.5033 (0.2803)\tGAP 0.8750 (0.9054)\n",
      "14 [300/626]\ttime 0.776 (0.788)\tloss 0.4314 (0.2834)\tGAP 0.8125 (0.9016)\n",
      "14 [350/626]\ttime 0.774 (0.786)\tloss 0.5063 (0.2860)\tGAP 0.8125 (0.9014)\n",
      "14 [400/626]\ttime 0.768 (0.785)\tloss 0.1947 (0.2837)\tGAP 0.9375 (0.9006)\n",
      "14 [450/626]\ttime 0.770 (0.784)\tloss 0.2379 (0.2818)\tGAP 0.9375 (0.9005)\n",
      "14 [500/626]\ttime 0.776 (0.783)\tloss 0.0958 (0.2836)\tGAP 1.0000 (0.9000)\n",
      "14 [550/626]\ttime 0.770 (0.783)\tloss 0.2645 (0.2873)\tGAP 0.8750 (0.8990)\n",
      "14 [600/626]\ttime 0.777 (0.782)\tloss 0.1117 (0.2854)\tGAP 1.0000 (0.9000)\n",
      " * average GAP on train 0.8998\n",
      "validation score: 0.5373967386414413\n",
      "15 [0/626]\ttime 3.842 (3.842)\tloss 0.6101 (0.6101)\tGAP 0.8750 (0.8750)\n",
      "15 [50/626]\ttime 0.779 (0.844)\tloss 0.1533 (0.2731)\tGAP 0.9375 (0.8983)\n",
      "15 [100/626]\ttime 0.776 (0.810)\tloss 0.5457 (0.2606)\tGAP 0.8750 (0.9078)\n",
      "15 [150/626]\ttime 0.771 (0.799)\tloss 0.4000 (0.2635)\tGAP 0.8750 (0.9089)\n",
      "15 [200/626]\ttime 0.769 (0.794)\tloss 0.1622 (0.2649)\tGAP 0.9375 (0.9067)\n",
      "15 [250/626]\ttime 0.770 (0.790)\tloss 0.2120 (0.2600)\tGAP 0.8750 (0.9081)\n",
      "15 [300/626]\ttime 0.773 (0.788)\tloss 0.5492 (0.2658)\tGAP 0.8750 (0.9053)\n",
      "15 [350/626]\ttime 0.776 (0.786)\tloss 0.1882 (0.2705)\tGAP 0.9375 (0.9028)\n",
      "15 [400/626]\ttime 0.769 (0.785)\tloss 0.1746 (0.2663)\tGAP 0.9375 (0.9051)\n",
      "15 [450/626]\ttime 0.771 (0.784)\tloss 0.1345 (0.2683)\tGAP 0.9375 (0.9049)\n",
      "15 [500/626]\ttime 0.774 (0.784)\tloss 0.1635 (0.2680)\tGAP 1.0000 (0.9058)\n",
      "15 [550/626]\ttime 0.775 (0.783)\tloss 0.2308 (0.2710)\tGAP 0.9375 (0.9038)\n",
      "15 [600/626]\ttime 0.778 (0.782)\tloss 0.2342 (0.2711)\tGAP 0.8750 (0.9039)\n",
      " * average GAP on train 0.9035\n",
      "validation score: 0.5349738738630709\n",
      "16 [0/626]\ttime 4.057 (4.057)\tloss 0.1687 (0.1687)\tGAP 0.9375 (0.9375)\n",
      "16 [50/626]\ttime 0.772 (0.847)\tloss 0.0761 (0.2241)\tGAP 1.0000 (0.9216)\n",
      "16 [100/626]\ttime 0.767 (0.811)\tloss 0.1545 (0.2346)\tGAP 0.9375 (0.9165)\n",
      "16 [150/626]\ttime 0.770 (0.799)\tloss 0.1960 (0.2358)\tGAP 0.9375 (0.9180)\n",
      "16 [200/626]\ttime 0.765 (0.794)\tloss 0.0829 (0.2257)\tGAP 1.0000 (0.9216)\n",
      "16 [250/626]\ttime 0.768 (0.790)\tloss 0.3807 (0.2265)\tGAP 0.8125 (0.9208)\n",
      "16 [300/626]\ttime 0.775 (0.788)\tloss 0.2736 (0.2329)\tGAP 0.9375 (0.9199)\n",
      "16 [350/626]\ttime 0.774 (0.786)\tloss 0.0582 (0.2373)\tGAP 1.0000 (0.9193)\n",
      "16 [400/626]\ttime 0.770 (0.785)\tloss 0.1538 (0.2392)\tGAP 0.9375 (0.9183)\n",
      "16 [450/626]\ttime 0.774 (0.784)\tloss 0.0735 (0.2358)\tGAP 1.0000 (0.9189)\n",
      "16 [500/626]\ttime 0.768 (0.783)\tloss 0.0749 (0.2326)\tGAP 1.0000 (0.9195)\n",
      "16 [550/626]\ttime 0.775 (0.782)\tloss 0.1100 (0.2318)\tGAP 0.9375 (0.9203)\n",
      "16 [600/626]\ttime 0.770 (0.782)\tloss 0.5828 (0.2358)\tGAP 0.8750 (0.9189)\n",
      " * average GAP on train 0.9188\n",
      "validation score: 0.5604240247742076\n",
      "17 [0/626]\ttime 4.382 (4.382)\tloss 0.0431 (0.0431)\tGAP 1.0000 (1.0000)\n",
      "17 [50/626]\ttime 0.769 (0.854)\tloss 0.0802 (0.1645)\tGAP 1.0000 (0.9461)\n",
      "17 [100/626]\ttime 0.777 (0.814)\tloss 0.2188 (0.1736)\tGAP 0.9375 (0.9412)\n",
      "17 [150/626]\ttime 0.773 (0.802)\tloss 0.3892 (0.2006)\tGAP 0.8750 (0.9317)\n",
      "17 [200/626]\ttime 0.775 (0.796)\tloss 0.3400 (0.2136)\tGAP 0.8750 (0.9266)\n"
     ]
    },
    {
     "name": "stdout",
     "output_type": "stream",
     "text": [
      "17 [250/626]\ttime 0.768 (0.792)\tloss 0.0866 (0.2156)\tGAP 1.0000 (0.9258)\n",
      "17 [300/626]\ttime 0.774 (0.789)\tloss 0.3531 (0.2185)\tGAP 0.8750 (0.9259)\n",
      "17 [350/626]\ttime 0.769 (0.787)\tloss 0.0308 (0.2214)\tGAP 1.0000 (0.9243)\n",
      "17 [400/626]\ttime 0.770 (0.786)\tloss 0.1749 (0.2178)\tGAP 0.9375 (0.9249)\n",
      "17 [450/626]\ttime 0.769 (0.784)\tloss 0.3400 (0.2243)\tGAP 0.8750 (0.9225)\n",
      "17 [500/626]\ttime 0.774 (0.784)\tloss 0.0835 (0.2211)\tGAP 0.9375 (0.9235)\n",
      "17 [550/626]\ttime 0.773 (0.783)\tloss 0.0781 (0.2181)\tGAP 1.0000 (0.9242)\n",
      "17 [600/626]\ttime 0.770 (0.783)\tloss 0.2043 (0.2181)\tGAP 0.8750 (0.9240)\n",
      " * average GAP on train 0.9232\n",
      "validation score: 0.5739996884720497\n",
      "18 [0/626]\ttime 3.987 (3.987)\tloss 0.2063 (0.2063)\tGAP 0.9375 (0.9375)\n",
      "18 [50/626]\ttime 0.770 (0.845)\tloss 0.1490 (0.1548)\tGAP 0.9375 (0.9522)\n",
      "18 [100/626]\ttime 0.772 (0.810)\tloss 0.1707 (0.1755)\tGAP 0.9375 (0.9400)\n",
      "18 [150/626]\ttime 0.769 (0.798)\tloss 0.3453 (0.1756)\tGAP 0.8125 (0.9367)\n",
      "18 [200/626]\ttime 0.772 (0.793)\tloss 0.3272 (0.1850)\tGAP 0.9375 (0.9344)\n",
      "18 [250/626]\ttime 0.768 (0.789)\tloss 0.2600 (0.1897)\tGAP 0.8750 (0.9333)\n",
      "18 [300/626]\ttime 0.767 (0.787)\tloss 0.1435 (0.1906)\tGAP 0.9375 (0.9331)\n",
      "18 [350/626]\ttime 0.772 (0.785)\tloss 0.0723 (0.1922)\tGAP 1.0000 (0.9339)\n",
      "18 [400/626]\ttime 0.775 (0.784)\tloss 0.1778 (0.1932)\tGAP 1.0000 (0.9334)\n",
      "18 [450/626]\ttime 0.773 (0.783)\tloss 0.1186 (0.1946)\tGAP 0.9375 (0.9336)\n",
      "18 [500/626]\ttime 0.769 (0.782)\tloss 0.0887 (0.1960)\tGAP 0.9375 (0.9330)\n",
      "18 [550/626]\ttime 0.776 (0.782)\tloss 0.2877 (0.1973)\tGAP 0.8750 (0.9325)\n",
      "18 [600/626]\ttime 0.777 (0.781)\tloss 0.1238 (0.1993)\tGAP 1.0000 (0.9320)\n",
      " * average GAP on train 0.9322\n",
      "validation score: 0.567300619515533\n",
      "19 [0/626]\ttime 4.038 (4.038)\tloss 0.4870 (0.4870)\tGAP 0.8750 (0.8750)\n",
      "19 [50/626]\ttime 0.772 (0.845)\tloss 0.0718 (0.1467)\tGAP 1.0000 (0.9473)\n",
      "19 [100/626]\ttime 0.769 (0.810)\tloss 0.2783 (0.1575)\tGAP 0.8125 (0.9412)\n",
      "19 [150/626]\ttime 0.770 (0.798)\tloss 0.2173 (0.1668)\tGAP 0.8750 (0.9375)\n",
      "19 [200/626]\ttime 0.767 (0.793)\tloss 0.1257 (0.1752)\tGAP 1.0000 (0.9359)\n",
      "19 [250/626]\ttime 0.774 (0.790)\tloss 0.0956 (0.1729)\tGAP 0.9375 (0.9375)\n",
      "19 [300/626]\ttime 0.772 (0.788)\tloss 0.1146 (0.1730)\tGAP 0.9375 (0.9385)\n",
      "19 [350/626]\ttime 0.773 (0.786)\tloss 0.2519 (0.1786)\tGAP 0.9375 (0.9366)\n",
      "19 [400/626]\ttime 0.770 (0.785)\tloss 0.4589 (0.1851)\tGAP 0.7500 (0.9347)\n",
      "19 [450/626]\ttime 0.769 (0.784)\tloss 0.3213 (0.1843)\tGAP 0.8750 (0.9351)\n",
      "19 [500/626]\ttime 0.774 (0.783)\tloss 0.1153 (0.1849)\tGAP 1.0000 (0.9348)\n",
      "19 [550/626]\ttime 0.773 (0.783)\tloss 0.1037 (0.1835)\tGAP 1.0000 (0.9353)\n",
      "19 [600/626]\ttime 0.771 (0.782)\tloss 0.0651 (0.1831)\tGAP 1.0000 (0.9352)\n",
      " * average GAP on train 0.9359\n",
      "validation score: 0.573824326965598\n",
      "20 [0/626]\ttime 4.200 (4.200)\tloss 0.1044 (0.1044)\tGAP 0.9375 (0.9375)\n",
      "20 [50/626]\ttime 0.774 (0.851)\tloss 0.1123 (0.1534)\tGAP 0.9375 (0.9485)\n",
      "20 [100/626]\ttime 0.773 (0.812)\tloss 0.0483 (0.1588)\tGAP 1.0000 (0.9462)\n",
      "20 [150/626]\ttime 0.772 (0.800)\tloss 0.0370 (0.1603)\tGAP 1.0000 (0.9416)\n",
      "20 [200/626]\ttime 0.771 (0.794)\tloss 0.0902 (0.1561)\tGAP 1.0000 (0.9453)\n",
      "20 [250/626]\ttime 0.773 (0.790)\tloss 0.1940 (0.1556)\tGAP 0.9375 (0.9462)\n",
      "20 [300/626]\ttime 0.770 (0.788)\tloss 0.1435 (0.1607)\tGAP 0.9375 (0.9448)\n",
      "20 [350/626]\ttime 0.771 (0.786)\tloss 0.0902 (0.1603)\tGAP 0.9375 (0.9453)\n",
      "20 [400/626]\ttime 0.772 (0.785)\tloss 0.2152 (0.1649)\tGAP 0.9375 (0.9431)\n",
      "20 [450/626]\ttime 0.768 (0.784)\tloss 0.2177 (0.1652)\tGAP 0.8750 (0.9435)\n",
      "20 [500/626]\ttime 0.770 (0.783)\tloss 0.2831 (0.1668)\tGAP 0.9375 (0.9422)\n",
      "20 [550/626]\ttime 0.771 (0.782)\tloss 0.1005 (0.1694)\tGAP 0.9375 (0.9409)\n",
      "20 [600/626]\ttime 0.771 (0.782)\tloss 0.0728 (0.1676)\tGAP 1.0000 (0.9419)\n",
      " * average GAP on train 0.9420\n",
      "validation score: 0.5673261774156556\n"
     ]
    }
   ],
   "source": [
    "global_start_time = time.time()\n",
    "train_res, test_res = train_loop(NUM_EPOCHS, train_loader, val_loader, model, criterion, optimizer)"
   ]
  },
  {
   "cell_type": "code",
   "execution_count": 74,
   "metadata": {
    "ExecuteTime": {
     "end_time": "2019-07-09T21:34:27.095829Z",
     "start_time": "2019-07-09T21:34:26.913281Z"
    },
    "colab": {},
    "colab_type": "code",
    "id": "Pt3sseSLY7rJ"
   },
   "outputs": [],
   "source": [
    "torch.save(model.state_dict(), \"../model/efficientnet_jpeg.ptm\")"
   ]
  },
  {
   "cell_type": "code",
   "execution_count": 41,
   "metadata": {
    "ExecuteTime": {
     "end_time": "2019-07-09T21:34:27.129914Z",
     "start_time": "2019-07-09T21:34:27.096735Z"
    }
   },
   "outputs": [],
   "source": [
    "df = pd.DataFrame({'train':train_res, 'val':test_res})"
   ]
  },
  {
   "cell_type": "code",
   "execution_count": 43,
   "metadata": {
    "ExecuteTime": {
     "end_time": "2019-07-09T21:34:27.244530Z",
     "start_time": "2019-07-09T21:34:27.164712Z"
    },
    "colab": {},
    "colab_type": "code",
    "id": "0CSp229_eVx6"
   },
   "outputs": [],
   "source": [
    "df.to_csv(\"../logs/efficientnet_jpeg_log.csv\", index=False)"
   ]
  },
  {
   "cell_type": "code",
   "execution_count": null,
   "metadata": {},
   "outputs": [],
   "source": [
    "%%javascript\n",
    "IPython.notebook.save_notebook()"
   ]
  },
  {
   "cell_type": "code",
   "execution_count": null,
   "metadata": {},
   "outputs": [],
   "source": [
    "time.sleep(5)"
   ]
  },
  {
   "cell_type": "code",
   "execution_count": null,
   "metadata": {
    "ExecuteTime": {
     "end_time": "2019-07-09T14:02:27.760691Z",
     "start_time": "2019-07-09T13:55:18.940336Z"
    },
    "colab": {},
    "colab_type": "code",
    "id": "qzkBpCP-sxRS"
   },
   "outputs": [],
   "source": [
    "predicts, confs, targets = inference(val_loader, model)"
   ]
  },
  {
   "cell_type": "code",
   "execution_count": null,
   "metadata": {
    "ExecuteTime": {
     "end_time": "2019-07-09T14:02:27.805571Z",
     "start_time": "2019-07-09T14:02:27.798591Z"
    }
   },
   "outputs": [],
   "source": [
    "confusion_matrix(targets.cpu(), predicts.cpu())"
   ]
  },
  {
   "cell_type": "code",
   "execution_count": null,
   "metadata": {
    "ExecuteTime": {
     "end_time": "2019-07-09T14:02:27.817539Z",
     "start_time": "2019-07-09T14:02:27.807566Z"
    }
   },
   "outputs": [],
   "source": [
    "time.sleep(5)"
   ]
  },
  {
   "cell_type": "code",
   "execution_count": null,
   "metadata": {},
   "outputs": [],
   "source": [
    "!sudo shutdown now"
   ]
  },
  {
   "cell_type": "code",
   "execution_count": null,
   "metadata": {},
   "outputs": [],
   "source": []
  }
 ],
 "metadata": {
  "accelerator": "GPU",
  "colab": {
   "collapsed_sections": [],
   "name": "syd_innovation.ipynb",
   "provenance": [],
   "version": "0.3.2"
  },
  "kernelspec": {
   "display_name": "Python 3",
   "language": "python",
   "name": "python3"
  },
  "language_info": {
   "codemirror_mode": {
    "name": "ipython",
    "version": 3
   },
   "file_extension": ".py",
   "mimetype": "text/x-python",
   "name": "python",
   "nbconvert_exporter": "python",
   "pygments_lexer": "ipython3",
   "version": "3.7.3"
  },
  "notify_time": "5",
  "toc": {
   "base_numbering": 1,
   "nav_menu": {},
   "number_sections": true,
   "sideBar": true,
   "skip_h1_title": false,
   "title_cell": "Table of Contents",
   "title_sidebar": "Contents",
   "toc_cell": false,
   "toc_position": {},
   "toc_section_display": true,
   "toc_window_display": false
  }
 },
 "nbformat": 4,
 "nbformat_minor": 1
}
