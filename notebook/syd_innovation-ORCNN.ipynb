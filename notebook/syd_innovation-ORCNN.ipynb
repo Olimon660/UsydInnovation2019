{
 "cells": [
  {
   "cell_type": "code",
   "execution_count": 1,
   "metadata": {
    "ExecuteTime": {
     "end_time": "2019-07-09T10:54:46.028082Z",
     "start_time": "2019-07-09T10:54:45.066653Z"
    },
    "_cell_guid": "79c7e3d0-c299-4dcb-8224-4455121ee9b0",
    "_uuid": "d629ff2d2480ee46fbb7e2d37f6b5fab8052498a",
    "colab": {},
    "colab_type": "code",
    "id": "W6mUxDRCY7qg"
   },
   "outputs": [],
   "source": [
    "import numpy as np\n",
    "import torch\n",
    "import torchvision\n",
    "from torch.utils.data import Dataset, DataLoader, WeightedRandomSampler\n",
    "import os\n",
    "import torchvision.transforms as transforms\n",
    "from PIL import Image\n",
    "import matplotlib.pyplot as plt\n",
    "from sklearn.model_selection import train_test_split\n",
    "import torch.nn as nn\n",
    "from tqdm import tqdm, trange\n",
    "import time\n",
    "from PIL import ImageFile\n",
    "ImageFile.LOAD_TRUNCATED_IMAGES = True\n",
    "from sklearn.metrics import classification_report, accuracy_score, confusion_matrix, cohen_kappa_score\n",
    "from efficientnet_pytorch import EfficientNet\n",
    "import cv2\n",
    "import pandas as pd"
   ]
  },
  {
   "cell_type": "code",
   "execution_count": 2,
   "metadata": {
    "ExecuteTime": {
     "end_time": "2019-07-09T10:54:46.180640Z",
     "start_time": "2019-07-09T10:54:46.029046Z"
    },
    "colab": {
     "base_uri": "https://localhost:8080/",
     "height": 34
    },
    "colab_type": "code",
    "executionInfo": {
     "elapsed": 819,
     "status": "ok",
     "timestamp": 1562386895031,
     "user": {
      "displayName": "Zhaoxiang Cai",
      "photoUrl": "",
      "userId": "16096770806947170717"
     },
     "user_tz": -600
    },
    "id": "BWSRChcqY7qj",
    "outputId": "a57b2615-08ce-41e1-80ff-731f81d0fa3a"
   },
   "outputs": [
    {
     "data": {
      "text/plain": [
       "'Tesla T4'"
      ]
     },
     "execution_count": 2,
     "metadata": {},
     "output_type": "execute_result"
    }
   ],
   "source": [
    "seed = 42\n",
    "torch.cuda.get_device_name()"
   ]
  },
  {
   "cell_type": "code",
   "execution_count": 3,
   "metadata": {
    "ExecuteTime": {
     "end_time": "2019-07-09T10:54:46.198592Z",
     "start_time": "2019-07-09T10:54:46.182667Z"
    },
    "colab": {},
    "colab_type": "code",
    "id": "VkbGeclTY7ql"
   },
   "outputs": [],
   "source": [
    "labels = pd.read_csv(\"../input/training-labels.csv\")"
   ]
  },
  {
   "cell_type": "code",
   "execution_count": 4,
   "metadata": {
    "ExecuteTime": {
     "end_time": "2019-07-09T10:54:46.217542Z",
     "start_time": "2019-07-09T10:54:46.199590Z"
    },
    "colab": {
     "base_uri": "https://localhost:8080/",
     "height": 136
    },
    "colab_type": "code",
    "executionInfo": {
     "elapsed": 1077,
     "status": "ok",
     "timestamp": 1562386908045,
     "user": {
      "displayName": "Zhaoxiang Cai",
      "photoUrl": "",
      "userId": "16096770806947170717"
     },
     "user_tz": -600
    },
    "id": "vGps3t0TY7qn",
    "outputId": "d45d84e1-c685-4dd3-ed34-ae50fc3ad3f6"
   },
   "outputs": [
    {
     "data": {
      "text/plain": [
       "Drscore\n",
       "0    11651\n",
       "1     1397\n",
       "2     3299\n",
       "3      841\n",
       "4      619\n",
       "dtype: int64"
      ]
     },
     "execution_count": 4,
     "metadata": {},
     "output_type": "execute_result"
    }
   ],
   "source": [
    "labels.groupby(['Drscore']).size()"
   ]
  },
  {
   "cell_type": "code",
   "execution_count": 5,
   "metadata": {
    "ExecuteTime": {
     "end_time": "2019-07-09T10:54:46.268405Z",
     "start_time": "2019-07-09T10:54:46.253473Z"
    },
    "colab": {},
    "colab_type": "code",
    "id": "BlvC_5MAY7qp"
   },
   "outputs": [],
   "source": [
    "train_df, val_df = train_test_split(labels, test_size=0.2,stratify=labels['Drscore'], random_state = seed)"
   ]
  },
  {
   "cell_type": "code",
   "execution_count": 6,
   "metadata": {
    "ExecuteTime": {
     "end_time": "2019-07-09T14:06:29.539231Z",
     "start_time": "2019-07-09T14:06:29.536238Z"
    },
    "colab": {},
    "colab_type": "code",
    "id": "tAlrsNF-Y7qx"
   },
   "outputs": [],
   "source": [
    "BATCH_SIZE = 2**5\n",
    "NUM_WORKERS = 4\n",
    "LEARNING_RATE = 5e-5\n",
    "NUM_EPOCHS = 15\n",
    "LOG_FREQ = 50\n",
    "TIME_LIMIT = 8 * 60 * 60\n",
    "RESIZE = 300\n",
    "torch.cuda.empty_cache()"
   ]
  },
  {
   "cell_type": "code",
   "execution_count": 7,
   "metadata": {
    "ExecuteTime": {
     "end_time": "2019-07-09T10:54:48.842503Z",
     "start_time": "2019-07-09T10:54:48.839515Z"
    },
    "colab": {},
    "colab_type": "code",
    "id": "y56F4brTY7q2"
   },
   "outputs": [],
   "source": [
    "device = 'cuda' if torch.cuda.is_available() else 'cpu'"
   ]
  },
  {
   "cell_type": "markdown",
   "metadata": {},
   "source": [
    "# classes"
   ]
  },
  {
   "cell_type": "code",
   "execution_count": 8,
   "metadata": {},
   "outputs": [],
   "source": [
    "y_encoding = {0: np.asarray([0, 1,\n",
    "                           0, 1,\n",
    "                           0, 1,\n",
    "                           0, 1]),\n",
    "              1: np.asarray([1, 0,\n",
    "                           0, 1,\n",
    "                           0, 1,\n",
    "                           0, 1]),\n",
    "              2: np.asarray([1, 0,\n",
    "                           1, 0,\n",
    "                           0, 1,\n",
    "                           0, 1]),\n",
    "              3: np.asarray([1, 0,\n",
    "                           1, 0,\n",
    "                           1, 0,\n",
    "                           0, 1]),\n",
    "              4: np.asarray([1, 0,\n",
    "                           1, 0,\n",
    "                           1, 0,\n",
    "                           1, 0]),\n",
    "              }"
   ]
  },
  {
   "cell_type": "code",
   "execution_count": 9,
   "metadata": {
    "ExecuteTime": {
     "end_time": "2019-07-09T10:54:46.512754Z",
     "start_time": "2019-07-09T10:54:46.504801Z"
    },
    "colab": {},
    "colab_type": "code",
    "id": "RQ1ww41-Y7qr"
   },
   "outputs": [],
   "source": [
    "class ImageDataset(Dataset):\n",
    "    def __init__(self, dataframe, mode):\n",
    "        assert mode in ['train', 'val', 'test']\n",
    "\n",
    "        self.df = dataframe.copy()\n",
    "        self.df['Drscore'] = self.df['Drscore'].map(lambda x:y_encoding[x])\n",
    "        self.mode = mode\n",
    "\n",
    "        transforms_list = [\n",
    "            transforms.Resize(RESIZE),\n",
    "            transforms.CenterCrop(RESIZE)\n",
    "        ]\n",
    "\n",
    "        if self.mode == 'train':\n",
    "            transforms_list.extend([\n",
    "                transforms.RandomHorizontalFlip(),\n",
    "                transforms.RandomChoice([\n",
    "                    transforms.RandomAffine(degrees=(0,180), translate=(0.1, 0.1),\n",
    "                                            scale=(0.9, 1.1))\n",
    "                ])\n",
    "            ])\n",
    "\n",
    "        transforms_list.extend([\n",
    "            transforms.ToTensor(),\n",
    "            #             transforms.Normalize(mean=[0.485, 0.456, 0.406],\n",
    "            #                                   std=[0.229, 0.224, 0.225]),\n",
    "        ])\n",
    "        self.transforms = transforms.Compose(transforms_list)\n",
    "\n",
    "    def __getitem__(self, index):\n",
    "        ''' Returns: tuple (sample, target) '''\n",
    "        filename = self.df['Filename'].values[index]\n",
    "\n",
    "        directory = '../input/Test' if self.mode == 'test' else '../input/output_combined2'\n",
    "        sample = Image.open(f'./{directory}/gb_{filename}')\n",
    "        image = self.transforms(sample)\n",
    "\n",
    "        if self.mode == 'test':\n",
    "            return image\n",
    "        else:\n",
    "            return image, self.df['Drscore'].values[index]\n",
    "\n",
    "    def scaleRadius(self, img, scale):\n",
    "        x = img[img.shape[0]//2,:,:].sum(1)\n",
    "        r = (x > x.mean() / 10).sum() / 2\n",
    "        s = scale * 1.0 / r\n",
    "        return cv2.resize(img, (0, 0), fx=s, fy=s)\n",
    "\n",
    "    def __len__(self):\n",
    "        return self.df.shape[0]"
   ]
  },
  {
   "cell_type": "code",
   "execution_count": 10,
   "metadata": {
    "ExecuteTime": {
     "end_time": "2019-07-09T14:05:04.528235Z",
     "start_time": "2019-07-09T14:05:04.522251Z"
    },
    "colab": {},
    "colab_type": "code",
    "id": "uCEQvEt-Y7qt"
   },
   "outputs": [],
   "source": [
    "def GAP(predicts, confs, targets):\n",
    "    ''' Simplified GAP@1 metric: only one prediction per sample is supported '''\n",
    "    predicts = predicts.cpu().numpy()\n",
    "    targets = targets.cpu().numpy()\n",
    "\n",
    "    res = accuracy_score(targets, predicts)\n",
    "    return res"
   ]
  },
  {
   "cell_type": "code",
   "execution_count": 11,
   "metadata": {
    "ExecuteTime": {
     "end_time": "2019-07-09T10:54:47.371483Z",
     "start_time": "2019-07-09T10:54:47.367467Z"
    },
    "colab": {},
    "colab_type": "code",
    "id": "MJXokEE1Y7qv"
   },
   "outputs": [],
   "source": [
    "class AverageMeter:\n",
    "    ''' Computes and stores the average and current value '''\n",
    "    def __init__(self):\n",
    "        self.reset()\n",
    "\n",
    "    def reset(self):\n",
    "        self.val = 0.0\n",
    "        self.avg = 0.0\n",
    "        self.sum = 0.0\n",
    "        self.count = 0\n",
    "\n",
    "    def update(self, val, n = 1) :\n",
    "        self.val = val\n",
    "        self.sum += val * n\n",
    "        self.count += n\n",
    "        self.avg = self.sum / self.count\n"
   ]
  },
  {
   "cell_type": "code",
   "execution_count": 12,
   "metadata": {
    "ExecuteTime": {
     "end_time": "2019-07-09T10:54:49.325117Z",
     "start_time": "2019-07-09T10:54:49.318166Z"
    },
    "colab": {},
    "colab_type": "code",
    "id": "ULH-ur5YY7q4"
   },
   "outputs": [],
   "source": [
    "def train(train_loader, model, criterion, optimizer, epoch, logging = True):\n",
    "    batch_time = AverageMeter()\n",
    "    losses = AverageMeter()\n",
    "    avg_score = AverageMeter()\n",
    "\n",
    "    model.train()\n",
    "    num_steps = len(train_loader)\n",
    "\n",
    "    end = time.time()\n",
    "    lr_str = ''\n",
    "\n",
    "    for i, (input_, target) in enumerate(train_loader):\n",
    "        if i >= num_steps:\n",
    "            break\n",
    "\n",
    "        output = model(input_.to(device))\n",
    "        loss = criterion(output, target.to(device))\n",
    "        \n",
    "        results = output.detach()\n",
    "        \n",
    "        r1 = torch.max(results[:, 0:2], dim=1)\n",
    "        r2 = torch.max(results[:, 2:4], dim=1)\n",
    "        r3 = torch.max(results[:, 4:6], dim=1)\n",
    "        r4 = torch.max(results[:, 6:8], dim=1)\n",
    "        \n",
    "        predicts = r1 + r2 + r3 + r4\n",
    "\n",
    "        avg_score.update(GAP(predicts, target))\n",
    "\n",
    "        losses.update(loss.data.item(), input_.size(0))\n",
    "        optimizer.zero_grad()\n",
    "        loss.backward()\n",
    "        optimizer.step()\n",
    "\n",
    "        batch_time.update(time.time() - end)\n",
    "        end = time.time()\n",
    "\n",
    "        if logging and i % LOG_FREQ == 0:\n",
    "            print(f'{epoch} [{i}/{num_steps}]\\t'\n",
    "                        f'time {batch_time.val:.3f} ({batch_time.avg:.3f})\\t'\n",
    "                        f'loss {losses.val:.4f} ({losses.avg:.4f})\\t'\n",
    "                        f'GAP {avg_score.val:.4f} ({avg_score.avg:.4f})'\n",
    "                        + lr_str)\n",
    "        if has_time_run_out():\n",
    "            break\n",
    "\n",
    "    print(f' * average GAP on train {avg_score.avg:.4f}')\n",
    "    return avg_score.avg"
   ]
  },
  {
   "cell_type": "code",
   "execution_count": 13,
   "metadata": {
    "ExecuteTime": {
     "end_time": "2019-07-09T10:54:49.735849Z",
     "start_time": "2019-07-09T10:54:49.729871Z"
    },
    "colab": {},
    "colab_type": "code",
    "id": "qU4-dnFhY7q6"
   },
   "outputs": [],
   "source": [
    "def inference(data_loader, model):\n",
    "    ''' Returns predictions and targets, if any. '''\n",
    "    model.eval()\n",
    "\n",
    "    all_predicts, all_targets = [], []\n",
    "\n",
    "    with torch.no_grad():\n",
    "        for i, data in enumerate(data_loader):\n",
    "            if data_loader.dataset.mode != 'test':\n",
    "                input_, target = data\n",
    "            else:\n",
    "                input_, target = data, None\n",
    "\n",
    "            output = model(input_.to(device))\n",
    "            results = output.detach()\n",
    "            r1 = torch.max(results[:, 0:2], dim=1)\n",
    "            r2 = torch.max(results[:, 2:4], dim=1)\n",
    "            r3 = torch.max(results[:, 4:6], dim=1)\n",
    "            r4 = torch.max(results[:, 6:8], dim=1)\n",
    "\n",
    "            predicts = r1 + r2 + r3 + r4\n",
    "            all_predicts.append(predicts)\n",
    "\n",
    "            if target is not None:\n",
    "                all_targets.append(target[:,0]+target[:,2]+target[:,4]+target[:,6])\n",
    "\n",
    "    predicts = torch.cat(all_predicts)\n",
    "    targets = torch.cat(all_targets) if len(all_targets) else None\n",
    "\n",
    "    return predicts, targets"
   ]
  },
  {
   "cell_type": "code",
   "execution_count": 14,
   "metadata": {
    "ExecuteTime": {
     "end_time": "2019-07-09T10:54:50.123515Z",
     "start_time": "2019-07-09T10:54:50.119526Z"
    },
    "colab": {},
    "colab_type": "code",
    "id": "Z-b-DfYuWKjQ"
   },
   "outputs": [],
   "source": [
    "def test(test_loader, model):\n",
    "    predicts, targets = inference(test_loader, model)\n",
    "    predicts = predicts.cpu().numpy().flatten()\n",
    "    targets = targets.cpu().numpy().flatten()\n",
    "    return cohen_kappa_score(targets, predicts)"
   ]
  },
  {
   "cell_type": "code",
   "execution_count": 15,
   "metadata": {
    "ExecuteTime": {
     "end_time": "2019-07-09T10:54:50.388768Z",
     "start_time": "2019-07-09T10:54:50.383782Z"
    },
    "colab": {},
    "colab_type": "code",
    "id": "cl9PIY6rVl9-"
   },
   "outputs": [],
   "source": [
    "def train_loop(epochs, train_loader, test_loader, model, criterion, optimizer, \n",
    "               validate=True):\n",
    "    train_res = []\n",
    "\n",
    "    test_res = []\n",
    "    for epoch in trange(1, epochs + 1):\n",
    "        start_time = time.time()\n",
    "        train_acc = train(train_loader, model, criterion, optimizer, epoch, logging=True)\n",
    "        if has_time_run_out():\n",
    "            break\n",
    "        train_res.append(train_acc)\n",
    "\n",
    "        if validate:\n",
    "            test_acc = test(test_loader, model)\n",
    "            test_res.append(test_acc)\n",
    "            print(f\"validation score: {test_acc}\")\n",
    "            \n",
    "    return train_res, test_res"
   ]
  },
  {
   "cell_type": "code",
   "execution_count": 16,
   "metadata": {
    "ExecuteTime": {
     "end_time": "2019-07-09T10:54:50.719409Z",
     "start_time": "2019-07-09T10:54:50.716417Z"
    },
    "colab": {},
    "colab_type": "code",
    "id": "0eef4m_rY7q7"
   },
   "outputs": [],
   "source": [
    "def has_time_run_out() -> bool:\n",
    "    return time.time() - global_start_time > TIME_LIMIT - 1000"
   ]
  },
  {
   "cell_type": "markdown",
   "metadata": {},
   "source": [
    "# model"
   ]
  },
  {
   "cell_type": "code",
   "execution_count": 17,
   "metadata": {
    "ExecuteTime": {
     "end_time": "2019-07-09T10:54:48.622689Z",
     "start_time": "2019-07-09T10:54:48.617702Z"
    },
    "colab": {},
    "colab_type": "code",
    "id": "NbiWHJ2zY7q0"
   },
   "outputs": [],
   "source": [
    "train_dataset = ImageDataset(train_df, mode='train')\n",
    "val_dataset = ImageDataset(val_df, mode='val')\n",
    "train_loader = DataLoader(train_dataset, batch_size=BATCH_SIZE,\n",
    "                          drop_last=True, num_workers=NUM_WORKERS)\n",
    "\n",
    "val_loader = DataLoader(val_dataset, batch_size=BATCH_SIZE,\n",
    "                        shuffle=False, num_workers=NUM_WORKERS)"
   ]
  },
  {
   "cell_type": "code",
   "execution_count": 18,
   "metadata": {},
   "outputs": [
    {
     "data": {
      "text/html": [
       "<div>\n",
       "<style scoped>\n",
       "    .dataframe tbody tr th:only-of-type {\n",
       "        vertical-align: middle;\n",
       "    }\n",
       "\n",
       "    .dataframe tbody tr th {\n",
       "        vertical-align: top;\n",
       "    }\n",
       "\n",
       "    .dataframe thead th {\n",
       "        text-align: right;\n",
       "    }\n",
       "</style>\n",
       "<table border=\"1\" class=\"dataframe\">\n",
       "  <thead>\n",
       "    <tr style=\"text-align: right;\">\n",
       "      <th></th>\n",
       "      <th>Filename</th>\n",
       "      <th>Drscore</th>\n",
       "    </tr>\n",
       "  </thead>\n",
       "  <tbody>\n",
       "    <tr>\n",
       "      <th>13770</th>\n",
       "      <td>train_image13772.jpg</td>\n",
       "      <td>[1, 0, 1, 0, 1, 0, 0, 1]</td>\n",
       "    </tr>\n",
       "    <tr>\n",
       "      <th>13759</th>\n",
       "      <td>train_image13761.jpg</td>\n",
       "      <td>[1, 0, 1, 0, 1, 0, 1, 0]</td>\n",
       "    </tr>\n",
       "    <tr>\n",
       "      <th>3556</th>\n",
       "      <td>train_image3558.jpeg</td>\n",
       "      <td>[0, 1, 0, 1, 0, 1, 0, 1]</td>\n",
       "    </tr>\n",
       "    <tr>\n",
       "      <th>4584</th>\n",
       "      <td>train_image4586.jpeg</td>\n",
       "      <td>[1, 0, 0, 1, 0, 1, 0, 1]</td>\n",
       "    </tr>\n",
       "    <tr>\n",
       "      <th>17265</th>\n",
       "      <td>d8cdb7d7283a.png</td>\n",
       "      <td>[1, 0, 1, 0, 0, 1, 0, 1]</td>\n",
       "    </tr>\n",
       "  </tbody>\n",
       "</table>\n",
       "</div>"
      ],
      "text/plain": [
       "                   Filename                   Drscore\n",
       "13770  train_image13772.jpg  [1, 0, 1, 0, 1, 0, 0, 1]\n",
       "13759  train_image13761.jpg  [1, 0, 1, 0, 1, 0, 1, 0]\n",
       "3556   train_image3558.jpeg  [0, 1, 0, 1, 0, 1, 0, 1]\n",
       "4584   train_image4586.jpeg  [1, 0, 0, 1, 0, 1, 0, 1]\n",
       "17265      d8cdb7d7283a.png  [1, 0, 1, 0, 0, 1, 0, 1]"
      ]
     },
     "execution_count": 18,
     "metadata": {},
     "output_type": "execute_result"
    }
   ],
   "source": [
    "train_dataset.df.head()"
   ]
  },
  {
   "cell_type": "code",
   "execution_count": 19,
   "metadata": {},
   "outputs": [
    {
     "data": {
      "text/plain": [
       "<matplotlib.image.AxesImage at 0x7f4943369da0>"
      ]
     },
     "execution_count": 19,
     "metadata": {},
     "output_type": "execute_result"
    },
    {
     "data": {
      "image/png": "[encoded data removed]",
      "text/plain": [
       "<Figure size 432x288 with 1 Axes>"
      ]
     },
     "metadata": {
      "needs_background": "light"
     },
     "output_type": "display_data"
    }
   ],
   "source": [
    "plt.imshow(train_dataset[300][0].permute(1, 2, 0))"
   ]
  },
  {
   "cell_type": "code",
   "execution_count": 20,
   "metadata": {
    "ExecuteTime": {
     "end_time": "2019-07-09T10:54:54.231885Z",
     "start_time": "2019-07-09T10:54:54.014465Z"
    },
    "colab": {
     "base_uri": "https://localhost:8080/",
     "height": 88
    },
    "colab_type": "code",
    "executionInfo": {
     "elapsed": 1921,
     "status": "ok",
     "timestamp": 1562386919818,
     "user": {
      "displayName": "Zhaoxiang Cai",
      "photoUrl": "",
      "userId": "16096770806947170717"
     },
     "user_tz": -600
    },
    "id": "NABg4PqmxNpj",
    "outputId": "f55b2153-6c93-4494-c5b7-defee883f881"
   },
   "outputs": [
    {
     "name": "stdout",
     "output_type": "stream",
     "text": [
      "Loaded pretrained weights for efficientnet-b4\n"
     ]
    }
   ],
   "source": [
    "model = EfficientNet.from_pretrained('efficientnet-b4', num_classes=5)"
   ]
  },
  {
   "cell_type": "code",
   "execution_count": 21,
   "metadata": {
    "ExecuteTime": {
     "end_time": "2019-07-09T08:41:09.261860Z",
     "start_time": "2019-07-09T08:41:09.077354Z"
    },
    "colab": {
     "base_uri": "https://localhost:8080/",
     "height": 34
    },
    "colab_type": "code",
    "executionInfo": {
     "elapsed": 9505,
     "status": "ok",
     "timestamp": 1562386932352,
     "user": {
      "displayName": "Zhaoxiang Cai",
      "photoUrl": "",
      "userId": "16096770806947170717"
     },
     "user_tz": -600
    },
    "id": "1lVOgyixJPdc",
    "outputId": "40ecb123-bd53-45fa-ebe2-c256d2467755"
   },
   "outputs": [],
   "source": [
    "# model.load_state_dict(torch.load(\"./model/efficientnet_os.ptm\"))"
   ]
  },
  {
   "cell_type": "code",
   "execution_count": 22,
   "metadata": {
    "ExecuteTime": {
     "end_time": "2019-07-09T10:55:00.882367Z",
     "start_time": "2019-07-09T10:54:58.559493Z"
    },
    "colab": {},
    "colab_type": "code",
    "id": "VhSNqn3nQPw-"
   },
   "outputs": [],
   "source": [
    "model = model.to(device)\n",
    "model = nn.DataParallel(model)\n",
    "criterion = nn.CrossEntropyLoss()\n",
    "optimizer = torch.optim.Adam(model.parameters(), lr=LEARNING_RATE)"
   ]
  },
  {
   "cell_type": "code",
   "execution_count": 23,
   "metadata": {
    "ExecuteTime": {
     "end_time": "2019-07-09T21:34:26.897322Z",
     "start_time": "2019-07-09T14:07:47.217899Z"
    },
    "colab": {
     "base_uri": "https://localhost:8080/",
     "height": 221
    },
    "colab_type": "code",
    "id": "rUIk-bqB2LJD",
    "outputId": "13dd95d2-59da-4a31-9bac-b3e9cfccbef5"
   },
   "outputs": [
    {
     "name": "stderr",
     "output_type": "stream",
     "text": [
      "\r",
      "  0%|          | 0/15 [00:00<?, ?it/s]"
     ]
    },
    {
     "ename": "RuntimeError",
     "evalue": "multi-target not supported at /opt/conda/conda-bld/pytorch_1556653114079/work/aten/src/THCUNN/generic/ClassNLLCriterion.cu:15",
     "output_type": "error",
     "traceback": [
      "\u001b[0;31m---------------------------------------------------------------------------\u001b[0m",
      "\u001b[0;31mRuntimeError\u001b[0m                              Traceback (most recent call last)",
      "\u001b[0;32m<ipython-input-23-92397d6ef9c0>\u001b[0m in \u001b[0;36m<module>\u001b[0;34m\u001b[0m\n\u001b[1;32m      1\u001b[0m \u001b[0mglobal_start_time\u001b[0m \u001b[0;34m=\u001b[0m \u001b[0mtime\u001b[0m\u001b[0;34m.\u001b[0m\u001b[0mtime\u001b[0m\u001b[0;34m(\u001b[0m\u001b[0;34m)\u001b[0m\u001b[0;34m\u001b[0m\u001b[0;34m\u001b[0m\u001b[0m\n\u001b[0;32m----> 2\u001b[0;31m \u001b[0mtrain_res\u001b[0m\u001b[0;34m,\u001b[0m \u001b[0mtest_res\u001b[0m \u001b[0;34m=\u001b[0m \u001b[0mtrain_loop\u001b[0m\u001b[0;34m(\u001b[0m\u001b[0mNUM_EPOCHS\u001b[0m\u001b[0;34m,\u001b[0m \u001b[0mtrain_loader\u001b[0m\u001b[0;34m,\u001b[0m \u001b[0mval_loader\u001b[0m\u001b[0;34m,\u001b[0m \u001b[0mmodel\u001b[0m\u001b[0;34m,\u001b[0m \u001b[0mcriterion\u001b[0m\u001b[0;34m,\u001b[0m \u001b[0moptimizer\u001b[0m\u001b[0;34m)\u001b[0m\u001b[0;34m\u001b[0m\u001b[0;34m\u001b[0m\u001b[0m\n\u001b[0m",
      "\u001b[0;32m<ipython-input-15-cfc3eac5df70>\u001b[0m in \u001b[0;36mtrain_loop\u001b[0;34m(epochs, train_loader, test_loader, model, criterion, optimizer, validate)\u001b[0m\n\u001b[1;32m      6\u001b[0m     \u001b[0;32mfor\u001b[0m \u001b[0mepoch\u001b[0m \u001b[0;32min\u001b[0m \u001b[0mtrange\u001b[0m\u001b[0;34m(\u001b[0m\u001b[0;36m1\u001b[0m\u001b[0;34m,\u001b[0m \u001b[0mepochs\u001b[0m \u001b[0;34m+\u001b[0m \u001b[0;36m1\u001b[0m\u001b[0;34m)\u001b[0m\u001b[0;34m:\u001b[0m\u001b[0;34m\u001b[0m\u001b[0;34m\u001b[0m\u001b[0m\n\u001b[1;32m      7\u001b[0m         \u001b[0mstart_time\u001b[0m \u001b[0;34m=\u001b[0m \u001b[0mtime\u001b[0m\u001b[0;34m.\u001b[0m\u001b[0mtime\u001b[0m\u001b[0;34m(\u001b[0m\u001b[0;34m)\u001b[0m\u001b[0;34m\u001b[0m\u001b[0;34m\u001b[0m\u001b[0m\n\u001b[0;32m----> 8\u001b[0;31m         \u001b[0mtrain_acc\u001b[0m \u001b[0;34m=\u001b[0m \u001b[0mtrain\u001b[0m\u001b[0;34m(\u001b[0m\u001b[0mtrain_loader\u001b[0m\u001b[0;34m,\u001b[0m \u001b[0mmodel\u001b[0m\u001b[0;34m,\u001b[0m \u001b[0mcriterion\u001b[0m\u001b[0;34m,\u001b[0m \u001b[0moptimizer\u001b[0m\u001b[0;34m,\u001b[0m \u001b[0mepoch\u001b[0m\u001b[0;34m,\u001b[0m \u001b[0mlogging\u001b[0m\u001b[0;34m=\u001b[0m\u001b[0;32mTrue\u001b[0m\u001b[0;34m)\u001b[0m\u001b[0;34m\u001b[0m\u001b[0;34m\u001b[0m\u001b[0m\n\u001b[0m\u001b[1;32m      9\u001b[0m         \u001b[0;32mif\u001b[0m \u001b[0mhas_time_run_out\u001b[0m\u001b[0;34m(\u001b[0m\u001b[0;34m)\u001b[0m\u001b[0;34m:\u001b[0m\u001b[0;34m\u001b[0m\u001b[0;34m\u001b[0m\u001b[0m\n\u001b[1;32m     10\u001b[0m             \u001b[0;32mbreak\u001b[0m\u001b[0;34m\u001b[0m\u001b[0;34m\u001b[0m\u001b[0m\n",
      "\u001b[0;32m<ipython-input-12-95bd04f8620f>\u001b[0m in \u001b[0;36mtrain\u001b[0;34m(train_loader, model, criterion, optimizer, epoch, logging)\u001b[0m\n\u001b[1;32m     15\u001b[0m \u001b[0;34m\u001b[0m\u001b[0m\n\u001b[1;32m     16\u001b[0m         \u001b[0moutput\u001b[0m \u001b[0;34m=\u001b[0m \u001b[0mmodel\u001b[0m\u001b[0;34m(\u001b[0m\u001b[0minput_\u001b[0m\u001b[0;34m.\u001b[0m\u001b[0mto\u001b[0m\u001b[0;34m(\u001b[0m\u001b[0mdevice\u001b[0m\u001b[0;34m)\u001b[0m\u001b[0;34m)\u001b[0m\u001b[0;34m\u001b[0m\u001b[0;34m\u001b[0m\u001b[0m\n\u001b[0;32m---> 17\u001b[0;31m         \u001b[0mloss\u001b[0m \u001b[0;34m=\u001b[0m \u001b[0mcriterion\u001b[0m\u001b[0;34m(\u001b[0m\u001b[0moutput\u001b[0m\u001b[0;34m,\u001b[0m \u001b[0mtarget\u001b[0m\u001b[0;34m.\u001b[0m\u001b[0mto\u001b[0m\u001b[0;34m(\u001b[0m\u001b[0mdevice\u001b[0m\u001b[0;34m)\u001b[0m\u001b[0;34m)\u001b[0m\u001b[0;34m\u001b[0m\u001b[0;34m\u001b[0m\u001b[0m\n\u001b[0m\u001b[1;32m     18\u001b[0m \u001b[0;34m\u001b[0m\u001b[0m\n\u001b[1;32m     19\u001b[0m         \u001b[0mresults\u001b[0m \u001b[0;34m=\u001b[0m \u001b[0moutput\u001b[0m\u001b[0;34m.\u001b[0m\u001b[0mdetach\u001b[0m\u001b[0;34m(\u001b[0m\u001b[0;34m)\u001b[0m\u001b[0;34m\u001b[0m\u001b[0;34m\u001b[0m\u001b[0m\n",
      "\u001b[0;32m~/anaconda3/envs/torch/lib/python3.7/site-packages/torch/nn/modules/module.py\u001b[0m in \u001b[0;36m__call__\u001b[0;34m(self, *input, **kwargs)\u001b[0m\n\u001b[1;32m    491\u001b[0m             \u001b[0mresult\u001b[0m \u001b[0;34m=\u001b[0m \u001b[0mself\u001b[0m\u001b[0;34m.\u001b[0m\u001b[0m_slow_forward\u001b[0m\u001b[0;34m(\u001b[0m\u001b[0;34m*\u001b[0m\u001b[0minput\u001b[0m\u001b[0;34m,\u001b[0m \u001b[0;34m**\u001b[0m\u001b[0mkwargs\u001b[0m\u001b[0;34m)\u001b[0m\u001b[0;34m\u001b[0m\u001b[0;34m\u001b[0m\u001b[0m\n\u001b[1;32m    492\u001b[0m         \u001b[0;32melse\u001b[0m\u001b[0;34m:\u001b[0m\u001b[0;34m\u001b[0m\u001b[0;34m\u001b[0m\u001b[0m\n\u001b[0;32m--> 493\u001b[0;31m             \u001b[0mresult\u001b[0m \u001b[0;34m=\u001b[0m \u001b[0mself\u001b[0m\u001b[0;34m.\u001b[0m\u001b[0mforward\u001b[0m\u001b[0;34m(\u001b[0m\u001b[0;34m*\u001b[0m\u001b[0minput\u001b[0m\u001b[0;34m,\u001b[0m \u001b[0;34m**\u001b[0m\u001b[0mkwargs\u001b[0m\u001b[0;34m)\u001b[0m\u001b[0;34m\u001b[0m\u001b[0;34m\u001b[0m\u001b[0m\n\u001b[0m\u001b[1;32m    494\u001b[0m         \u001b[0;32mfor\u001b[0m \u001b[0mhook\u001b[0m \u001b[0;32min\u001b[0m \u001b[0mself\u001b[0m\u001b[0;34m.\u001b[0m\u001b[0m_forward_hooks\u001b[0m\u001b[0;34m.\u001b[0m\u001b[0mvalues\u001b[0m\u001b[0;34m(\u001b[0m\u001b[0;34m)\u001b[0m\u001b[0;34m:\u001b[0m\u001b[0;34m\u001b[0m\u001b[0;34m\u001b[0m\u001b[0m\n\u001b[1;32m    495\u001b[0m             \u001b[0mhook_result\u001b[0m \u001b[0;34m=\u001b[0m \u001b[0mhook\u001b[0m\u001b[0;34m(\u001b[0m\u001b[0mself\u001b[0m\u001b[0;34m,\u001b[0m \u001b[0minput\u001b[0m\u001b[0;34m,\u001b[0m \u001b[0mresult\u001b[0m\u001b[0;34m)\u001b[0m\u001b[0;34m\u001b[0m\u001b[0;34m\u001b[0m\u001b[0m\n",
      "\u001b[0;32m~/anaconda3/envs/torch/lib/python3.7/site-packages/torch/nn/modules/loss.py\u001b[0m in \u001b[0;36mforward\u001b[0;34m(self, input, target)\u001b[0m\n\u001b[1;32m    940\u001b[0m     \u001b[0;32mdef\u001b[0m \u001b[0mforward\u001b[0m\u001b[0;34m(\u001b[0m\u001b[0mself\u001b[0m\u001b[0;34m,\u001b[0m \u001b[0minput\u001b[0m\u001b[0;34m,\u001b[0m \u001b[0mtarget\u001b[0m\u001b[0;34m)\u001b[0m\u001b[0;34m:\u001b[0m\u001b[0;34m\u001b[0m\u001b[0;34m\u001b[0m\u001b[0m\n\u001b[1;32m    941\u001b[0m         return F.cross_entropy(input, target, weight=self.weight,\n\u001b[0;32m--> 942\u001b[0;31m                                ignore_index=self.ignore_index, reduction=self.reduction)\n\u001b[0m\u001b[1;32m    943\u001b[0m \u001b[0;34m\u001b[0m\u001b[0m\n\u001b[1;32m    944\u001b[0m \u001b[0;34m\u001b[0m\u001b[0m\n",
      "\u001b[0;32m~/anaconda3/envs/torch/lib/python3.7/site-packages/torch/nn/functional.py\u001b[0m in \u001b[0;36mcross_entropy\u001b[0;34m(input, target, weight, size_average, ignore_index, reduce, reduction)\u001b[0m\n\u001b[1;32m   2054\u001b[0m     \u001b[0;32mif\u001b[0m \u001b[0msize_average\u001b[0m \u001b[0;32mis\u001b[0m \u001b[0;32mnot\u001b[0m \u001b[0;32mNone\u001b[0m \u001b[0;32mor\u001b[0m \u001b[0mreduce\u001b[0m \u001b[0;32mis\u001b[0m \u001b[0;32mnot\u001b[0m \u001b[0;32mNone\u001b[0m\u001b[0;34m:\u001b[0m\u001b[0;34m\u001b[0m\u001b[0;34m\u001b[0m\u001b[0m\n\u001b[1;32m   2055\u001b[0m         \u001b[0mreduction\u001b[0m \u001b[0;34m=\u001b[0m \u001b[0m_Reduction\u001b[0m\u001b[0;34m.\u001b[0m\u001b[0mlegacy_get_string\u001b[0m\u001b[0;34m(\u001b[0m\u001b[0msize_average\u001b[0m\u001b[0;34m,\u001b[0m \u001b[0mreduce\u001b[0m\u001b[0;34m)\u001b[0m\u001b[0;34m\u001b[0m\u001b[0;34m\u001b[0m\u001b[0m\n\u001b[0;32m-> 2056\u001b[0;31m     \u001b[0;32mreturn\u001b[0m \u001b[0mnll_loss\u001b[0m\u001b[0;34m(\u001b[0m\u001b[0mlog_softmax\u001b[0m\u001b[0;34m(\u001b[0m\u001b[0minput\u001b[0m\u001b[0;34m,\u001b[0m \u001b[0;36m1\u001b[0m\u001b[0;34m)\u001b[0m\u001b[0;34m,\u001b[0m \u001b[0mtarget\u001b[0m\u001b[0;34m,\u001b[0m \u001b[0mweight\u001b[0m\u001b[0;34m,\u001b[0m \u001b[0;32mNone\u001b[0m\u001b[0;34m,\u001b[0m \u001b[0mignore_index\u001b[0m\u001b[0;34m,\u001b[0m \u001b[0;32mNone\u001b[0m\u001b[0;34m,\u001b[0m \u001b[0mreduction\u001b[0m\u001b[0;34m)\u001b[0m\u001b[0;34m\u001b[0m\u001b[0;34m\u001b[0m\u001b[0m\n\u001b[0m\u001b[1;32m   2057\u001b[0m \u001b[0;34m\u001b[0m\u001b[0m\n\u001b[1;32m   2058\u001b[0m \u001b[0;34m\u001b[0m\u001b[0m\n",
      "\u001b[0;32m~/anaconda3/envs/torch/lib/python3.7/site-packages/torch/nn/functional.py\u001b[0m in \u001b[0;36mnll_loss\u001b[0;34m(input, target, weight, size_average, ignore_index, reduce, reduction)\u001b[0m\n\u001b[1;32m   1869\u001b[0m                          .format(input.size(0), target.size(0)))\n\u001b[1;32m   1870\u001b[0m     \u001b[0;32mif\u001b[0m \u001b[0mdim\u001b[0m \u001b[0;34m==\u001b[0m \u001b[0;36m2\u001b[0m\u001b[0;34m:\u001b[0m\u001b[0;34m\u001b[0m\u001b[0;34m\u001b[0m\u001b[0m\n\u001b[0;32m-> 1871\u001b[0;31m         \u001b[0mret\u001b[0m \u001b[0;34m=\u001b[0m \u001b[0mtorch\u001b[0m\u001b[0;34m.\u001b[0m\u001b[0m_C\u001b[0m\u001b[0;34m.\u001b[0m\u001b[0m_nn\u001b[0m\u001b[0;34m.\u001b[0m\u001b[0mnll_loss\u001b[0m\u001b[0;34m(\u001b[0m\u001b[0minput\u001b[0m\u001b[0;34m,\u001b[0m \u001b[0mtarget\u001b[0m\u001b[0;34m,\u001b[0m \u001b[0mweight\u001b[0m\u001b[0;34m,\u001b[0m \u001b[0m_Reduction\u001b[0m\u001b[0;34m.\u001b[0m\u001b[0mget_enum\u001b[0m\u001b[0;34m(\u001b[0m\u001b[0mreduction\u001b[0m\u001b[0;34m)\u001b[0m\u001b[0;34m,\u001b[0m \u001b[0mignore_index\u001b[0m\u001b[0;34m)\u001b[0m\u001b[0;34m\u001b[0m\u001b[0;34m\u001b[0m\u001b[0m\n\u001b[0m\u001b[1;32m   1872\u001b[0m     \u001b[0;32melif\u001b[0m \u001b[0mdim\u001b[0m \u001b[0;34m==\u001b[0m \u001b[0;36m4\u001b[0m\u001b[0;34m:\u001b[0m\u001b[0;34m\u001b[0m\u001b[0;34m\u001b[0m\u001b[0m\n\u001b[1;32m   1873\u001b[0m         \u001b[0mret\u001b[0m \u001b[0;34m=\u001b[0m \u001b[0mtorch\u001b[0m\u001b[0;34m.\u001b[0m\u001b[0m_C\u001b[0m\u001b[0;34m.\u001b[0m\u001b[0m_nn\u001b[0m\u001b[0;34m.\u001b[0m\u001b[0mnll_loss2d\u001b[0m\u001b[0;34m(\u001b[0m\u001b[0minput\u001b[0m\u001b[0;34m,\u001b[0m \u001b[0mtarget\u001b[0m\u001b[0;34m,\u001b[0m \u001b[0mweight\u001b[0m\u001b[0;34m,\u001b[0m \u001b[0m_Reduction\u001b[0m\u001b[0;34m.\u001b[0m\u001b[0mget_enum\u001b[0m\u001b[0;34m(\u001b[0m\u001b[0mreduction\u001b[0m\u001b[0;34m)\u001b[0m\u001b[0;34m,\u001b[0m \u001b[0mignore_index\u001b[0m\u001b[0;34m)\u001b[0m\u001b[0;34m\u001b[0m\u001b[0;34m\u001b[0m\u001b[0m\n",
      "\u001b[0;31mRuntimeError\u001b[0m: multi-target not supported at /opt/conda/conda-bld/pytorch_1556653114079/work/aten/src/THCUNN/generic/ClassNLLCriterion.cu:15"
     ]
    }
   ],
   "source": [
    "global_start_time = time.time()\n",
    "train_res, test_res = train_loop(NUM_EPOCHS, train_loader, val_loader, model, criterion, optimizer)"
   ]
  },
  {
   "cell_type": "code",
   "execution_count": 27,
   "metadata": {
    "ExecuteTime": {
     "end_time": "2019-07-09T14:02:27.760691Z",
     "start_time": "2019-07-09T13:55:18.940336Z"
    },
    "colab": {},
    "colab_type": "code",
    "id": "qzkBpCP-sxRS"
   },
   "outputs": [],
   "source": [
    "predicts, targets = inference(val_loader, model)"
   ]
  },
  {
   "cell_type": "code",
   "execution_count": 28,
   "metadata": {
    "ExecuteTime": {
     "end_time": "2019-07-09T14:02:27.797593Z",
     "start_time": "2019-07-09T14:02:27.762686Z"
    }
   },
   "outputs": [
    {
     "name": "stdout",
     "output_type": "stream",
     "text": [
      "              precision    recall  f1-score   support\n",
      "\n",
      "           0       0.85      0.94      0.89      1969\n",
      "           1       0.20      0.12      0.15       205\n",
      "           2       0.64      0.47      0.54       460\n",
      "           3       0.56      0.61      0.58       130\n",
      "           4       0.66      0.57      0.61        65\n",
      "\n",
      "   micro avg       0.78      0.78      0.78      2829\n",
      "   macro avg       0.58      0.54      0.56      2829\n",
      "weighted avg       0.75      0.78      0.76      2829\n",
      "\n"
     ]
    }
   ],
   "source": [
    "print(classification_report(targets.cpu(), predicts.cpu()))"
   ]
  },
  {
   "cell_type": "code",
   "execution_count": 29,
   "metadata": {
    "ExecuteTime": {
     "end_time": "2019-07-09T14:02:27.805571Z",
     "start_time": "2019-07-09T14:02:27.798591Z"
    }
   },
   "outputs": [
    {
     "data": {
      "text/plain": [
       "array([[1852,   61,   49,    4,    3],\n",
       "       [ 152,   25,   25,    3,    0],\n",
       "       [ 153,   35,  216,   50,    6],\n",
       "       [   6,    3,   32,   79,   10],\n",
       "       [   9,    0,   14,    5,   37]], dtype=int64)"
      ]
     },
     "execution_count": 29,
     "metadata": {},
     "output_type": "execute_result"
    }
   ],
   "source": [
    "confusion_matrix(targets.cpu(), predicts.cpu())"
   ]
  },
  {
   "cell_type": "code",
   "execution_count": 30,
   "metadata": {
    "ExecuteTime": {
     "end_time": "2019-07-09T14:02:27.817539Z",
     "start_time": "2019-07-09T14:02:27.807566Z"
    }
   },
   "outputs": [
    {
     "data": {
      "text/plain": [
       "0.5023637989084222"
      ]
     },
     "execution_count": 30,
     "metadata": {},
     "output_type": "execute_result"
    }
   ],
   "source": [
    "cohen_kappa_score(targets.cpu(), predicts.cpu())"
   ]
  },
  {
   "cell_type": "code",
   "execution_count": 40,
   "metadata": {
    "ExecuteTime": {
     "end_time": "2019-07-09T21:34:27.095829Z",
     "start_time": "2019-07-09T21:34:26.913281Z"
    },
    "colab": {},
    "colab_type": "code",
    "id": "Pt3sseSLY7rJ"
   },
   "outputs": [],
   "source": [
    "torch.save(model.state_dict(), \"../model/efficientnet_wc.ptm\")"
   ]
  }
 ],
 "metadata": {
  "accelerator": "GPU",
  "colab": {
   "collapsed_sections": [],
   "name": "syd_innovation.ipynb",
   "provenance": [],
   "version": "0.3.2"
  },
  "kernelspec": {
   "display_name": "Python 3",
   "language": "python",
   "name": "python3"
  },
  "language_info": {
   "codemirror_mode": {
    "name": "ipython",
    "version": 3
   },
   "file_extension": ".py",
   "mimetype": "text/x-python",
   "name": "python",
   "nbconvert_exporter": "python",
   "pygments_lexer": "ipython3",
   "version": "3.7.3"
  },
  "notify_time": "5",
  "toc": {
   "base_numbering": 1,
   "nav_menu": {},
   "number_sections": true,
   "sideBar": true,
   "skip_h1_title": false,
   "title_cell": "Table of Contents",
   "title_sidebar": "Contents",
   "toc_cell": false,
   "toc_position": {},
   "toc_section_display": true,
   "toc_window_display": false
  }
 },
 "nbformat": 4,
 "nbformat_minor": 1
}
