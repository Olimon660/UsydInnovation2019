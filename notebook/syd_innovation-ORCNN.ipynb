{
 "cells": [
  {
   "cell_type": "code",
   "execution_count": 1,
   "metadata": {
    "ExecuteTime": {
     "end_time": "2019-07-16T10:45:32.329924Z",
     "start_time": "2019-07-16T10:45:31.355503Z"
    },
    "_cell_guid": "79c7e3d0-c299-4dcb-8224-4455121ee9b0",
    "_uuid": "d629ff2d2480ee46fbb7e2d37f6b5fab8052498a",
    "colab": {},
    "colab_type": "code",
    "id": "W6mUxDRCY7qg"
   },
   "outputs": [],
   "source": [
    "import numpy as np\n",
    "import torch\n",
    "import torchvision\n",
    "from torch.utils.data import Dataset, DataLoader, WeightedRandomSampler\n",
    "import os\n",
    "import torchvision.transforms as transforms\n",
    "from PIL import Image\n",
    "import matplotlib.pyplot as plt\n",
    "from sklearn.model_selection import train_test_split\n",
    "import torch.nn as nn\n",
    "from tqdm import tqdm, trange\n",
    "import time\n",
    "from PIL import ImageFile\n",
    "ImageFile.LOAD_TRUNCATED_IMAGES = True\n",
    "from sklearn.metrics import classification_report, accuracy_score, confusion_matrix, cohen_kappa_score\n",
    "from efficientnet_pytorch import EfficientNet\n",
    "import pandas as pd"
   ]
  },
  {
   "cell_type": "code",
   "execution_count": 2,
   "metadata": {
    "ExecuteTime": {
     "end_time": "2019-07-16T10:45:32.428898Z",
     "start_time": "2019-07-16T10:45:32.331876Z"
    },
    "colab": {
     "base_uri": "https://localhost:8080/",
     "height": 34
    },
    "colab_type": "code",
    "executionInfo": {
     "elapsed": 819,
     "status": "ok",
     "timestamp": 1562386895031,
     "user": {
      "displayName": "Zhaoxiang Cai",
      "photoUrl": "",
      "userId": "16096770806947170717"
     },
     "user_tz": -600
    },
    "id": "BWSRChcqY7qj",
    "outputId": "a57b2615-08ce-41e1-80ff-731f81d0fa3a"
   },
   "outputs": [
    {
     "data": {
      "text/plain": [
       "'Tesla T4'"
      ]
     },
     "execution_count": 2,
     "metadata": {},
     "output_type": "execute_result"
    }
   ],
   "source": [
    "seed = 42\n",
    "torch.cuda.get_device_name()"
   ]
  },
  {
   "cell_type": "code",
   "execution_count": 3,
   "metadata": {
    "ExecuteTime": {
     "end_time": "2019-07-16T10:45:32.448060Z",
     "start_time": "2019-07-16T10:45:32.430538Z"
    },
    "colab": {},
    "colab_type": "code",
    "id": "VkbGeclTY7ql"
   },
   "outputs": [],
   "source": [
    "labels = pd.read_csv(\"../input/training-labels.csv\")"
   ]
  },
  {
   "cell_type": "code",
   "execution_count": 4,
   "metadata": {
    "ExecuteTime": {
     "end_time": "2019-07-16T10:45:32.455027Z",
     "start_time": "2019-07-16T10:45:32.449852Z"
    },
    "colab": {
     "base_uri": "https://localhost:8080/",
     "height": 136
    },
    "colab_type": "code",
    "executionInfo": {
     "elapsed": 1077,
     "status": "ok",
     "timestamp": 1562386908045,
     "user": {
      "displayName": "Zhaoxiang Cai",
      "photoUrl": "",
      "userId": "16096770806947170717"
     },
     "user_tz": -600
    },
    "id": "vGps3t0TY7qn",
    "outputId": "d45d84e1-c685-4dd3-ed34-ae50fc3ad3f6"
   },
   "outputs": [
    {
     "data": {
      "text/plain": [
       "Drscore\n",
       "0    11651\n",
       "1     1397\n",
       "2     3299\n",
       "3      841\n",
       "4      619\n",
       "dtype: int64"
      ]
     },
     "execution_count": 4,
     "metadata": {},
     "output_type": "execute_result"
    }
   ],
   "source": [
    "labels.groupby(['Drscore']).size()"
   ]
  },
  {
   "cell_type": "code",
   "execution_count": 5,
   "metadata": {
    "ExecuteTime": {
     "end_time": "2019-07-16T10:45:32.478247Z",
     "start_time": "2019-07-16T10:45:32.456550Z"
    },
    "colab": {},
    "colab_type": "code",
    "id": "BlvC_5MAY7qp"
   },
   "outputs": [],
   "source": [
    "train_df, val_df = train_test_split(labels, test_size=0.2,stratify=labels['Drscore'], random_state = seed)"
   ]
  },
  {
   "cell_type": "code",
   "execution_count": 6,
   "metadata": {
    "ExecuteTime": {
     "end_time": "2019-07-16T10:45:32.482540Z",
     "start_time": "2019-07-16T10:45:32.479487Z"
    },
    "colab": {},
    "colab_type": "code",
    "id": "tAlrsNF-Y7qx"
   },
   "outputs": [],
   "source": [
    "BATCH_SIZE = 2**3\n",
    "NUM_WORKERS = 2\n",
    "LEARNING_RATE = 5e-5\n",
    "NUM_EPOCHS = 8\n",
    "LOG_FREQ = 100\n",
    "TIME_LIMIT = 8 * 60 * 60\n",
    "RESIZE = 350\n",
    "torch.cuda.empty_cache()"
   ]
  },
  {
   "cell_type": "code",
   "execution_count": 7,
   "metadata": {
    "ExecuteTime": {
     "end_time": "2019-07-16T10:45:32.486429Z",
     "start_time": "2019-07-16T10:45:32.483629Z"
    },
    "colab": {},
    "colab_type": "code",
    "id": "y56F4brTY7q2"
   },
   "outputs": [],
   "source": [
    "device = 'cuda' if torch.cuda.is_available() else 'cpu'"
   ]
  },
  {
   "cell_type": "markdown",
   "metadata": {},
   "source": [
    "# classes"
   ]
  },
  {
   "cell_type": "code",
   "execution_count": 8,
   "metadata": {
    "ExecuteTime": {
     "end_time": "2019-07-16T10:45:32.492481Z",
     "start_time": "2019-07-16T10:45:32.487931Z"
    }
   },
   "outputs": [],
   "source": [
    "class ORCNN(nn.Module):\n",
    "    def __init__(self):\n",
    "        super(ORCNN, self).__init__()\n",
    "        self.efnet = EfficientNet.from_pretrained('efficientnet-b4', num_classes=5)\n",
    "        self.efnet._fc = nn.Identity()\n",
    "        self.or_layers = nn.ModuleList()\n",
    "        for k in range(4):\n",
    "            self.or_layers.append(nn.Linear(1792, 2))\n",
    "\n",
    "    def forward(self, x, k):\n",
    "        x = self.efnet(x)\n",
    "        x = self.or_layers[k](x)\n",
    "        \n",
    "        return x"
   ]
  },
  {
   "cell_type": "code",
   "execution_count": 9,
   "metadata": {
    "ExecuteTime": {
     "end_time": "2019-07-16T10:45:32.502500Z",
     "start_time": "2019-07-16T10:45:32.493713Z"
    },
    "colab": {},
    "colab_type": "code",
    "id": "RQ1ww41-Y7qr"
   },
   "outputs": [],
   "source": [
    "class ImageDataset(Dataset):\n",
    "    def __init__(self, dataframe, mode):\n",
    "        assert mode in ['train', 'val', 'test']\n",
    "\n",
    "        self.df = dataframe.copy()\n",
    "#         self.df['Drscore'] = (self.df['Drscore'] > k).astype(int)\n",
    "        self.mode = mode\n",
    "\n",
    "        transforms_list = [\n",
    "            transforms.Resize(RESIZE),\n",
    "            transforms.CenterCrop(RESIZE)\n",
    "        ]\n",
    "\n",
    "        if self.mode == 'train':\n",
    "            transforms_list.extend([\n",
    "                transforms.RandomHorizontalFlip(),\n",
    "                transforms.RandomChoice([\n",
    "                    transforms.RandomAffine(degrees=(0,360), translate=(0.1, 0.1),\n",
    "                                            scale=(0.9, 1.1))\n",
    "                ])\n",
    "            ])\n",
    "\n",
    "        transforms_list.extend([\n",
    "            transforms.ToTensor(),\n",
    "            #             transforms.Normalize(mean=[0.485, 0.456, 0.406],\n",
    "            #                                   std=[0.229, 0.224, 0.225]),\n",
    "        ])\n",
    "        self.transforms = transforms.Compose(transforms_list)\n",
    "\n",
    "    def __getitem__(self, index):\n",
    "        ''' Returns: tuple (sample, target) '''\n",
    "        filename = self.df['Filename'].values[index]\n",
    "\n",
    "        directory = '../input/Test' if self.mode == 'test' else '../input/output_combined2'\n",
    "        sample = Image.open(f'./{directory}/gb_{filename}')\n",
    "        image = self.transforms(sample)\n",
    "\n",
    "        if self.mode == 'test':\n",
    "            return image\n",
    "        else:\n",
    "            return image, self.df['Drscore'].values[index]\n",
    "\n",
    "    def scaleRadius(self, img, scale):\n",
    "        x = img[img.shape[0]//2,:,:].sum(1)\n",
    "        r = (x > x.mean() / 10).sum() / 2\n",
    "        s = scale * 1.0 / r\n",
    "        return cv2.resize(img, (0, 0), fx=s, fy=s)\n",
    "\n",
    "    def __len__(self):\n",
    "        return self.df.shape[0]"
   ]
  },
  {
   "cell_type": "code",
   "execution_count": 10,
   "metadata": {
    "ExecuteTime": {
     "end_time": "2019-07-16T10:45:32.507504Z",
     "start_time": "2019-07-16T10:45:32.503579Z"
    },
    "colab": {},
    "colab_type": "code",
    "id": "uCEQvEt-Y7qt"
   },
   "outputs": [],
   "source": [
    "def GAP(predicts, confs, targets):\n",
    "    ''' Simplified GAP@1 metric: only one prediction per sample is supported '''\n",
    "    predicts = predicts.cpu().numpy()\n",
    "    targets = targets.cpu().numpy()\n",
    "\n",
    "    res = accuracy_score(targets, predicts)\n",
    "    return res"
   ]
  },
  {
   "cell_type": "code",
   "execution_count": 11,
   "metadata": {
    "ExecuteTime": {
     "end_time": "2019-07-16T10:45:32.512990Z",
     "start_time": "2019-07-16T10:45:32.508739Z"
    },
    "colab": {},
    "colab_type": "code",
    "id": "MJXokEE1Y7qv"
   },
   "outputs": [],
   "source": [
    "class AverageMeter:\n",
    "    ''' Computes and stores the average and current value '''\n",
    "    def __init__(self):\n",
    "        self.reset()\n",
    "\n",
    "    def reset(self):\n",
    "        self.val = 0.0\n",
    "        self.avg = 0.0\n",
    "        self.sum = 0.0\n",
    "        self.count = 0\n",
    "\n",
    "    def update(self, val, n = 1) :\n",
    "        self.val = val\n",
    "        self.sum += val * n\n",
    "        self.count += n\n",
    "        self.avg = self.sum / self.count\n"
   ]
  },
  {
   "cell_type": "code",
   "execution_count": 12,
   "metadata": {
    "ExecuteTime": {
     "end_time": "2019-07-16T10:45:32.523016Z",
     "start_time": "2019-07-16T10:45:32.514146Z"
    },
    "colab": {},
    "colab_type": "code",
    "id": "ULH-ur5YY7q4"
   },
   "outputs": [],
   "source": [
    "def train(train_loader, model, criterion, optimizer, epoch, logging = True):\n",
    "    batch_time = AverageMeter()\n",
    "    losses = AverageMeter()\n",
    "    avg_score = AverageMeter()\n",
    "\n",
    "    model.train()\n",
    "    num_steps = len(train_loader)\n",
    "\n",
    "    end = time.time()\n",
    "    lr_str = ''\n",
    "\n",
    "    for i, (input_, target) in enumerate(train_loader):\n",
    "        if i >= num_steps:\n",
    "            break\n",
    "            \n",
    "        confs_k = []\n",
    "        predicts_k = [] \n",
    "        loss_k = []\n",
    "        for k in range(4):\n",
    "            output = model(input_.to(device), k)\n",
    "            confs_c, predicts_c = torch.max(output.detach(), dim=1)\n",
    "            confs_k.append(confs_c)\n",
    "            predicts_k.append(predicts_c)\n",
    "            \n",
    "            target_k = (target>k).long()\n",
    "            loss_c = criterion(output, target_k.to(device))\n",
    "            loss_k.append(loss_c)\n",
    "            losses.update(loss_c.data.item(), input_.size(0))\n",
    "        \n",
    "        loss = sum(loss_k)\n",
    "        confs = sum(confs_k)/len(confs_k)\n",
    "        predicts = sum(predicts_k)\n",
    "        \n",
    "        \n",
    "        avg_score.update(GAP(predicts.detach(), confs, target))\n",
    "\n",
    "        optimizer.zero_grad()\n",
    "        loss.backward()\n",
    "        optimizer.step()\n",
    "\n",
    "        batch_time.update(time.time() - end)\n",
    "        end = time.time()\n",
    "\n",
    "        if logging and i % LOG_FREQ == 0:\n",
    "            print(f'{epoch} [{i}/{num_steps}]\\t'\n",
    "                        f'time {batch_time.val:.3f} ({batch_time.avg:.3f})\\t'\n",
    "                        f'loss {losses.val:.4f} ({losses.avg:.4f})\\t'\n",
    "                        f'GAP {avg_score.val:.4f} ({avg_score.avg:.4f})'\n",
    "                        + lr_str)\n",
    "        if has_time_run_out():\n",
    "            break\n",
    "\n",
    "    print(f' * average GAP on train {avg_score.avg:.4f}')\n",
    "    return avg_score.avg"
   ]
  },
  {
   "cell_type": "code",
   "execution_count": 13,
   "metadata": {
    "ExecuteTime": {
     "end_time": "2019-07-16T10:45:32.531459Z",
     "start_time": "2019-07-16T10:45:32.524885Z"
    },
    "colab": {},
    "colab_type": "code",
    "id": "qU4-dnFhY7q6"
   },
   "outputs": [],
   "source": [
    "def inference(data_loader, model):\n",
    "    ''' Returns predictions and targets, if any. '''\n",
    "    model.eval()\n",
    "\n",
    "    activation = nn.Softmax(dim=1)\n",
    "    all_predicts, all_confs, all_targets = [], [], []\n",
    "\n",
    "    with torch.no_grad():\n",
    "        for i, data in enumerate(tqdm(data_loader)):\n",
    "            if data_loader.dataset.mode != 'test':\n",
    "                input_, target = data\n",
    "            else:\n",
    "                input_, target = data, None\n",
    "\n",
    "            predicts_k = []\n",
    "            confs_k = []\n",
    "            for k in range(4):\n",
    "                output = model(input_.to(device), k)\n",
    "                output = activation(output)\n",
    "                confs_c, predicts_c = torch.topk(output, 1)\n",
    "                predicts_k.append(predicts_c)\n",
    "                confs_k.append(confs_c)\n",
    "            \n",
    "            predicts = sum(predicts_k)\n",
    "            confs = sum(confs_k)/len(confs_k)\n",
    "            all_confs.append(confs)\n",
    "            all_predicts.append(predicts)\n",
    "\n",
    "            if target is not None:\n",
    "                all_targets.append(target)\n",
    "\n",
    "    predicts = torch.cat(all_predicts)\n",
    "    confs = torch.cat(all_confs)\n",
    "    targets = torch.cat(all_targets) if len(all_targets) else None\n",
    "\n",
    "    return predicts, confs, targets"
   ]
  },
  {
   "cell_type": "code",
   "execution_count": 14,
   "metadata": {
    "ExecuteTime": {
     "end_time": "2019-07-16T10:45:32.536006Z",
     "start_time": "2019-07-16T10:45:32.532797Z"
    },
    "colab": {},
    "colab_type": "code",
    "id": "Z-b-DfYuWKjQ"
   },
   "outputs": [],
   "source": [
    "def test(test_loader, model):\n",
    "    predicts, targets = inference(test_loader, model)\n",
    "    predicts = predicts.cpu().numpy().flatten()\n",
    "    targets = targets.cpu().numpy().flatten()\n",
    "    return cohen_kappa_score(targets, predicts)"
   ]
  },
  {
   "cell_type": "code",
   "execution_count": 15,
   "metadata": {
    "ExecuteTime": {
     "end_time": "2019-07-16T10:45:32.541564Z",
     "start_time": "2019-07-16T10:45:32.537148Z"
    },
    "colab": {},
    "colab_type": "code",
    "id": "cl9PIY6rVl9-"
   },
   "outputs": [],
   "source": [
    "def train_loop(epochs, train_loader, test_loader, model, criterion, optimizer,\n",
    "               validate=True):\n",
    "    train_res = []\n",
    "\n",
    "    test_res = []\n",
    "    for epoch in trange(1, epochs + 1):\n",
    "        start_time = time.time()\n",
    "        train_acc = train(train_loader, model, criterion, optimizer, epoch, logging=True)\n",
    "        if has_time_run_out():\n",
    "            break\n",
    "        train_res.append(train_acc)\n",
    "\n",
    "        if validate:\n",
    "            test_acc = test(test_loader, model)\n",
    "            test_res.append(test_acc)\n",
    "            print(f\"validation score: {test_acc}\")\n",
    "            \n",
    "    return train_res, test_res"
   ]
  },
  {
   "cell_type": "code",
   "execution_count": 16,
   "metadata": {
    "ExecuteTime": {
     "end_time": "2019-07-16T10:45:32.545071Z",
     "start_time": "2019-07-16T10:45:32.542690Z"
    },
    "colab": {},
    "colab_type": "code",
    "id": "0eef4m_rY7q7"
   },
   "outputs": [],
   "source": [
    "def has_time_run_out() -> bool:\n",
    "    return time.time() - global_start_time > TIME_LIMIT - 1000"
   ]
  },
  {
   "cell_type": "markdown",
   "metadata": {},
   "source": [
    "# training"
   ]
  },
  {
   "cell_type": "code",
   "execution_count": 17,
   "metadata": {
    "ExecuteTime": {
     "end_time": "2019-07-16T10:45:32.550356Z",
     "start_time": "2019-07-16T10:45:32.546178Z"
    },
    "colab": {},
    "colab_type": "code",
    "id": "NbiWHJ2zY7q0"
   },
   "outputs": [],
   "source": [
    "train_dataset = ImageDataset(train_df, mode='train')\n",
    "val_dataset = ImageDataset(val_df, mode='val')\n",
    "train_loader = DataLoader(train_dataset, batch_size=BATCH_SIZE,\n",
    "                          drop_last=True, num_workers=NUM_WORKERS)\n",
    "\n",
    "val_loader = DataLoader(val_dataset, batch_size=BATCH_SIZE,\n",
    "                        shuffle=False, num_workers=NUM_WORKERS)"
   ]
  },
  {
   "cell_type": "code",
   "execution_count": 18,
   "metadata": {
    "ExecuteTime": {
     "end_time": "2019-07-16T10:45:36.432091Z",
     "start_time": "2019-07-16T10:45:32.551457Z"
    },
    "colab": {
     "base_uri": "https://localhost:8080/",
     "height": 88
    },
    "colab_type": "code",
    "executionInfo": {
     "elapsed": 1921,
     "status": "ok",
     "timestamp": 1562386919818,
     "user": {
      "displayName": "Zhaoxiang Cai",
      "photoUrl": "",
      "userId": "16096770806947170717"
     },
     "user_tz": -600
    },
    "id": "NABg4PqmxNpj",
    "outputId": "f55b2153-6c93-4494-c5b7-defee883f881"
   },
   "outputs": [
    {
     "name": "stdout",
     "output_type": "stream",
     "text": [
      "Loaded pretrained weights for efficientnet-b4\n"
     ]
    }
   ],
   "source": [
    "model = ORCNN()\n",
    "model = nn.DataParallel(model)\n",
    "model = model.to(device)"
   ]
  },
  {
   "cell_type": "code",
   "execution_count": 23,
   "metadata": {
    "ExecuteTime": {
     "end_time": "2019-07-16T10:58:50.596436Z",
     "start_time": "2019-07-16T10:58:49.270580Z"
    },
    "colab": {
     "base_uri": "https://localhost:8080/",
     "height": 34
    },
    "colab_type": "code",
    "executionInfo": {
     "elapsed": 9505,
     "status": "ok",
     "timestamp": 1562386932352,
     "user": {
      "displayName": "Zhaoxiang Cai",
      "photoUrl": "",
      "userId": "16096770806947170717"
     },
     "user_tz": -600
    },
    "id": "1lVOgyixJPdc",
    "outputId": "40ecb123-bd53-45fa-ebe2-c256d2467755"
   },
   "outputs": [
    {
     "data": {
      "text/plain": [
       "IncompatibleKeys(missing_keys=[], unexpected_keys=[])"
      ]
     },
     "execution_count": 23,
     "metadata": {},
     "output_type": "execute_result"
    }
   ],
   "source": [
    "model.load_state_dict(torch.load(\"../model/orcnn.ptm\"))"
   ]
  },
  {
   "cell_type": "code",
   "execution_count": 20,
   "metadata": {
    "ExecuteTime": {
     "end_time": "2019-07-09T10:55:00.882367Z",
     "start_time": "2019-07-09T10:54:58.559493Z"
    },
    "colab": {},
    "colab_type": "code",
    "id": "VhSNqn3nQPw-"
   },
   "outputs": [],
   "source": [
    "criterion = nn.CrossEntropyLoss()\n",
    "optimizer = torch.optim.Adam(model.parameters(), lr=LEARNING_RATE)"
   ]
  },
  {
   "cell_type": "code",
   "execution_count": null,
   "metadata": {
    "ExecuteTime": {
     "end_time": "2019-07-09T21:34:26.897322Z",
     "start_time": "2019-07-09T14:07:47.217899Z"
    },
    "colab": {
     "base_uri": "https://localhost:8080/",
     "height": 221
    },
    "colab_type": "code",
    "id": "rUIk-bqB2LJD",
    "outputId": "13dd95d2-59da-4a31-9bac-b3e9cfccbef5"
   },
   "outputs": [],
   "source": [
    "global_start_time = time.time()\n",
    "train_res, test_res = train_loop(NUM_EPOCHS, train_loader, val_loader, model, criterion, optimizer)"
   ]
  },
  {
   "cell_type": "code",
   "execution_count": 24,
   "metadata": {
    "ExecuteTime": {
     "end_time": "2019-07-16T11:03:20.742140Z",
     "start_time": "2019-07-16T10:58:53.151065Z"
    },
    "colab": {},
    "colab_type": "code",
    "id": "qzkBpCP-sxRS"
   },
   "outputs": [
    {
     "name": "stderr",
     "output_type": "stream",
     "text": [
      "100%|██████████| 446/446 [04:27<00:00,  2.46it/s]\n"
     ]
    }
   ],
   "source": [
    "predicts, confs, targets = inference(val_loader, model)"
   ]
  },
  {
   "cell_type": "code",
   "execution_count": 28,
   "metadata": {
    "ExecuteTime": {
     "end_time": "2019-07-09T14:02:27.797593Z",
     "start_time": "2019-07-09T14:02:27.762686Z"
    }
   },
   "outputs": [
    {
     "name": "stdout",
     "output_type": "stream",
     "text": [
      "              precision    recall  f1-score   support\n",
      "\n",
      "           0       0.85      0.94      0.89      1969\n",
      "           1       0.20      0.12      0.15       205\n",
      "           2       0.64      0.47      0.54       460\n",
      "           3       0.56      0.61      0.58       130\n",
      "           4       0.66      0.57      0.61        65\n",
      "\n",
      "   micro avg       0.78      0.78      0.78      2829\n",
      "   macro avg       0.58      0.54      0.56      2829\n",
      "weighted avg       0.75      0.78      0.76      2829\n",
      "\n"
     ]
    }
   ],
   "source": [
    "print(classification_report(targets.cpu(), predicts.cpu()))"
   ]
  },
  {
   "cell_type": "code",
   "execution_count": 25,
   "metadata": {
    "ExecuteTime": {
     "end_time": "2019-07-16T11:03:57.886938Z",
     "start_time": "2019-07-16T11:03:57.878283Z"
    }
   },
   "outputs": [
    {
     "data": {
      "text/plain": [
       "array([[2250,   46,   35,    0,    0],\n",
       "       [ 130,   78,   71,    0,    0],\n",
       "       [  95,   54,  431,   76,    4],\n",
       "       [   5,    1,   57,   95,   10],\n",
       "       [   3,    3,   27,   19,   72]])"
      ]
     },
     "execution_count": 25,
     "metadata": {},
     "output_type": "execute_result"
    }
   ],
   "source": [
    "confusion_matrix(targets.cpu(), predicts.cpu())"
   ]
  },
  {
   "cell_type": "code",
   "execution_count": 27,
   "metadata": {
    "ExecuteTime": {
     "end_time": "2019-07-16T11:04:14.701457Z",
     "start_time": "2019-07-16T11:04:14.692761Z"
    }
   },
   "outputs": [
    {
     "data": {
      "text/plain": [
       "0.8593974269806929"
      ]
     },
     "execution_count": 27,
     "metadata": {},
     "output_type": "execute_result"
    }
   ],
   "source": [
    "cohen_kappa_score(targets.cpu(), predicts.cpu(), weights=\"quadratic\")"
   ]
  },
  {
   "cell_type": "code",
   "execution_count": 40,
   "metadata": {
    "ExecuteTime": {
     "end_time": "2019-07-09T21:34:27.095829Z",
     "start_time": "2019-07-09T21:34:26.913281Z"
    },
    "colab": {},
    "colab_type": "code",
    "id": "Pt3sseSLY7rJ"
   },
   "outputs": [],
   "source": [
    "torch.save(model.state_dict(), \"../model/efficientnet_wc.ptm\")"
   ]
  }
 ],
 "metadata": {
  "accelerator": "GPU",
  "colab": {
   "collapsed_sections": [],
   "name": "syd_innovation.ipynb",
   "provenance": [],
   "version": "0.3.2"
  },
  "kernelspec": {
   "display_name": "Python 3",
   "language": "python",
   "name": "python3"
  },
  "language_info": {
   "codemirror_mode": {
    "name": "ipython",
    "version": 3
   },
   "file_extension": ".py",
   "mimetype": "text/x-python",
   "name": "python",
   "nbconvert_exporter": "python",
   "pygments_lexer": "ipython3",
   "version": "3.7.3"
  },
  "notify_time": "5",
  "toc": {
   "base_numbering": 1,
   "nav_menu": {},
   "number_sections": true,
   "sideBar": true,
   "skip_h1_title": false,
   "title_cell": "Table of Contents",
   "title_sidebar": "Contents",
   "toc_cell": false,
   "toc_position": {},
   "toc_section_display": true,
   "toc_window_display": false
  }
 },
 "nbformat": 4,
 "nbformat_minor": 1
}
