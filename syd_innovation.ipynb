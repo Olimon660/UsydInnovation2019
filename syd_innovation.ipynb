{
  "nbformat": 4,
  "nbformat_minor": 0,
  "metadata": {
    "colab": {
      "name": "syd_innovation.ipynb",
      "version": "0.3.2",
      "provenance": []
    },
    "language_info": {
      "name": "python",
      "version": "3.6.4",
      "mimetype": "text/x-python",
      "codemirror_mode": {
        "name": "ipython",
        "version": 3
      },
      "pygments_lexer": "ipython3",
      "nbconvert_exporter": "python",
      "file_extension": ".py"
    },
    "kernelspec": {
      "name": "python3",
      "display_name": "Python 3"
    },
    "accelerator": "GPU"
  },
  "cells": [
    {
      "cell_type": "code",
      "metadata": {
        "_uuid": "8f2839f25d086af736a60e9eeb907d3b93b6e0e5",
        "_cell_guid": "b1076dfc-b9ad-4769-8c92-a6c4dae69d19",
        "trusted": true,
        "id": "gyzXRQFSY7qd",
        "colab_type": "code",
        "colab": {}
      },
      "source": [
        "# This Python 3 environment comes with many helpful analytics libraries installed\n",
        "# It is defined by the kaggle/python docker image: https://github.com/kaggle/docker-python\n",
        "# For example, here's several helpful packages to load in \n",
        "\n",
        "import numpy as np # linear algebra\n",
        "import pandas as pd # data processing, CSV file I/O (e.g. pd.read_csv)\n",
        "\n",
        "# Input data files are available in the \"../input/\" directory.\n",
        "# For example, running this (by clicking run or pressing Shift+Enter) will list the files in the input directory\n",
        "\n",
        "import os\n",
        "# Any results you write to the current directory are saved as output."
      ],
      "execution_count": 0,
      "outputs": []
    },
    {
      "cell_type": "code",
      "metadata": {
        "_cell_guid": "79c7e3d0-c299-4dcb-8224-4455121ee9b0",
        "_uuid": "d629ff2d2480ee46fbb7e2d37f6b5fab8052498a",
        "trusted": true,
        "id": "W6mUxDRCY7qg",
        "colab_type": "code",
        "colab": {}
      },
      "source": [
        "import torch\n",
        "import torchvision\n",
        "from torch.utils.data import Dataset, DataLoader\n",
        "import pandas as pd\n",
        "import os\n",
        "import torchvision.transforms as transforms\n",
        "from PIL import Image\n",
        "import matplotlib.pyplot as plt\n",
        "from sklearn.model_selection import train_test_split\n",
        "import torch.nn as nn\n",
        "from tqdm import tqdm, trange\n",
        "import time\n",
        "from PIL import ImageFile\n",
        "ImageFile.LOAD_TRUNCATED_IMAGES = True\n",
        "from sklearn.metrics import classification_report, accuracy_score"
      ],
      "execution_count": 0,
      "outputs": []
    },
    {
      "cell_type": "code",
      "metadata": {
        "trusted": true,
        "id": "BWSRChcqY7qj",
        "colab_type": "code",
        "colab": {}
      },
      "source": [
        "seed = 42"
      ],
      "execution_count": 0,
      "outputs": []
    },
    {
      "cell_type": "code",
      "metadata": {
        "trusted": true,
        "id": "VkbGeclTY7ql",
        "colab_type": "code",
        "colab": {}
      },
      "source": [
        "labels = pd.read_csv(\"./training-labels.csv\")"
      ],
      "execution_count": 0,
      "outputs": []
    },
    {
      "cell_type": "code",
      "metadata": {
        "trusted": true,
        "id": "vGps3t0TY7qn",
        "colab_type": "code",
        "outputId": "78a31fd6-7894-484a-eddb-4d00bf08b3a0",
        "colab": {
          "base_uri": "https://localhost:8080/",
          "height": 136
        }
      },
      "source": [
        "labels.groupby(['Drscore']).size()"
      ],
      "execution_count": 5,
      "outputs": [
        {
          "output_type": "execute_result",
          "data": {
            "text/plain": [
              "Drscore\n",
              "0    9846\n",
              "1    1027\n",
              "2    2300\n",
              "3     648\n",
              "4     324\n",
              "dtype: int64"
            ]
          },
          "metadata": {
            "tags": []
          },
          "execution_count": 5
        }
      ]
    },
    {
      "cell_type": "code",
      "metadata": {
        "id": "T9lmjkmufNAB",
        "colab_type": "code",
        "colab": {}
      },
      "source": [
        "labels_small = labels.sample(frac=0.1, random_state=seed)"
      ],
      "execution_count": 0,
      "outputs": []
    },
    {
      "cell_type": "code",
      "metadata": {
        "id": "fM_6GQ6Jflu7",
        "colab_type": "code",
        "outputId": "e3021888-3f3f-43eb-bc79-380e877dd4ae",
        "colab": {
          "base_uri": "https://localhost:8080/",
          "height": 136
        }
      },
      "source": [
        "labels_small.groupby(['Drscore']).size()"
      ],
      "execution_count": 7,
      "outputs": [
        {
          "output_type": "execute_result",
          "data": {
            "text/plain": [
              "Drscore\n",
              "0    998\n",
              "1     83\n",
              "2    242\n",
              "3     56\n",
              "4     35\n",
              "dtype: int64"
            ]
          },
          "metadata": {
            "tags": []
          },
          "execution_count": 7
        }
      ]
    },
    {
      "cell_type": "code",
      "metadata": {
        "trusted": true,
        "id": "BlvC_5MAY7qp",
        "colab_type": "code",
        "colab": {}
      },
      "source": [
        "train_df, val_df = train_test_split(labels_small, test_size=0.2,stratify=labels_small['Drscore'], random_state = seed)"
      ],
      "execution_count": 0,
      "outputs": []
    },
    {
      "cell_type": "code",
      "metadata": {
        "trusted": true,
        "id": "tAlrsNF-Y7qx",
        "colab_type": "code",
        "colab": {}
      },
      "source": [
        "BATCH_SIZE = 2**3\n",
        "NUM_WORKERS = 1\n",
        "LEARNING_RATE = 5e-5\n",
        "NUM_EPOCHS = 3\n",
        "LOG_FREQ = 20\n",
        "TIME_LIMIT = 9 * 60 * 60"
      ],
      "execution_count": 0,
      "outputs": []
    },
    {
      "cell_type": "code",
      "metadata": {
        "trusted": true,
        "id": "RQ1ww41-Y7qr",
        "colab_type": "code",
        "colab": {}
      },
      "source": [
        "class ImageDataset(Dataset):\n",
        "    def __init__(self, dataframe, mode):\n",
        "        assert mode in ['train', 'val', 'test']\n",
        "\n",
        "        self.df = dataframe\n",
        "        self.mode = mode\n",
        "\n",
        "        transforms_list = [\n",
        "            transforms.Resize(512),\n",
        "            transforms.CenterCrop(512)\n",
        "        ]\n",
        "\n",
        "        if self.mode == 'train':\n",
        "            transforms_list.extend([\n",
        "                transforms.RandomHorizontalFlip(),\n",
        "                transforms.RandomChoice([\n",
        "                    transforms.ColorJitter(0.2, 0.2, 0.2, 0.2),\n",
        "                    transforms.RandomAffine(degrees=15, translate=(0.2, 0.2),\n",
        "                                            scale=(0.8, 1.2), shear=15,\n",
        "                                            resample=Image.BILINEAR)\n",
        "                ])\n",
        "            ])\n",
        "\n",
        "        transforms_list.extend([\n",
        "            transforms.ToTensor(),\n",
        "            transforms.Normalize(mean=[0.485, 0.456, 0.406],\n",
        "                                  std=[0.229, 0.224, 0.225]),\n",
        "        ])\n",
        "        self.transforms = transforms.Compose(transforms_list)\n",
        "\n",
        "    def __getitem__(self, index):\n",
        "        ''' Returns: tuple (sample, target) '''\n",
        "        filename = self.df['Filename'].values[index]\n",
        "\n",
        "        directory = 'test/Test' if self.mode == 'test' else 'train/output_combined2'\n",
        "        sample = Image.open(f'./{directory}/{filename}')\n",
        "\n",
        "        assert sample.mode == 'RGB'\n",
        "\n",
        "        image = self.transforms(sample)\n",
        "\n",
        "        if self.mode == 'test':\n",
        "            return image\n",
        "        else:\n",
        "            return image, self.df['Drscore'].values[index]\n",
        "\n",
        "    def __len__(self):\n",
        "        return self.df.shape[0]\n"
      ],
      "execution_count": 0,
      "outputs": []
    },
    {
      "cell_type": "code",
      "metadata": {
        "trusted": true,
        "id": "uCEQvEt-Y7qt",
        "colab_type": "code",
        "colab": {}
      },
      "source": [
        "def GAP(predicts: torch.Tensor, confs: torch.Tensor, targets: torch.Tensor) -> float:\n",
        "    ''' Simplified GAP@1 metric: only one prediction per sample is supported '''\n",
        "    assert len(predicts.shape) == 1\n",
        "    assert len(confs.shape) == 1\n",
        "    assert len(targets.shape) == 1\n",
        "    assert predicts.shape == confs.shape and confs.shape == targets.shape\n",
        "\n",
        "    _, indices = torch.sort(confs, descending=True)\n",
        "\n",
        "    confs = confs.cpu().numpy()\n",
        "    predicts = predicts[indices].cpu().numpy()\n",
        "    targets = targets[indices].cpu().numpy()\n",
        "\n",
        "    res, true_pos = 0.0, 0\n",
        "\n",
        "    for i, (c, p, t) in enumerate(zip(confs, predicts, targets)):\n",
        "        rel = int(p == t)\n",
        "        true_pos += rel\n",
        "\n",
        "        res += true_pos / (i + 1) * rel\n",
        "\n",
        "    res /= targets.shape[0]\n",
        "    return res"
      ],
      "execution_count": 0,
      "outputs": []
    },
    {
      "cell_type": "code",
      "metadata": {
        "trusted": true,
        "id": "MJXokEE1Y7qv",
        "colab_type": "code",
        "colab": {}
      },
      "source": [
        "class AverageMeter:\n",
        "    ''' Computes and stores the average and current value '''\n",
        "    def __init__(self):\n",
        "        self.reset()\n",
        "\n",
        "    def reset(self):\n",
        "        self.val = 0.0\n",
        "        self.avg = 0.0\n",
        "        self.sum = 0.0\n",
        "        self.count = 0\n",
        "\n",
        "    def update(self, val, n = 1) :\n",
        "        self.val = val\n",
        "        self.sum += val * n\n",
        "        self.count += n\n",
        "        self.avg = self.sum / self.count\n"
      ],
      "execution_count": 0,
      "outputs": []
    },
    {
      "cell_type": "code",
      "metadata": {
        "trusted": true,
        "id": "NbiWHJ2zY7q0",
        "colab_type": "code",
        "colab": {}
      },
      "source": [
        "train_dataset = ImageDataset(train_df, mode='train')\n",
        "val_dataset = ImageDataset(val_df, mode='val')\n",
        "train_loader = DataLoader(train_dataset, batch_size=BATCH_SIZE,\n",
        "                              shuffle=True, drop_last=True)\n",
        "val_loader = DataLoader(val_dataset, batch_size=BATCH_SIZE,\n",
        "                             shuffle=False)"
      ],
      "execution_count": 0,
      "outputs": []
    },
    {
      "cell_type": "code",
      "metadata": {
        "trusted": true,
        "id": "y56F4brTY7q2",
        "colab_type": "code",
        "colab": {}
      },
      "source": [
        "device = 'cuda' if torch.cuda.is_available() else 'cpu'"
      ],
      "execution_count": 0,
      "outputs": []
    },
    {
      "cell_type": "code",
      "metadata": {
        "trusted": true,
        "id": "ULH-ur5YY7q4",
        "colab_type": "code",
        "colab": {}
      },
      "source": [
        "def train(train_loader, model, criterion, optimizer, epoch, logging = True):\n",
        "    batch_time = AverageMeter()\n",
        "    losses = AverageMeter()\n",
        "    avg_score = AverageMeter()\n",
        "\n",
        "    model.train()\n",
        "    num_steps = len(train_loader)\n",
        "\n",
        "    end = time.time()\n",
        "    lr_str = ''\n",
        "\n",
        "    for i, (input_, target) in enumerate(train_loader):\n",
        "        if i >= num_steps:\n",
        "            break\n",
        "\n",
        "        output = model(input_.to(device))\n",
        "        loss = criterion(output, target.to(device))\n",
        "\n",
        "        confs, predicts = torch.max(output.detach(), dim=1)\n",
        "        avg_score.update(GAP(predicts, confs, target))\n",
        "\n",
        "        losses.update(loss.data.item(), input_.size(0))\n",
        "        optimizer.zero_grad()\n",
        "        loss.backward()\n",
        "        optimizer.step()\n",
        "\n",
        "        batch_time.update(time.time() - end)\n",
        "        end = time.time()\n",
        "\n",
        "        if logging and i % LOG_FREQ == 0:\n",
        "            print(f'{epoch} [{i}/{num_steps}]\\t'\n",
        "                        f'time {batch_time.val:.3f} ({batch_time.avg:.3f})\\t'\n",
        "                        f'loss {losses.val:.4f} ({losses.avg:.4f})\\t'\n",
        "                        f'GAP {avg_score.val:.4f} ({avg_score.avg:.4f})'\n",
        "                        + lr_str)\n",
        "        if has_time_run_out():\n",
        "            break\n",
        "\n",
        "    print(f' * average GAP on train {avg_score.avg:.4f}')\n",
        "    return avg_score.avg"
      ],
      "execution_count": 0,
      "outputs": []
    },
    {
      "cell_type": "code",
      "metadata": {
        "trusted": true,
        "id": "qU4-dnFhY7q6",
        "colab_type": "code",
        "colab": {}
      },
      "source": [
        "def inference(data_loader, model):\n",
        "    ''' Returns predictions and targets, if any. '''\n",
        "    model.eval()\n",
        "\n",
        "    activation = nn.Softmax(dim=1)\n",
        "    all_predicts, all_confs, all_targets = [], [], []\n",
        "\n",
        "    with torch.no_grad():\n",
        "        for i, data in enumerate(data_loader):\n",
        "            if data_loader.dataset.mode != 'test':\n",
        "                input_, target = data\n",
        "            else:\n",
        "                input_, target = data, None\n",
        "\n",
        "            output = model(input_.to(device))\n",
        "            output = activation(output)\n",
        "\n",
        "            confs, predicts = torch.topk(output, 1)\n",
        "            all_confs.append(confs)\n",
        "            all_predicts.append(predicts)\n",
        "\n",
        "            if target is not None:\n",
        "                all_targets.append(target)\n",
        "\n",
        "    predicts = torch.cat(all_predicts)\n",
        "    confs = torch.cat(all_confs)\n",
        "    targets = torch.cat(all_targets) if len(all_targets) else None\n",
        "\n",
        "    return predicts, confs, targets"
      ],
      "execution_count": 0,
      "outputs": []
    },
    {
      "cell_type": "code",
      "metadata": {
        "id": "Z-b-DfYuWKjQ",
        "colab_type": "code",
        "colab": {}
      },
      "source": [
        "def test(test_loader, model):\n",
        "    predicts, confs, targets = inference(test_loader, model)\n",
        "    predicts = predicts.cpu().numpy().flatten()\n",
        "    targets = targets.cpu().numpy().flatten()\n",
        "    return accuracy_score(targets, predicts)"
      ],
      "execution_count": 0,
      "outputs": []
    },
    {
      "cell_type": "code",
      "metadata": {
        "id": "cl9PIY6rVl9-",
        "colab_type": "code",
        "colab": {}
      },
      "source": [
        "def train_loop(epochs, train_loader, test_loader, model, criterion, optimizer, \n",
        "               validate=True):\n",
        "    train_res = []\n",
        "\n",
        "    test_res = []\n",
        "    for epoch in trange(1, epochs + 1):\n",
        "        start_time = time.time()\n",
        "        train_acc = train(train_loader, model, criterion, optimizer, epoch, logging=False)\n",
        "\n",
        "        train_res.append(train_acc)\n",
        "\n",
        "        if validate:\n",
        "            test_acc = test(test_loader, model)\n",
        "            test_res.append(test_acc)\n",
        "            \n",
        "    return train_res, test_res"
      ],
      "execution_count": 0,
      "outputs": []
    },
    {
      "cell_type": "code",
      "metadata": {
        "trusted": true,
        "id": "0eef4m_rY7q7",
        "colab_type": "code",
        "colab": {}
      },
      "source": [
        "def has_time_run_out() -> bool:\n",
        "    return time.time() - global_start_time > TIME_LIMIT - 9000"
      ],
      "execution_count": 0,
      "outputs": []
    },
    {
      "cell_type": "code",
      "metadata": {
        "trusted": true,
        "id": "h8v0pM6PY7q9",
        "colab_type": "code",
        "outputId": "a9b76518-2a43-4cb9-9b45-fa7895e106c2",
        "colab": {
          "base_uri": "https://localhost:8080/",
          "height": 34
        }
      },
      "source": [
        "model = torch.hub.load('facebookresearch/WSL-Images', 'resnext101_32x8d_wsl')\n",
        "# model = torchvision.models.resnet18(pretrained=True)\n",
        "model.fc = nn.Linear(model.fc.in_features, 5)\n",
        "model = model.to(device)\n",
        "criterion = nn.CrossEntropyLoss()\n",
        "optimizer = torch.optim.Adam(model.parameters(), lr=LEARNING_RATE)"
      ],
      "execution_count": 26,
      "outputs": [
        {
          "output_type": "stream",
          "text": [
            "Using cache found in /root/.cache/torch/hub/facebookresearch_WSL-Images_master\n"
          ],
          "name": "stderr"
        }
      ]
    },
    {
      "cell_type": "code",
      "metadata": {
        "id": "hCWt0oxIem7H",
        "colab_type": "code",
        "colab": {}
      },
      "source": [
        "global_start_time = time.time()"
      ],
      "execution_count": 0,
      "outputs": []
    },
    {
      "cell_type": "code",
      "metadata": {
        "id": "rUIk-bqB2LJD",
        "colab_type": "code",
        "colab": {}
      },
      "source": [
        "train_res, test_res = train_loop(NUM_EPOCHS, train_loader, val_loader, model, criterion, optimizer)"
      ],
      "execution_count": 0,
      "outputs": []
    },
    {
      "cell_type": "code",
      "metadata": {
        "trusted": true,
        "id": "kZEWGorWY7rF",
        "colab_type": "code",
        "colab": {
          "base_uri": "https://localhost:8080/",
          "height": 286
        },
        "outputId": "c5db9bca-0596-42f2-c0bc-1db3b1de3941"
      },
      "source": [
        "plt.plot(range(len(train_res)), train_res, lw=2)\n",
        "plt.plot(range(len(train_res)), test_res, color='orange', lw=2)"
      ],
      "execution_count": 29,
      "outputs": [
        {
          "output_type": "execute_result",
          "data": {
            "text/plain": [
              "[<matplotlib.lines.Line2D at 0x7ff22876b7f0>]"
            ]
          },
          "metadata": {
            "tags": []
          },
          "execution_count": 29
        },
        {
          "output_type": "display_data",
          "data": {
            "image/png": "[encoded data removed]",
            "text/plain": [
              "<Figure size 432x288 with 1 Axes>"
            ]
          },
          "metadata": {
            "tags": []
          }
        }
      ]
    },
    {
      "cell_type": "code",
      "metadata": {
        "trusted": true,
        "id": "Pt3sseSLY7rJ",
        "colab_type": "code",
        "colab": {}
      },
      "source": [
        "torch.save(model.state_dict(), \"./resnext101_32x8d_wsl.ptm\")"
      ],
      "execution_count": 0,
      "outputs": []
    },
    {
      "cell_type": "code",
      "metadata": {
        "id": "NGXCBdpToVBr",
        "colab_type": "code",
        "colab": {}
      },
      "source": [
        ""
      ],
      "execution_count": 0,
      "outputs": []
    }
  ]
}