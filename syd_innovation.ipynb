{
 "cells": [
  {
   "cell_type": "code",
   "execution_count": 1,
   "metadata": {
    "ExecuteTime": {
     "end_time": "2019-07-09T10:54:45.065650Z",
     "start_time": "2019-07-09T10:54:44.807343Z"
    },
    "_cell_guid": "b1076dfc-b9ad-4769-8c92-a6c4dae69d19",
    "_uuid": "8f2839f25d086af736a60e9eeb907d3b93b6e0e5",
    "colab": {},
    "colab_type": "code",
    "id": "gyzXRQFSY7qd"
   },
   "outputs": [],
   "source": [
    "# This Python 3 environment comes with many helpful analytics libraries installed\n",
    "# It is defined by the kaggle/python docker image: https://github.com/kaggle/docker-python\n",
    "# For example, here's several helpful packages to load in \n",
    "\n",
    "import numpy as np # linear algebra\n",
    "import pandas as pd # data processing, CSV file I/O (e.g. pd.read_csv)\n",
    "\n",
    "# Input data files are available in the \"../input/\" directory.\n",
    "# For example, running this (by clicking run or pressing Shift+Enter) will list the files in the input directory\n",
    "\n",
    "import os\n",
    "# Any results you write to the current directory are saved as output."
   ]
  },
  {
   "cell_type": "code",
   "execution_count": 2,
   "metadata": {
    "ExecuteTime": {
     "end_time": "2019-07-09T10:54:46.028082Z",
     "start_time": "2019-07-09T10:54:45.066653Z"
    },
    "_cell_guid": "79c7e3d0-c299-4dcb-8224-4455121ee9b0",
    "_uuid": "d629ff2d2480ee46fbb7e2d37f6b5fab8052498a",
    "colab": {},
    "colab_type": "code",
    "id": "W6mUxDRCY7qg"
   },
   "outputs": [],
   "source": [
    "import torch\n",
    "import torchvision\n",
    "from torch.utils.data import Dataset, DataLoader, WeightedRandomSampler\n",
    "import pandas as pd\n",
    "import os\n",
    "import torchvision.transforms as transforms\n",
    "from PIL import Image\n",
    "import matplotlib.pyplot as plt\n",
    "from sklearn.model_selection import train_test_split\n",
    "import torch.nn as nn\n",
    "from tqdm import tqdm, trange\n",
    "import time\n",
    "from PIL import ImageFile\n",
    "ImageFile.LOAD_TRUNCATED_IMAGES = True\n",
    "from sklearn.metrics import classification_report, accuracy_score, confusion_matrix, cohen_kappa_score\n",
    "from efficientnet_pytorch import EfficientNet\n"
   ]
  },
  {
   "cell_type": "code",
   "execution_count": 3,
   "metadata": {
    "ExecuteTime": {
     "end_time": "2019-07-09T10:54:46.180640Z",
     "start_time": "2019-07-09T10:54:46.029046Z"
    },
    "colab": {
     "base_uri": "https://localhost:8080/",
     "height": 34
    },
    "colab_type": "code",
    "executionInfo": {
     "elapsed": 819,
     "status": "ok",
     "timestamp": 1562386895031,
     "user": {
      "displayName": "Zhaoxiang Cai",
      "photoUrl": "",
      "userId": "16096770806947170717"
     },
     "user_tz": -600
    },
    "id": "BWSRChcqY7qj",
    "outputId": "a57b2615-08ce-41e1-80ff-731f81d0fa3a"
   },
   "outputs": [
    {
     "data": {
      "text/plain": [
       "'GeForce RTX 2070'"
      ]
     },
     "execution_count": 3,
     "metadata": {},
     "output_type": "execute_result"
    }
   ],
   "source": [
    "seed = 42\n",
    "torch.cuda.get_device_name()"
   ]
  },
  {
   "cell_type": "code",
   "execution_count": 4,
   "metadata": {
    "ExecuteTime": {
     "end_time": "2019-07-09T10:54:46.198592Z",
     "start_time": "2019-07-09T10:54:46.182667Z"
    },
    "colab": {},
    "colab_type": "code",
    "id": "VkbGeclTY7ql"
   },
   "outputs": [],
   "source": [
    "labels = pd.read_csv(\"./input/training-labels.csv\")"
   ]
  },
  {
   "cell_type": "code",
   "execution_count": 5,
   "metadata": {
    "ExecuteTime": {
     "end_time": "2019-07-09T10:54:46.217542Z",
     "start_time": "2019-07-09T10:54:46.199590Z"
    },
    "colab": {
     "base_uri": "https://localhost:8080/",
     "height": 136
    },
    "colab_type": "code",
    "executionInfo": {
     "elapsed": 1077,
     "status": "ok",
     "timestamp": 1562386908045,
     "user": {
      "displayName": "Zhaoxiang Cai",
      "photoUrl": "",
      "userId": "16096770806947170717"
     },
     "user_tz": -600
    },
    "id": "vGps3t0TY7qn",
    "outputId": "d45d84e1-c685-4dd3-ed34-ae50fc3ad3f6"
   },
   "outputs": [
    {
     "data": {
      "text/plain": [
       "Drscore\n",
       "0    9846\n",
       "1    1027\n",
       "2    2300\n",
       "3     648\n",
       "4     324\n",
       "dtype: int64"
      ]
     },
     "execution_count": 5,
     "metadata": {},
     "output_type": "execute_result"
    }
   ],
   "source": [
    "labels.groupby(['Drscore']).size()"
   ]
  },
  {
   "cell_type": "code",
   "execution_count": 6,
   "metadata": {
    "ExecuteTime": {
     "end_time": "2019-07-09T10:54:46.239510Z",
     "start_time": "2019-07-09T10:54:46.218540Z"
    },
    "colab": {},
    "colab_type": "code",
    "id": "T9lmjkmufNAB"
   },
   "outputs": [],
   "source": [
    "labels_small = labels.sample(frac=0.1, random_state=seed)"
   ]
  },
  {
   "cell_type": "code",
   "execution_count": 7,
   "metadata": {
    "ExecuteTime": {
     "end_time": "2019-07-09T10:54:46.252476Z",
     "start_time": "2019-07-09T10:54:46.240480Z"
    },
    "colab": {
     "base_uri": "https://localhost:8080/",
     "height": 136
    },
    "colab_type": "code",
    "executionInfo": {
     "elapsed": 546,
     "status": "ok",
     "timestamp": 1562386908048,
     "user": {
      "displayName": "Zhaoxiang Cai",
      "photoUrl": "",
      "userId": "16096770806947170717"
     },
     "user_tz": -600
    },
    "id": "fM_6GQ6Jflu7",
    "outputId": "01ff262b-1243-47b1-960c-f08bc1a639a5"
   },
   "outputs": [
    {
     "data": {
      "text/plain": [
       "Drscore\n",
       "0    998\n",
       "1     83\n",
       "2    242\n",
       "3     56\n",
       "4     35\n",
       "dtype: int64"
      ]
     },
     "execution_count": 7,
     "metadata": {},
     "output_type": "execute_result"
    }
   ],
   "source": [
    "labels_small.groupby(['Drscore']).size()"
   ]
  },
  {
   "cell_type": "code",
   "execution_count": 8,
   "metadata": {
    "ExecuteTime": {
     "end_time": "2019-07-09T10:54:46.268405Z",
     "start_time": "2019-07-09T10:54:46.253473Z"
    },
    "colab": {},
    "colab_type": "code",
    "id": "BlvC_5MAY7qp"
   },
   "outputs": [],
   "source": [
    "train_df, val_df = train_test_split(labels, test_size=0.2,stratify=labels['Drscore'], random_state = seed)"
   ]
  },
  {
   "cell_type": "code",
   "execution_count": 33,
   "metadata": {
    "ExecuteTime": {
     "end_time": "2019-07-09T14:06:29.539231Z",
     "start_time": "2019-07-09T14:06:29.536238Z"
    },
    "colab": {},
    "colab_type": "code",
    "id": "tAlrsNF-Y7qx"
   },
   "outputs": [],
   "source": [
    "BATCH_SIZE = 2**2\n",
    "NUM_WORKERS = 1\n",
    "LEARNING_RATE = 5e-5\n",
    "NUM_EPOCHS = 20\n",
    "LOG_FREQ = 200\n",
    "TIME_LIMIT = 8 * 60 * 60\n",
    "torch.cuda.empty_cache()"
   ]
  },
  {
   "cell_type": "code",
   "execution_count": 10,
   "metadata": {
    "ExecuteTime": {
     "end_time": "2019-07-09T10:54:46.512754Z",
     "start_time": "2019-07-09T10:54:46.504801Z"
    },
    "colab": {},
    "colab_type": "code",
    "id": "RQ1ww41-Y7qr"
   },
   "outputs": [],
   "source": [
    "class ImageDataset(Dataset):\n",
    "    def __init__(self, dataframe, mode):\n",
    "        assert mode in ['train', 'val', 'test']\n",
    "\n",
    "        self.df = dataframe\n",
    "        self.mode = mode\n",
    "\n",
    "        transforms_list = [\n",
    "            transforms.Resize(400),\n",
    "            transforms.CenterCrop(400)\n",
    "        ]\n",
    "\n",
    "        if self.mode == 'train':\n",
    "            transforms_list.extend([\n",
    "                transforms.RandomHorizontalFlip(),\n",
    "                transforms.RandomChoice([\n",
    "                    transforms.ColorJitter(0.2, 0.2, 0.2, 0.2),\n",
    "                    transforms.RandomAffine(degrees=15, translate=(0.2, 0.2),\n",
    "                                            scale=(0.8, 1.2), shear=15,\n",
    "                                            resample=Image.BILINEAR)\n",
    "                ])\n",
    "            ])\n",
    "\n",
    "        transforms_list.extend([\n",
    "            transforms.ToTensor(),\n",
    "            transforms.Normalize(mean=[0.485, 0.456, 0.406],\n",
    "                                  std=[0.229, 0.224, 0.225]),\n",
    "        ])\n",
    "        self.transforms = transforms.Compose(transforms_list)\n",
    "\n",
    "    def __getitem__(self, index):\n",
    "        ''' Returns: tuple (sample, target) '''\n",
    "        filename = self.df['Filename'].values[index]\n",
    "\n",
    "        directory = './input/Test' if self.mode == 'test' else './input/output_combined2'\n",
    "        sample = Image.open(f'./{directory}/{filename}')\n",
    "\n",
    "        assert sample.mode == 'RGB'\n",
    "\n",
    "        image = self.transforms(sample)\n",
    "\n",
    "        if self.mode == 'test':\n",
    "            return image\n",
    "        else:\n",
    "            return image, self.df['Drscore'].values[index]\n",
    "\n",
    "    def __len__(self):\n",
    "        return self.df.shape[0]\n"
   ]
  },
  {
   "cell_type": "code",
   "execution_count": 31,
   "metadata": {
    "ExecuteTime": {
     "end_time": "2019-07-09T14:05:04.528235Z",
     "start_time": "2019-07-09T14:05:04.522251Z"
    },
    "colab": {},
    "colab_type": "code",
    "id": "uCEQvEt-Y7qt"
   },
   "outputs": [],
   "source": [
    "def GAP(predicts: torch.Tensor, confs: torch.Tensor, targets: torch.Tensor):\n",
    "    ''' Simplified GAP@1 metric: only one prediction per sample is supported '''\n",
    "    assert len(predicts.shape) == 1\n",
    "    assert len(confs.shape) == 1\n",
    "    assert len(targets.shape) == 1\n",
    "    assert predicts.shape == confs.shape and confs.shape == targets.shape\n",
    "\n",
    "    confs = confs.cpu().numpy()\n",
    "    predicts = predicts.cpu().numpy()\n",
    "    targets = targets.cpu().numpy()\n",
    "\n",
    "    res = accuracy_score(targets, predicts)\n",
    "    return res"
   ]
  },
  {
   "cell_type": "code",
   "execution_count": 12,
   "metadata": {
    "ExecuteTime": {
     "end_time": "2019-07-09T10:54:47.371483Z",
     "start_time": "2019-07-09T10:54:47.367467Z"
    },
    "colab": {},
    "colab_type": "code",
    "id": "MJXokEE1Y7qv"
   },
   "outputs": [],
   "source": [
    "class AverageMeter:\n",
    "    ''' Computes and stores the average and current value '''\n",
    "    def __init__(self):\n",
    "        self.reset()\n",
    "\n",
    "    def reset(self):\n",
    "        self.val = 0.0\n",
    "        self.avg = 0.0\n",
    "        self.sum = 0.0\n",
    "        self.count = 0\n",
    "\n",
    "    def update(self, val, n = 1) :\n",
    "        self.val = val\n",
    "        self.sum += val * n\n",
    "        self.count += n\n",
    "        self.avg = self.sum / self.count\n"
   ]
  },
  {
   "cell_type": "code",
   "execution_count": 13,
   "metadata": {
    "ExecuteTime": {
     "end_time": "2019-07-09T10:54:47.777395Z",
     "start_time": "2019-07-09T10:54:47.773410Z"
    }
   },
   "outputs": [],
   "source": [
    "subsetclass_df = train_df[train_df['Drscore']!=0]"
   ]
  },
  {
   "cell_type": "code",
   "execution_count": 14,
   "metadata": {
    "ExecuteTime": {
     "end_time": "2019-07-09T10:54:48.191291Z",
     "start_time": "2019-07-09T10:54:48.187275Z"
    }
   },
   "outputs": [],
   "source": [
    "class_sample_count = np.unique(train_df['Drscore'], return_counts=True)[1]\n",
    "weight = 1. / class_sample_count\n",
    "samples_weight = weight[train_df['Drscore']]\n",
    "samples_weight = torch.from_numpy(samples_weight)\n",
    "sampler = WeightedRandomSampler(samples_weight, len(samples_weight))"
   ]
  },
  {
   "cell_type": "code",
   "execution_count": 15,
   "metadata": {
    "ExecuteTime": {
     "end_time": "2019-07-09T10:54:48.408839Z",
     "start_time": "2019-07-09T10:54:48.404850Z"
    }
   },
   "outputs": [],
   "source": [
    "class_sample_count_normalised = np.max(class_sample_count)/class_sample_count"
   ]
  },
  {
   "cell_type": "code",
   "execution_count": 16,
   "metadata": {
    "ExecuteTime": {
     "end_time": "2019-07-09T10:54:48.622689Z",
     "start_time": "2019-07-09T10:54:48.617702Z"
    },
    "colab": {},
    "colab_type": "code",
    "id": "NbiWHJ2zY7q0"
   },
   "outputs": [],
   "source": [
    "train_dataset = ImageDataset(train_df, mode='train')\n",
    "val_dataset = ImageDataset(val_df, mode='val')\n",
    "subsetclass_dataset = ImageDataset(subsetclass_df, mode='train')\n",
    "train_loader = DataLoader(train_dataset, batch_size=BATCH_SIZE, drop_last=True)\n",
    "# train_loader = DataLoader(train_dataset, batch_size=BATCH_SIZE, drop_last=True)\n",
    "\n",
    "subsetclass_loader = DataLoader(subsetclass_dataset, batch_size=BATCH_SIZE,\n",
    "                              shuffle=True, drop_last=True)\n",
    "val_loader = DataLoader(val_dataset, batch_size=BATCH_SIZE,\n",
    "                             shuffle=False)"
   ]
  },
  {
   "cell_type": "code",
   "execution_count": 17,
   "metadata": {
    "ExecuteTime": {
     "end_time": "2019-07-09T10:54:48.842503Z",
     "start_time": "2019-07-09T10:54:48.839515Z"
    },
    "colab": {},
    "colab_type": "code",
    "id": "y56F4brTY7q2"
   },
   "outputs": [],
   "source": [
    "device = 'cuda' if torch.cuda.is_available() else 'cpu'"
   ]
  },
  {
   "cell_type": "code",
   "execution_count": 18,
   "metadata": {
    "ExecuteTime": {
     "end_time": "2019-07-09T10:54:49.325117Z",
     "start_time": "2019-07-09T10:54:49.318166Z"
    },
    "colab": {},
    "colab_type": "code",
    "id": "ULH-ur5YY7q4"
   },
   "outputs": [],
   "source": [
    "def train(train_loader, model, criterion, optimizer, epoch, logging = True):\n",
    "    batch_time = AverageMeter()\n",
    "    losses = AverageMeter()\n",
    "    avg_score = AverageMeter()\n",
    "\n",
    "    model.train()\n",
    "    num_steps = len(train_loader)\n",
    "\n",
    "    end = time.time()\n",
    "    lr_str = ''\n",
    "\n",
    "    for i, (input_, target) in enumerate(train_loader):\n",
    "        if i >= num_steps:\n",
    "            break\n",
    "\n",
    "        output = model(input_.to(device))\n",
    "        loss = criterion(output, target.to(device))\n",
    "\n",
    "        confs, predicts = torch.max(output.detach(), dim=1)\n",
    "        avg_score.update(GAP(predicts, confs, target))\n",
    "\n",
    "        losses.update(loss.data.item(), input_.size(0))\n",
    "        optimizer.zero_grad()\n",
    "        loss.backward()\n",
    "        optimizer.step()\n",
    "\n",
    "        batch_time.update(time.time() - end)\n",
    "        end = time.time()\n",
    "\n",
    "        if logging and i % LOG_FREQ == 0:\n",
    "            print(f'{epoch} [{i}/{num_steps}]\\t'\n",
    "                        f'time {batch_time.val:.3f} ({batch_time.avg:.3f})\\t'\n",
    "                        f'loss {losses.val:.4f} ({losses.avg:.4f})\\t'\n",
    "                        f'GAP {avg_score.val:.4f} ({avg_score.avg:.4f})'\n",
    "                        + lr_str)\n",
    "        if has_time_run_out():\n",
    "            break\n",
    "\n",
    "    print(f' * average GAP on train {avg_score.avg:.4f}')\n",
    "    return avg_score.avg"
   ]
  },
  {
   "cell_type": "code",
   "execution_count": 19,
   "metadata": {
    "ExecuteTime": {
     "end_time": "2019-07-09T10:54:49.735849Z",
     "start_time": "2019-07-09T10:54:49.729871Z"
    },
    "colab": {},
    "colab_type": "code",
    "id": "qU4-dnFhY7q6"
   },
   "outputs": [],
   "source": [
    "def inference(data_loader, model):\n",
    "    ''' Returns predictions and targets, if any. '''\n",
    "    model.eval()\n",
    "\n",
    "    activation = nn.Softmax(dim=1)\n",
    "    all_predicts, all_confs, all_targets = [], [], []\n",
    "\n",
    "    with torch.no_grad():\n",
    "        for i, data in enumerate(data_loader):\n",
    "            if data_loader.dataset.mode != 'test':\n",
    "                input_, target = data\n",
    "            else:\n",
    "                input_, target = data, None\n",
    "\n",
    "            output = model(input_.to(device))\n",
    "            output = activation(output)\n",
    "\n",
    "            confs, predicts = torch.topk(output, 1)\n",
    "            all_confs.append(confs)\n",
    "            all_predicts.append(predicts)\n",
    "\n",
    "            if target is not None:\n",
    "                all_targets.append(target)\n",
    "\n",
    "    predicts = torch.cat(all_predicts)\n",
    "    confs = torch.cat(all_confs)\n",
    "    targets = torch.cat(all_targets) if len(all_targets) else None\n",
    "\n",
    "    return predicts, confs, targets"
   ]
  },
  {
   "cell_type": "code",
   "execution_count": 20,
   "metadata": {
    "ExecuteTime": {
     "end_time": "2019-07-09T10:54:50.123515Z",
     "start_time": "2019-07-09T10:54:50.119526Z"
    },
    "colab": {},
    "colab_type": "code",
    "id": "Z-b-DfYuWKjQ"
   },
   "outputs": [],
   "source": [
    "def test(test_loader, model):\n",
    "    predicts, confs, targets = inference(test_loader, model)\n",
    "    predicts = predicts.cpu().numpy().flatten()\n",
    "    targets = targets.cpu().numpy().flatten()\n",
    "    return cohen_kappa_score(targets, predicts)"
   ]
  },
  {
   "cell_type": "code",
   "execution_count": 21,
   "metadata": {
    "ExecuteTime": {
     "end_time": "2019-07-09T10:54:50.388768Z",
     "start_time": "2019-07-09T10:54:50.383782Z"
    },
    "colab": {},
    "colab_type": "code",
    "id": "cl9PIY6rVl9-"
   },
   "outputs": [],
   "source": [
    "def train_loop(epochs, train_loader, test_loader, model, criterion, optimizer, \n",
    "               validate=True):\n",
    "    train_res = []\n",
    "\n",
    "    test_res = []\n",
    "    for epoch in trange(1, epochs + 1):\n",
    "        start_time = time.time()\n",
    "        train_acc = train(train_loader, model, criterion, optimizer, epoch, logging=True)\n",
    "        if has_time_run_out():\n",
    "            break\n",
    "        train_res.append(train_acc)\n",
    "\n",
    "        if validate:\n",
    "            test_acc = test(test_loader, model)\n",
    "            test_res.append(test_acc)\n",
    "            print(f\"validation score: {test_acc}\")\n",
    "            \n",
    "    return train_res, test_res"
   ]
  },
  {
   "cell_type": "code",
   "execution_count": null,
   "metadata": {},
   "outputs": [],
   "source": [
    "def generate_submission(test_loader, model, label_encoder: Any):\n",
    "    sample_sub = pd.read_csv('../input/landmark-recognition-2019/recognition_sample_submission.csv')\n",
    "\n",
    "    predicts_gpu, confs_gpu, _ = inference(test_loader, model)\n",
    "    predicts, confs = predicts_gpu.cpu().numpy(), confs_gpu.cpu().numpy()\n",
    "\n",
    "    labels = [label_encoder.inverse_transform(pred) for pred in predicts]\n",
    "    print('labels')\n",
    "    print(np.array(labels))\n",
    "    print('confs')\n",
    "    print(np.array(confs))\n",
    "\n",
    "    sub = test_loader.dataset.df\n",
    "    def concat(label: np.ndarray, conf: np.ndarray) -> str:\n",
    "        return ' '.join([f'{L} {c}' for L, c in zip(label, conf)])\n",
    "    sub['landmarks'] = [concat(label, conf) for label, conf in zip(labels, confs)]\n",
    "\n",
    "    sample_sub = sample_sub.set_index('id')\n",
    "    sub = sub.set_index('id')\n",
    "    sample_sub.update(sub)\n",
    "\n",
    "    sample_sub.to_csv('submission.csv')"
   ]
  },
  {
   "cell_type": "code",
   "execution_count": 22,
   "metadata": {
    "ExecuteTime": {
     "end_time": "2019-07-09T10:54:50.719409Z",
     "start_time": "2019-07-09T10:54:50.716417Z"
    },
    "colab": {},
    "colab_type": "code",
    "id": "0eef4m_rY7q7"
   },
   "outputs": [],
   "source": [
    "def has_time_run_out() -> bool:\n",
    "    return time.time() - global_start_time > TIME_LIMIT - 2000"
   ]
  },
  {
   "cell_type": "code",
   "execution_count": 23,
   "metadata": {
    "ExecuteTime": {
     "end_time": "2019-07-09T10:53:47.965537Z",
     "start_time": "2019-07-09T10:53:47.954567Z"
    },
    "colab": {},
    "colab_type": "code",
    "id": "h8v0pM6PY7q9"
   },
   "outputs": [],
   "source": [
    "# model = torch.hub.load('facebookresearch/WSL-Images', 'resnext101_32x8d_wsl')\n",
    "# model.fc = nn.Linear(model.fc.in_features, 5)\n",
    "# model = model.to(device)\n",
    "# criterion = nn.CrossEntropyLoss()\n",
    "# optimizer = torch.optim.Adam(model.parameters(), lr=LEARNING_RATE)"
   ]
  },
  {
   "cell_type": "code",
   "execution_count": 23,
   "metadata": {
    "ExecuteTime": {
     "end_time": "2019-07-09T10:54:54.231885Z",
     "start_time": "2019-07-09T10:54:54.014465Z"
    },
    "colab": {
     "base_uri": "https://localhost:8080/",
     "height": 88
    },
    "colab_type": "code",
    "executionInfo": {
     "elapsed": 1921,
     "status": "ok",
     "timestamp": 1562386919818,
     "user": {
      "displayName": "Zhaoxiang Cai",
      "photoUrl": "",
      "userId": "16096770806947170717"
     },
     "user_tz": -600
    },
    "id": "NABg4PqmxNpj",
    "outputId": "f55b2153-6c93-4494-c5b7-defee883f881"
   },
   "outputs": [
    {
     "name": "stdout",
     "output_type": "stream",
     "text": [
      "Loaded pretrained weights for efficientnet-b4\n"
     ]
    }
   ],
   "source": [
    "model = EfficientNet.from_pretrained('efficientnet-b4', num_classes=5)"
   ]
  },
  {
   "cell_type": "code",
   "execution_count": 75,
   "metadata": {
    "ExecuteTime": {
     "end_time": "2019-07-09T08:41:09.261860Z",
     "start_time": "2019-07-09T08:41:09.077354Z"
    },
    "colab": {
     "base_uri": "https://localhost:8080/",
     "height": 34
    },
    "colab_type": "code",
    "executionInfo": {
     "elapsed": 9505,
     "status": "ok",
     "timestamp": 1562386932352,
     "user": {
      "displayName": "Zhaoxiang Cai",
      "photoUrl": "",
      "userId": "16096770806947170717"
     },
     "user_tz": -600
    },
    "id": "1lVOgyixJPdc",
    "outputId": "40ecb123-bd53-45fa-ebe2-c256d2467755"
   },
   "outputs": [
    {
     "data": {
      "text/plain": [
       "IncompatibleKeys(missing_keys=[], unexpected_keys=[])"
      ]
     },
     "execution_count": 75,
     "metadata": {},
     "output_type": "execute_result"
    }
   ],
   "source": [
    "model.load_state_dict(torch.load(\"./model/efficientnet_os.ptm\"))"
   ]
  },
  {
   "cell_type": "code",
   "execution_count": 24,
   "metadata": {
    "ExecuteTime": {
     "end_time": "2019-07-09T10:55:00.882367Z",
     "start_time": "2019-07-09T10:54:58.559493Z"
    },
    "colab": {},
    "colab_type": "code",
    "id": "VhSNqn3nQPw-"
   },
   "outputs": [],
   "source": [
    "model = model.to(device)\n",
    "criterion = nn.CrossEntropyLoss(weight=torch.from_numpy(class_sample_count_normalised).float().cuda())\n",
    "optimizer = torch.optim.Adam(model.parameters(), lr=LEARNING_RATE)"
   ]
  },
  {
   "cell_type": "code",
   "execution_count": 38,
   "metadata": {
    "ExecuteTime": {
     "end_time": "2019-07-09T14:07:46.446598Z",
     "start_time": "2019-07-09T14:07:46.444606Z"
    },
    "colab": {},
    "colab_type": "code",
    "id": "hCWt0oxIem7H"
   },
   "outputs": [],
   "source": [
    "global_start_time = time.time()"
   ]
  },
  {
   "cell_type": "code",
   "execution_count": 39,
   "metadata": {
    "ExecuteTime": {
     "end_time": "2019-07-09T21:34:26.897322Z",
     "start_time": "2019-07-09T14:07:47.217899Z"
    },
    "colab": {
     "base_uri": "https://localhost:8080/",
     "height": 221
    },
    "colab_type": "code",
    "id": "rUIk-bqB2LJD",
    "outputId": "13dd95d2-59da-4a31-9bac-b3e9cfccbef5"
   },
   "outputs": [
    {
     "name": "stderr",
     "output_type": "stream",
     "text": [
      "\n",
      "  0%|                                                                                           | 0/20 [00:00<?, ?it/s]"
     ]
    },
    {
     "name": "stdout",
     "output_type": "stream",
     "text": [
      "1 [0/2829]\ttime 1.180 (1.180)\tloss 0.5254 (0.5254)\tGAP 1.0000 (1.0000)\n",
      "1 [200/2829]\ttime 1.026 (0.907)\tloss 0.8659 (0.8838)\tGAP 0.5000 (0.7512)\n",
      "1 [400/2829]\ttime 1.044 (0.900)\tloss 0.5438 (0.8957)\tGAP 1.0000 (0.7338)\n",
      "1 [600/2829]\ttime 0.952 (0.902)\tloss 2.1051 (0.9127)\tGAP 0.0000 (0.7342)\n",
      "1 [800/2829]\ttime 0.904 (0.899)\tloss 0.6801 (0.8770)\tGAP 1.0000 (0.7456)\n",
      "1 [1000/2829]\ttime 0.821 (0.893)\tloss 1.0331 (0.8694)\tGAP 0.7500 (0.7485)\n",
      "1 [1200/2829]\ttime 0.837 (0.893)\tloss 0.1378 (0.8557)\tGAP 1.0000 (0.7546)\n",
      "1 [1400/2829]\ttime 0.942 (0.892)\tloss 0.1404 (0.8413)\tGAP 1.0000 (0.7568)\n",
      "1 [1600/2829]\ttime 1.060 (0.890)\tloss 0.9646 (0.8423)\tGAP 0.7500 (0.7525)\n",
      "1 [1800/2829]\ttime 0.795 (0.887)\tloss 0.4742 (0.8382)\tGAP 1.0000 (0.7525)\n",
      "1 [2000/2829]\ttime 0.771 (0.886)\tloss 0.6214 (0.8337)\tGAP 0.7500 (0.7544)\n",
      "1 [2200/2829]\ttime 0.839 (0.887)\tloss 0.3125 (0.8452)\tGAP 1.0000 (0.7547)\n",
      "1 [2400/2829]\ttime 0.804 (0.887)\tloss 0.4470 (0.8457)\tGAP 0.7500 (0.7554)\n",
      "1 [2600/2829]\ttime 0.931 (0.886)\tloss 0.7499 (0.8520)\tGAP 0.7500 (0.7527)\n",
      "1 [2800/2829]\ttime 0.723 (0.886)\tloss 1.6599 (0.8566)\tGAP 0.5000 (0.7503)\n",
      " * average GAP on train 0.7499\n",
      "validation score: 0.4313590278399494\n"
     ]
    },
    {
     "name": "stderr",
     "output_type": "stream",
     "text": [
      "\n",
      "  5%|███▉                                                                          | 1/20 [49:00<15:31:03, 2940.18s/it]"
     ]
    },
    {
     "name": "stdout",
     "output_type": "stream",
     "text": [
      "2 [0/2829]\ttime 1.097 (1.097)\tloss 0.4430 (0.4430)\tGAP 1.0000 (1.0000)\n",
      "2 [200/2829]\ttime 1.044 (0.883)\tloss 0.9515 (0.7978)\tGAP 0.7500 (0.7575)\n",
      "2 [400/2829]\ttime 0.915 (0.873)\tloss 0.9818 (0.8362)\tGAP 0.7500 (0.7556)\n",
      "2 [600/2829]\ttime 0.898 (0.874)\tloss 0.5256 (0.8213)\tGAP 0.5000 (0.7558)\n",
      "2 [800/2829]\ttime 0.886 (0.873)\tloss 1.1308 (0.7797)\tGAP 0.7500 (0.7697)\n",
      "2 [1000/2829]\ttime 0.862 (0.873)\tloss 0.3163 (0.7706)\tGAP 1.0000 (0.7735)\n",
      "2 [1200/2829]\ttime 0.843 (0.877)\tloss 0.1663 (0.7621)\tGAP 1.0000 (0.7766)\n",
      "2 [1400/2829]\ttime 0.886 (0.878)\tloss 0.1387 (0.7525)\tGAP 1.0000 (0.7794)\n",
      "2 [1600/2829]\ttime 1.085 (0.876)\tloss 0.5548 (0.7556)\tGAP 1.0000 (0.7772)\n",
      "2 [1800/2829]\ttime 0.885 (0.876)\tloss 0.7974 (0.7543)\tGAP 0.7500 (0.7761)\n",
      "2 [2000/2829]\ttime 0.756 (0.877)\tloss 0.4018 (0.7517)\tGAP 0.7500 (0.7771)\n",
      "2 [2200/2829]\ttime 0.814 (0.878)\tloss 0.4088 (0.7587)\tGAP 1.0000 (0.7775)\n",
      "2 [2400/2829]\ttime 0.819 (0.878)\tloss 0.4561 (0.7594)\tGAP 0.7500 (0.7770)\n",
      "2 [2600/2829]\ttime 1.075 (0.879)\tloss 1.1692 (0.7640)\tGAP 0.5000 (0.7735)\n",
      "2 [2800/2829]\ttime 0.734 (0.880)\tloss 1.2215 (0.7696)\tGAP 0.7500 (0.7705)\n",
      " * average GAP on train 0.7704\n",
      "validation score: 0.3490366694256425\n"
     ]
    },
    {
     "name": "stderr",
     "output_type": "stream",
     "text": [
      "\n",
      " 10%|███████▌                                                                    | 2/20 [1:37:34<14:39:43, 2932.39s/it]"
     ]
    },
    {
     "name": "stdout",
     "output_type": "stream",
     "text": [
      "3 [0/2829]\ttime 1.013 (1.013)\tloss 0.7089 (0.7089)\tGAP 0.7500 (0.7500)\n",
      "3 [200/2829]\ttime 0.990 (0.880)\tloss 0.4929 (0.7063)\tGAP 0.5000 (0.7512)\n",
      "3 [400/2829]\ttime 0.942 (0.877)\tloss 0.7982 (0.7349)\tGAP 0.7500 (0.7618)\n",
      "3 [600/2829]\ttime 0.935 (0.887)\tloss 1.0816 (0.7270)\tGAP 0.5000 (0.7650)\n",
      "3 [800/2829]\ttime 0.930 (0.892)\tloss 0.5866 (0.7132)\tGAP 1.0000 (0.7681)\n",
      "3 [1000/2829]\ttime 0.882 (0.890)\tloss 0.2847 (0.7024)\tGAP 1.0000 (0.7722)\n",
      "3 [1200/2829]\ttime 0.850 (0.889)\tloss 0.4612 (0.6891)\tGAP 0.7500 (0.7771)\n",
      "3 [1400/2829]\ttime 0.961 (0.888)\tloss 0.1462 (0.6778)\tGAP 0.7500 (0.7810)\n",
      "3 [1600/2829]\ttime 1.135 (0.888)\tloss 0.1778 (0.6745)\tGAP 1.0000 (0.7811)\n",
      "3 [1800/2829]\ttime 0.858 (0.888)\tloss 0.2585 (0.6681)\tGAP 1.0000 (0.7814)\n",
      "3 [2000/2829]\ttime 0.776 (0.889)\tloss 0.3592 (0.6599)\tGAP 1.0000 (0.7855)\n",
      "3 [2200/2829]\ttime 0.795 (0.889)\tloss 0.2164 (0.6637)\tGAP 1.0000 (0.7857)\n",
      "3 [2400/2829]\ttime 0.910 (0.888)\tloss 0.1651 (0.6650)\tGAP 1.0000 (0.7857)\n",
      "3 [2600/2829]\ttime 0.993 (0.889)\tloss 0.6749 (0.6688)\tGAP 0.7500 (0.7832)\n",
      "3 [2800/2829]\ttime 0.728 (0.890)\tloss 1.3688 (0.6728)\tGAP 0.5000 (0.7800)\n",
      " * average GAP on train 0.7803\n",
      "validation score: 0.40275495221396085\n"
     ]
    },
    {
     "name": "stderr",
     "output_type": "stream",
     "text": [
      "\n",
      " 15%|███████████▍                                                                | 3/20 [2:26:39<13:51:55, 2936.21s/it]"
     ]
    },
    {
     "name": "stdout",
     "output_type": "stream",
     "text": [
      "4 [0/2829]\ttime 1.064 (1.064)\tloss 0.3591 (0.3591)\tGAP 1.0000 (1.0000)\n",
      "4 [200/2829]\ttime 1.015 (0.900)\tloss 0.3881 (0.6426)\tGAP 0.5000 (0.7575)\n",
      "4 [400/2829]\ttime 0.969 (0.897)\tloss 0.7093 (0.6585)\tGAP 0.7500 (0.7556)\n",
      "4 [600/2829]\ttime 0.886 (0.902)\tloss 0.7117 (0.6449)\tGAP 0.2500 (0.7583)\n",
      "4 [800/2829]\ttime 0.895 (0.901)\tloss 0.3611 (0.6098)\tGAP 1.0000 (0.7750)\n",
      "4 [1000/2829]\ttime 0.808 (0.894)\tloss 0.6177 (0.6125)\tGAP 0.7500 (0.7772)\n",
      "4 [1200/2829]\ttime 0.907 (0.893)\tloss 0.0470 (0.6163)\tGAP 1.0000 (0.7835)\n",
      "4 [1400/2829]\ttime 0.873 (0.896)\tloss 0.1107 (0.6053)\tGAP 1.0000 (0.7882)\n",
      "4 [1600/2829]\ttime 1.083 (0.895)\tloss 0.6788 (0.6056)\tGAP 0.7500 (0.7875)\n",
      "4 [1800/2829]\ttime 0.821 (0.893)\tloss 0.6554 (0.5992)\tGAP 0.5000 (0.7886)\n",
      "4 [2000/2829]\ttime 0.772 (0.891)\tloss 0.1789 (0.5953)\tGAP 1.0000 (0.7922)\n",
      "4 [2200/2829]\ttime 0.816 (0.891)\tloss 0.3260 (0.5971)\tGAP 1.0000 (0.7945)\n",
      "4 [2400/2829]\ttime 0.829 (0.892)\tloss 0.1948 (0.5959)\tGAP 1.0000 (0.7939)\n",
      "4 [2600/2829]\ttime 1.010 (0.892)\tloss 0.7580 (0.5980)\tGAP 0.5000 (0.7909)\n",
      "4 [2800/2829]\ttime 0.749 (0.893)\tloss 0.8746 (0.6049)\tGAP 0.7500 (0.7887)\n",
      " * average GAP on train 0.7883\n",
      "validation score: 0.3849175870873396\n"
     ]
    },
    {
     "name": "stderr",
     "output_type": "stream",
     "text": [
      "\n",
      " 20%|███████████████▏                                                            | 4/20 [3:15:50<13:04:10, 2940.64s/it]"
     ]
    },
    {
     "name": "stdout",
     "output_type": "stream",
     "text": [
      "5 [0/2829]\ttime 1.115 (1.115)\tloss 0.9353 (0.9353)\tGAP 0.7500 (0.7500)\n",
      "5 [200/2829]\ttime 1.017 (0.941)\tloss 0.3854 (0.5802)\tGAP 0.7500 (0.7823)\n",
      "5 [400/2829]\ttime 0.938 (0.920)\tloss 0.3586 (0.6003)\tGAP 0.7500 (0.7812)\n",
      "5 [600/2829]\ttime 0.881 (0.911)\tloss 0.7087 (0.6030)\tGAP 0.2500 (0.7770)\n",
      "5 [800/2829]\ttime 0.915 (0.903)\tloss 0.1160 (0.5634)\tGAP 1.0000 (0.7934)\n",
      "5 [1000/2829]\ttime 0.843 (0.900)\tloss 0.2467 (0.5473)\tGAP 1.0000 (0.7980)\n",
      "5 [1200/2829]\ttime 0.835 (0.901)\tloss 0.0777 (0.5332)\tGAP 1.0000 (0.8064)\n",
      "5 [1400/2829]\ttime 0.941 (0.900)\tloss 0.0952 (0.5332)\tGAP 1.0000 (0.8087)\n",
      "5 [1600/2829]\ttime 1.059 (0.898)\tloss 0.7376 (0.5284)\tGAP 0.7500 (0.8101)\n",
      "5 [1800/2829]\ttime 0.786 (0.895)\tloss 0.1592 (0.5317)\tGAP 1.0000 (0.8127)\n",
      "5 [2000/2829]\ttime 0.795 (0.895)\tloss 0.2289 (0.5285)\tGAP 0.7500 (0.8146)\n",
      "5 [2200/2829]\ttime 0.821 (0.897)\tloss 0.1567 (0.5253)\tGAP 1.0000 (0.8146)\n",
      "5 [2400/2829]\ttime 0.822 (0.897)\tloss 0.3790 (0.5226)\tGAP 0.7500 (0.8165)\n",
      "5 [2600/2829]\ttime 1.121 (0.897)\tloss 0.5762 (0.5331)\tGAP 0.7500 (0.8127)\n",
      "5 [2800/2829]\ttime 0.714 (0.896)\tloss 0.6087 (0.5339)\tGAP 0.5000 (0.8093)\n",
      " * average GAP on train 0.8091\n",
      "validation score: 0.36592010266695874\n"
     ]
    },
    {
     "name": "stderr",
     "output_type": "stream",
     "text": [
      "\n",
      " 25%|███████████████████                                                         | 5/20 [4:05:16<12:17:02, 2948.17s/it]"
     ]
    },
    {
     "name": "stdout",
     "output_type": "stream",
     "text": [
      "6 [0/2829]\ttime 1.040 (1.040)\tloss 0.3724 (0.3724)\tGAP 1.0000 (1.0000)\n",
      "6 [200/2829]\ttime 1.001 (0.884)\tloss 0.1791 (0.5009)\tGAP 0.7500 (0.7935)\n",
      "6 [400/2829]\ttime 0.972 (0.885)\tloss 1.0502 (0.5190)\tGAP 0.5000 (0.7943)\n",
      "6 [600/2829]\ttime 0.892 (0.890)\tloss 0.2850 (0.5047)\tGAP 0.7500 (0.8037)\n",
      "6 [800/2829]\ttime 0.907 (0.891)\tloss 0.2136 (0.4801)\tGAP 1.0000 (0.8180)\n",
      "6 [1000/2829]\ttime 0.837 (0.888)\tloss 0.4095 (0.4804)\tGAP 1.0000 (0.8217)\n",
      "6 [1200/2829]\ttime 0.828 (0.889)\tloss 0.1142 (0.4739)\tGAP 1.0000 (0.8274)\n",
      "6 [1400/2829]\ttime 0.885 (0.887)\tloss 0.0937 (0.4725)\tGAP 1.0000 (0.8291)\n",
      "6 [1600/2829]\ttime 1.060 (0.887)\tloss 0.1126 (0.4751)\tGAP 1.0000 (0.8282)\n",
      "6 [1800/2829]\ttime 0.810 (0.887)\tloss 0.3164 (0.4661)\tGAP 0.7500 (0.8329)\n",
      "6 [2000/2829]\ttime 0.762 (0.888)\tloss 0.2604 (0.4594)\tGAP 1.0000 (0.8352)\n",
      "6 [2200/2829]\ttime 0.833 (0.890)\tloss 0.7246 (0.4622)\tGAP 0.7500 (0.8331)\n",
      "6 [2400/2829]\ttime 0.898 (0.889)\tloss 0.3169 (0.4638)\tGAP 1.0000 (0.8337)\n",
      "6 [2600/2829]\ttime 1.048 (0.889)\tloss 0.5124 (0.4658)\tGAP 0.7500 (0.8313)\n",
      "6 [2800/2829]\ttime 0.741 (0.891)\tloss 0.7526 (0.4659)\tGAP 0.7500 (0.8305)\n",
      " * average GAP on train 0.8300\n",
      "validation score: 0.434384718220748\n"
     ]
    },
    {
     "name": "stderr",
     "output_type": "stream",
     "text": [
      "\n",
      " 30%|██████████████████████▊                                                     | 6/20 [4:54:25<11:27:59, 2948.52s/it]"
     ]
    },
    {
     "name": "stdout",
     "output_type": "stream",
     "text": [
      "7 [0/2829]\ttime 1.013 (1.013)\tloss 0.9734 (0.9734)\tGAP 0.7500 (0.7500)\n",
      "7 [200/2829]\ttime 0.962 (0.887)\tloss 0.2201 (0.4573)\tGAP 0.7500 (0.7985)\n",
      "7 [400/2829]\ttime 0.957 (0.890)\tloss 0.7432 (0.4432)\tGAP 0.5000 (0.8080)\n",
      "7 [600/2829]\ttime 0.913 (0.896)\tloss 0.2023 (0.4452)\tGAP 0.7500 (0.8128)\n",
      "7 [800/2829]\ttime 0.889 (0.895)\tloss 0.1994 (0.4291)\tGAP 1.0000 (0.8252)\n",
      "7 [1000/2829]\ttime 0.817 (0.891)\tloss 0.1277 (0.4145)\tGAP 1.0000 (0.8337)\n",
      "7 [1200/2829]\ttime 0.868 (0.889)\tloss 0.1517 (0.4069)\tGAP 0.7500 (0.8399)\n",
      "7 [1400/2829]\ttime 0.945 (0.890)\tloss 0.1019 (0.4096)\tGAP 1.0000 (0.8387)\n",
      "7 [1600/2829]\ttime 1.162 (0.892)\tloss 0.3331 (0.4065)\tGAP 1.0000 (0.8392)\n",
      "7 [1800/2829]\ttime 0.806 (0.892)\tloss 0.3983 (0.4089)\tGAP 0.7500 (0.8411)\n",
      "7 [2000/2829]\ttime 0.754 (0.891)\tloss 0.1063 (0.4041)\tGAP 1.0000 (0.8436)\n",
      "7 [2200/2829]\ttime 0.868 (0.891)\tloss 0.1911 (0.4041)\tGAP 1.0000 (0.8450)\n",
      "7 [2400/2829]\ttime 0.835 (0.890)\tloss 0.4586 (0.4010)\tGAP 0.7500 (0.8452)\n",
      "7 [2600/2829]\ttime 0.995 (0.892)\tloss 0.4219 (0.4049)\tGAP 0.7500 (0.8424)\n",
      "7 [2800/2829]\ttime 0.754 (0.892)\tloss 0.2867 (0.4089)\tGAP 1.0000 (0.8406)\n",
      " * average GAP on train 0.8400\n",
      "validation score: 0.3935938204999363\n"
     ]
    },
    {
     "name": "stderr",
     "output_type": "stream",
     "text": [
      "\n",
      " 35%|██████████████████████████▌                                                 | 7/20 [5:43:33<10:38:49, 2948.41s/it]"
     ]
    },
    {
     "name": "stdout",
     "output_type": "stream",
     "text": [
      "8 [0/2829]\ttime 1.075 (1.075)\tloss 0.5156 (0.5156)\tGAP 0.7500 (0.7500)\n",
      "8 [200/2829]\ttime 1.003 (0.897)\tloss 0.1284 (0.4355)\tGAP 0.7500 (0.7985)\n",
      "8 [400/2829]\ttime 1.025 (0.897)\tloss 0.4168 (0.4462)\tGAP 0.7500 (0.8092)\n",
      "8 [600/2829]\ttime 0.911 (0.900)\tloss 0.2825 (0.4441)\tGAP 0.7500 (0.8199)\n",
      "8 [800/2829]\ttime 0.911 (0.894)\tloss 0.1797 (0.4086)\tGAP 1.0000 (0.8368)\n",
      "8 [1000/2829]\ttime 0.849 (0.888)\tloss 0.1047 (0.4035)\tGAP 1.0000 (0.8419)\n",
      "8 [1200/2829]\ttime 0.858 (0.890)\tloss 0.0486 (0.3997)\tGAP 1.0000 (0.8439)\n",
      "8 [1400/2829]\ttime 0.959 (0.892)\tloss 0.1174 (0.3955)\tGAP 0.5000 (0.8469)\n",
      "8 [1600/2829]\ttime 1.066 (0.892)\tloss 0.1179 (0.3859)\tGAP 1.0000 (0.8502)\n",
      "8 [1800/2829]\ttime 0.820 (0.890)\tloss 0.4919 (0.3854)\tGAP 0.7500 (0.8498)\n",
      "8 [2000/2829]\ttime 0.774 (0.889)\tloss 0.8696 (0.3801)\tGAP 0.5000 (0.8531)\n",
      "8 [2200/2829]\ttime 0.838 (0.891)\tloss 0.3502 (0.3761)\tGAP 1.0000 (0.8544)\n",
      "8 [2400/2829]\ttime 0.821 (0.892)\tloss 0.0628 (0.3707)\tGAP 1.0000 (0.8534)\n",
      "8 [2600/2829]\ttime 0.994 (0.892)\tloss 0.3072 (0.3770)\tGAP 1.0000 (0.8503)\n",
      "8 [2800/2829]\ttime 0.724 (0.892)\tloss 0.3012 (0.3757)\tGAP 1.0000 (0.8493)\n",
      " * average GAP on train 0.8483\n",
      "validation score: 0.4087959423869041\n"
     ]
    },
    {
     "name": "stderr",
     "output_type": "stream",
     "text": [
      "\n",
      " 40%|██████████████████████████████▊                                              | 8/20 [6:32:48<9:50:02, 2950.23s/it]"
     ]
    },
    {
     "name": "stdout",
     "output_type": "stream",
     "text": [
      "9 [0/2829]\ttime 1.137 (1.137)\tloss 0.1332 (0.1332)\tGAP 1.0000 (1.0000)\n",
      "9 [200/2829]\ttime 0.984 (0.897)\tloss 0.0545 (0.3516)\tGAP 1.0000 (0.8470)\n",
      "9 [400/2829]\ttime 0.977 (0.892)\tloss 0.4023 (0.3581)\tGAP 0.7500 (0.8479)\n",
      "9 [600/2829]\ttime 0.885 (0.889)\tloss 0.1770 (0.3553)\tGAP 0.7500 (0.8465)\n",
      "9 [800/2829]\ttime 0.896 (0.888)\tloss 0.0575 (0.3410)\tGAP 1.0000 (0.8555)\n",
      "9 [1000/2829]\ttime 0.837 (0.888)\tloss 0.1108 (0.3415)\tGAP 0.7500 (0.8571)\n",
      "9 [1200/2829]\ttime 0.873 (0.889)\tloss 0.0700 (0.3371)\tGAP 1.0000 (0.8593)\n",
      "9 [1400/2829]\ttime 0.899 (0.890)\tloss 0.0948 (0.3335)\tGAP 0.7500 (0.8624)\n",
      "9 [1600/2829]\ttime 1.031 (0.886)\tloss 0.0960 (0.3327)\tGAP 1.0000 (0.8640)\n",
      "9 [1800/2829]\ttime 0.817 (0.884)\tloss 0.6015 (0.3309)\tGAP 0.7500 (0.8649)\n",
      "9 [2000/2829]\ttime 0.873 (0.886)\tloss 0.0713 (0.3280)\tGAP 1.0000 (0.8669)\n",
      "9 [2200/2829]\ttime 0.855 (0.887)\tloss 0.1924 (0.3288)\tGAP 1.0000 (0.8680)\n",
      "9 [2400/2829]\ttime 0.924 (0.887)\tloss 0.0184 (0.3309)\tGAP 1.0000 (0.8675)\n",
      "9 [2600/2829]\ttime 0.979 (0.886)\tloss 0.0989 (0.3331)\tGAP 1.0000 (0.8648)\n",
      "9 [2800/2829]\ttime 0.734 (0.886)\tloss 0.1355 (0.3373)\tGAP 1.0000 (0.8627)\n",
      " * average GAP on train 0.8628\n",
      "validation score: 0.38251080397889914\n"
     ]
    },
    {
     "name": "stderr",
     "output_type": "stream",
     "text": [
      "\n",
      " 45%|██████████████████████████████████▋                                          | 9/20 [7:21:53<9:00:36, 2948.79s/it]"
     ]
    },
    {
     "name": "stdout",
     "output_type": "stream",
     "text": [
      "10 [0/2829]\ttime 1.069 (1.069)\tloss 0.1317 (0.1317)\tGAP 1.0000 (1.0000)\n",
      "10 [200/2829]\ttime 1.001 (0.892)\tloss 0.3282 (0.3325)\tGAP 0.7500 (0.8619)\n",
      " * average GAP on train 0.8469\n"
     ]
    }
   ],
   "source": [
    "train_res, test_res = train_loop(NUM_EPOCHS, train_loader, val_loader, model, criterion, optimizer)"
   ]
  },
  {
   "cell_type": "code",
   "execution_count": 40,
   "metadata": {
    "ExecuteTime": {
     "end_time": "2019-07-09T21:34:27.095829Z",
     "start_time": "2019-07-09T21:34:26.913281Z"
    },
    "colab": {},
    "colab_type": "code",
    "id": "Pt3sseSLY7rJ"
   },
   "outputs": [],
   "source": [
    "torch.save(model.state_dict(), \"./model/efficientnet_wc.ptm\")"
   ]
  },
  {
   "cell_type": "code",
   "execution_count": 41,
   "metadata": {
    "ExecuteTime": {
     "end_time": "2019-07-09T21:34:27.129914Z",
     "start_time": "2019-07-09T21:34:27.096735Z"
    }
   },
   "outputs": [],
   "source": [
    "df_c = pd.DataFrame({'train':train_res, 'val':test_res})"
   ]
  },
  {
   "cell_type": "code",
   "execution_count": 42,
   "metadata": {
    "ExecuteTime": {
     "end_time": "2019-07-09T21:34:27.163797Z",
     "start_time": "2019-07-09T21:34:27.130803Z"
    },
    "colab": {},
    "colab_type": "code",
    "id": "0CSp229_eVx6"
   },
   "outputs": [],
   "source": [
    "df = pd.read_csv(\"./model/efficientnet_wc_log.csv\")\n",
    "df = pd.concat([df,df_c])"
   ]
  },
  {
   "cell_type": "code",
   "execution_count": 43,
   "metadata": {
    "ExecuteTime": {
     "end_time": "2019-07-09T21:34:27.244530Z",
     "start_time": "2019-07-09T21:34:27.164712Z"
    },
    "colab": {},
    "colab_type": "code",
    "id": "0CSp229_eVx6"
   },
   "outputs": [],
   "source": [
    "df.to_csv(\"./model/efficientnet_wc_log.csv\", index=False)"
   ]
  },
  {
   "cell_type": "code",
   "execution_count": 44,
   "metadata": {
    "ExecuteTime": {
     "end_time": "2019-07-09T21:34:27.398336Z",
     "start_time": "2019-07-09T21:34:27.245557Z"
    },
    "colab": {},
    "colab_type": "code",
    "id": "D8fLnY5ZfEsl"
   },
   "outputs": [
    {
     "data": {
      "text/html": [
       "<div>\n",
       "<style scoped>\n",
       "    .dataframe tbody tr th:only-of-type {\n",
       "        vertical-align: middle;\n",
       "    }\n",
       "\n",
       "    .dataframe tbody tr th {\n",
       "        vertical-align: top;\n",
       "    }\n",
       "\n",
       "    .dataframe thead th {\n",
       "        text-align: right;\n",
       "    }\n",
       "</style>\n",
       "<table border=\"1\" class=\"dataframe\">\n",
       "  <thead>\n",
       "    <tr style=\"text-align: right;\">\n",
       "      <th></th>\n",
       "      <th>train</th>\n",
       "      <th>val</th>\n",
       "    </tr>\n",
       "  </thead>\n",
       "  <tbody>\n",
       "    <tr>\n",
       "      <th>0</th>\n",
       "      <td>NaN</td>\n",
       "      <td>0.416814</td>\n",
       "    </tr>\n",
       "    <tr>\n",
       "      <th>1</th>\n",
       "      <td>NaN</td>\n",
       "      <td>0.440677</td>\n",
       "    </tr>\n",
       "    <tr>\n",
       "      <th>2</th>\n",
       "      <td>NaN</td>\n",
       "      <td>0.368532</td>\n",
       "    </tr>\n",
       "    <tr>\n",
       "      <th>0</th>\n",
       "      <td>0.749912</td>\n",
       "      <td>0.431359</td>\n",
       "    </tr>\n",
       "    <tr>\n",
       "      <th>1</th>\n",
       "      <td>0.770414</td>\n",
       "      <td>0.349037</td>\n",
       "    </tr>\n",
       "    <tr>\n",
       "      <th>2</th>\n",
       "      <td>0.780311</td>\n",
       "      <td>0.402755</td>\n",
       "    </tr>\n",
       "    <tr>\n",
       "      <th>3</th>\n",
       "      <td>0.788264</td>\n",
       "      <td>0.384918</td>\n",
       "    </tr>\n",
       "    <tr>\n",
       "      <th>4</th>\n",
       "      <td>0.809120</td>\n",
       "      <td>0.365920</td>\n",
       "    </tr>\n",
       "    <tr>\n",
       "      <th>5</th>\n",
       "      <td>0.829975</td>\n",
       "      <td>0.434385</td>\n",
       "    </tr>\n",
       "    <tr>\n",
       "      <th>6</th>\n",
       "      <td>0.840049</td>\n",
       "      <td>0.393594</td>\n",
       "    </tr>\n",
       "    <tr>\n",
       "      <th>7</th>\n",
       "      <td>0.848268</td>\n",
       "      <td>0.408796</td>\n",
       "    </tr>\n",
       "    <tr>\n",
       "      <th>8</th>\n",
       "      <td>0.862849</td>\n",
       "      <td>0.382511</td>\n",
       "    </tr>\n",
       "  </tbody>\n",
       "</table>\n",
       "</div>"
      ],
      "text/plain": [
       "      train       val\n",
       "0       NaN  0.416814\n",
       "1       NaN  0.440677\n",
       "2       NaN  0.368532\n",
       "0  0.749912  0.431359\n",
       "1  0.770414  0.349037\n",
       "2  0.780311  0.402755\n",
       "3  0.788264  0.384918\n",
       "4  0.809120  0.365920\n",
       "5  0.829975  0.434385\n",
       "6  0.840049  0.393594\n",
       "7  0.848268  0.408796\n",
       "8  0.862849  0.382511"
      ]
     },
     "execution_count": 44,
     "metadata": {},
     "output_type": "execute_result"
    }
   ],
   "source": [
    "df"
   ]
  },
  {
   "cell_type": "code",
   "execution_count": 58,
   "metadata": {
    "ExecuteTime": {
     "end_time": "2019-07-08T14:32:27.281729Z",
     "start_time": "2019-07-08T14:32:26.954514Z"
    },
    "colab": {
     "base_uri": "https://localhost:8080/",
     "height": 286
    },
    "colab_type": "code",
    "executionInfo": {
     "elapsed": 2585,
     "status": "ok",
     "timestamp": 1562302299426,
     "user": {
      "displayName": "Zhaoxiang Cai",
      "photoUrl": "",
      "userId": "16096770806947170717"
     },
     "user_tz": -600
    },
    "id": "kZEWGorWY7rF",
    "outputId": "82374964-217f-4452-90a5-bdf70b15fb43"
   },
   "outputs": [
    {
     "data": {
      "text/plain": [
       "[<matplotlib.lines.Line2D at 0x2a3dade9550>]"
      ]
     },
     "execution_count": 58,
     "metadata": {},
     "output_type": "execute_result"
    },
    {
     "data": {
      "image/png": "[encoded data removed]",
      "text/plain": [
       "<Figure size 432x288 with 1 Axes>"
      ]
     },
     "metadata": {
      "needs_background": "light"
     },
     "output_type": "display_data"
    }
   ],
   "source": [
    "plt.plot(range(df.shape[0]), df['train'], lw=2)\n",
    "plt.plot(range(df.shape[0]),  df['val'], color='orange', lw=2)"
   ]
  },
  {
   "cell_type": "code",
   "execution_count": 27,
   "metadata": {
    "ExecuteTime": {
     "end_time": "2019-07-09T14:02:27.760691Z",
     "start_time": "2019-07-09T13:55:18.940336Z"
    },
    "colab": {},
    "colab_type": "code",
    "id": "qzkBpCP-sxRS"
   },
   "outputs": [],
   "source": [
    "predicts, confs, targets = inference(val_loader, model)"
   ]
  },
  {
   "cell_type": "code",
   "execution_count": 28,
   "metadata": {
    "ExecuteTime": {
     "end_time": "2019-07-09T14:02:27.797593Z",
     "start_time": "2019-07-09T14:02:27.762686Z"
    }
   },
   "outputs": [
    {
     "name": "stdout",
     "output_type": "stream",
     "text": [
      "              precision    recall  f1-score   support\n",
      "\n",
      "           0       0.85      0.94      0.89      1969\n",
      "           1       0.20      0.12      0.15       205\n",
      "           2       0.64      0.47      0.54       460\n",
      "           3       0.56      0.61      0.58       130\n",
      "           4       0.66      0.57      0.61        65\n",
      "\n",
      "   micro avg       0.78      0.78      0.78      2829\n",
      "   macro avg       0.58      0.54      0.56      2829\n",
      "weighted avg       0.75      0.78      0.76      2829\n",
      "\n"
     ]
    }
   ],
   "source": [
    "print(classification_report(targets.cpu(), predicts.cpu()))"
   ]
  },
  {
   "cell_type": "code",
   "execution_count": 29,
   "metadata": {
    "ExecuteTime": {
     "end_time": "2019-07-09T14:02:27.805571Z",
     "start_time": "2019-07-09T14:02:27.798591Z"
    }
   },
   "outputs": [
    {
     "data": {
      "text/plain": [
       "array([[1852,   61,   49,    4,    3],\n",
       "       [ 152,   25,   25,    3,    0],\n",
       "       [ 153,   35,  216,   50,    6],\n",
       "       [   6,    3,   32,   79,   10],\n",
       "       [   9,    0,   14,    5,   37]], dtype=int64)"
      ]
     },
     "execution_count": 29,
     "metadata": {},
     "output_type": "execute_result"
    }
   ],
   "source": [
    "confusion_matrix(targets.cpu(), predicts.cpu())"
   ]
  },
  {
   "cell_type": "code",
   "execution_count": 30,
   "metadata": {
    "ExecuteTime": {
     "end_time": "2019-07-09T14:02:27.817539Z",
     "start_time": "2019-07-09T14:02:27.807566Z"
    }
   },
   "outputs": [
    {
     "data": {
      "text/plain": [
       "0.5023637989084222"
      ]
     },
     "execution_count": 30,
     "metadata": {},
     "output_type": "execute_result"
    }
   ],
   "source": [
    "cohen_kappa_score(targets.cpu(), predicts.cpu())"
   ]
  },
  {
   "cell_type": "code",
   "execution_count": 60,
   "metadata": {
    "ExecuteTime": {
     "end_time": "2019-07-09T08:21:58.812226Z",
     "start_time": "2019-07-09T08:21:58.780312Z"
    }
   },
   "outputs": [
    {
     "data": {
      "text/plain": [
       "0.4769054675621083"
      ]
     },
     "execution_count": 60,
     "metadata": {},
     "output_type": "execute_result"
    }
   ],
   "source": [
    "cohen_kappa_score(targets.cpu(), predicts.cpu())"
   ]
  },
  {
   "cell_type": "code",
   "execution_count": null,
   "metadata": {},
   "outputs": [],
   "source": []
  }
 ],
 "metadata": {
  "accelerator": "GPU",
  "colab": {
   "collapsed_sections": [],
   "name": "syd_innovation.ipynb",
   "provenance": [],
   "version": "0.3.2"
  },
  "kernelspec": {
   "display_name": "Python 3",
   "language": "python",
   "name": "python3"
  },
  "language_info": {
   "codemirror_mode": {
    "name": "ipython",
    "version": 3
   },
   "file_extension": ".py",
   "mimetype": "text/x-python",
   "name": "python",
   "nbconvert_exporter": "python",
   "pygments_lexer": "ipython3",
   "version": "3.7.1"
  },
  "notify_time": "5",
  "toc": {
   "base_numbering": 1,
   "nav_menu": {},
   "number_sections": true,
   "sideBar": true,
   "skip_h1_title": false,
   "title_cell": "Table of Contents",
   "title_sidebar": "Contents",
   "toc_cell": false,
   "toc_position": {},
   "toc_section_display": true,
   "toc_window_display": false
  }
 },
 "nbformat": 4,
 "nbformat_minor": 1
}
